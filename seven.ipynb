{
 "cells": [
  {
   "cell_type": "code",
   "execution_count": 1,
   "id": "e6f11cea",
   "metadata": {},
   "outputs": [
    {
     "name": "stderr",
     "output_type": "stream",
     "text": [
      "/opt/anaconda3/lib/python3.12/site-packages/Bio/pairwise2.py:278: BiopythonDeprecationWarning: Bio.pairwise2 has been deprecated, and we intend to remove it in a future release of Biopython. As an alternative, please consider using Bio.Align.PairwiseAligner as a replacement, and contact the Biopython developers if you still need the Bio.pairwise2 module.\n",
      "  warnings.warn(\n"
     ]
    }
   ],
   "source": [
    "from Bio import pairwise2\n",
    "from Bio import SeqIO\n",
    "seq1 = SeqIO.read(\"alpha.faa\", \"fasta\")\n",
    "seq2 = SeqIO.read(\"beta.faa\", \"fasta\")\n",
    "alignments = pairwise2.align.globalxx(seq1.seq, seq2.seq)"
   ]
  },
  {
   "cell_type": "code",
   "execution_count": 2,
   "id": "cca868a2",
   "metadata": {},
   "outputs": [
    {
     "data": {
      "text/plain": [
       "80"
      ]
     },
     "execution_count": 2,
     "metadata": {},
     "output_type": "execute_result"
    }
   ],
   "source": [
    "len(alignments)"
   ]
  },
  {
   "cell_type": "code",
   "execution_count": 3,
   "id": "5f430fdb",
   "metadata": {},
   "outputs": [
    {
     "name": "stdout",
     "output_type": "stream",
     "text": [
      "Alignment(seqA='MV-LSPADKTNV---K-A--A-WGKVGAHAG---EY-GA-EALE-RMFLSF----PTTK-TY--FPHFDL-SH-G--S---AQVK-G------HGKKV--A--DA-LTNAVAHVD-DMPNALS----A-LSD-LHAH--KLR-VDPV-NFKL-LSHCL---LVT--LAAHLPA----EFTPA-VH-ASLDKFLAS---VSTV------LTS--KYR-', seqB='MVHL-----T--PEEKSAVTALWGKV-----NVDE-VG-GEAL-GR--L--LVVYP---WT-QRF--F--ES-FGDLSTPDA-V-MGNPKVKAHGKKVLGAFSD-GL----AH--LD--N-L-KGTFATLS-EL--HCDKL-HVDP-ENF--RL---LGNVLV-CVL-AH---HFGKEFTP-PV-QA------A-YQKV--VAGVANAL--AHKY-H', score=72.0, start=0, end=217)\n"
     ]
    }
   ],
   "source": [
    "print(alignments[0])"
   ]
  },
  {
   "cell_type": "code",
   "execution_count": 4,
   "id": "6d99a4d0",
   "metadata": {},
   "outputs": [
    {
     "name": "stdout",
     "output_type": "stream",
     "text": [
      "MV-LSPADKTNV---K-A--A-WGKVGAHAG---EY-GA-EALE-RMFLSF----PTTK-TY--FPHFDL-SH-G--S---AQVK-G------HGKKV--A--DA-LTNAVAHVD-DMPNALS----A-LSD-LHAH--KLR-VDPV-NFKL-LSHCL---LVT--LAAHLPA----EFTPA-VH-ASLDKFLAS---VSTV------LTS--KYR-\n",
      "|| |     |     | |  | ||||        |  |  |||  |  |      |    |   |  |   |  |  |   | |  |      |||||  |  |  |    ||   |  | |     | ||  |  |  ||  |||  ||   |   |   ||   | ||       ||||  |  |      |    |  |      |    ||  \n",
      "MVHL-----T--PEEKSAVTALWGKV-----NVDE-VG-GEAL-GR--L--LVVYP---WT-QRF--F--ES-FGDLSTPDA-V-MGNPKVKAHGKKVLGAFSD-GL----AH--LD--N-L-KGTFATLS-EL--HCDKL-HVDP-ENF--RL---LGNVLV-CVL-AH---HFGKEFTP-PV-QA------A-YQKV--VAGVANAL--AHKY-H\n",
      "  Score=72\n",
      "\n"
     ]
    }
   ],
   "source": [
    "print(pairwise2.format_alignment(*alignments[0]))"
   ]
  },
  {
   "cell_type": "code",
   "execution_count": 5,
   "id": "b6b85dd1",
   "metadata": {},
   "outputs": [],
   "source": [
    "alignments = pairwise2.align.globalxx(sequenceA=seq1.seq, sequenceB=seq2.seq)"
   ]
  },
  {
   "cell_type": "code",
   "execution_count": 6,
   "id": "3e566f7d",
   "metadata": {},
   "outputs": [
    {
     "data": {
      "text/plain": [
       "2"
      ]
     },
     "execution_count": 6,
     "metadata": {},
     "output_type": "execute_result"
    }
   ],
   "source": [
    "from Bio import pairwise2\n",
    "from Bio import SeqIO\n",
    "from Bio.Align import substitution_matrices\n",
    "blosum62 = substitution_matrices.load(\"BLOSUM62\")\n",
    "seq1 = SeqIO.read(\"alpha.faa\", \"fasta\")\n",
    "seq2 = SeqIO.read(\"beta.faa\", \"fasta\")\n",
    "alignments = pairwise2.align.globalds(seq1.seq, seq2.seq, blosum62, -10, -0.5)\n",
    "len(alignments)"
   ]
  },
  {
   "cell_type": "code",
   "execution_count": 7,
   "id": "fad7f75b",
   "metadata": {},
   "outputs": [
    {
     "name": "stdout",
     "output_type": "stream",
     "text": [
      "MV-LSPADKTNVKAAWGKVGAHAGEYGAEALERMFLSFPTTKTYFPHF-DLS-----HGSAQVKGHGKKVADALTNAVAHVDDMPNALSALSDLHAHKLRVDPVNFKLLSHCLLVTLAAHLPAEFTPAVHASLDKFLASVSTVLTSKYR\n",
      "|| |.|..|..|.|.||||  ...|.|.|||.|.....|.|...|..| |||     .|...||.|||||..|.....||.|........||.||..||.|||.||.||...|...||.|...||||.|.|...|..|.|...|..||.\n",
      "MVHLTPEEKSAVTALWGKV--NVDEVGGEALGRLLVVYPWTQRFFESFGDLSTPDAVMGNPKVKAHGKKVLGAFSDGLAHLDNLKGTFATLSELHCDKLHVDPENFRLLGNVLVCVLAHHFGKEFTPPVQAAYQKVVAGVANALAHKYH\n",
      "  Score=292.5\n",
      "\n"
     ]
    }
   ],
   "source": [
    "print(pairwise2.format_alignment(*alignments[0]))"
   ]
  },
  {
   "cell_type": "code",
   "execution_count": 8,
   "id": "154e0da6",
   "metadata": {},
   "outputs": [
    {
     "name": "stdout",
     "output_type": "stream",
     "text": [
      "3 PADKTNV\n",
      "  |..|..|\n",
      "1 PEEKSAV\n",
      "  Score=16\n",
      "\n"
     ]
    }
   ],
   "source": [
    "from Bio import pairwise2\n",
    "from Bio.Align import substitution_matrices\n",
    "blosum62 = substitution_matrices.load(\"BLOSUM62\")\n",
    "alignments = pairwise2.align.localds(\"LSPADKTNVKAA\", \"PEEKSAV\", blosum62, -10, -1)\n",
    "print(pairwise2.format_alignment(*alignments[0]))"
   ]
  },
  {
   "cell_type": "code",
   "execution_count": 9,
   "id": "36893cea",
   "metadata": {},
   "outputs": [
    {
     "name": "stdout",
     "output_type": "stream",
     "text": [
      "LSPADKTNVKAA\n",
      "  |..|..|   \n",
      "--PEEKSAV---\n",
      "  Score=16\n",
      "\n"
     ]
    }
   ],
   "source": [
    "from Bio import pairwise2\n",
    "from Bio.Align import substitution_matrices\n",
    "blosum62 = substitution_matrices.load(\"BLOSUM62\")\n",
    "alignments = pairwise2.align.localds(\"LSPADKTNVKAA\", \"PEEKSAV\", blosum62, -10, -1)\n",
    "print(pairwise2.format_alignment(*alignments[0], full_sequences=True))"
   ]
  },
  {
   "cell_type": "code",
   "execution_count": 10,
   "id": "fc6f43ee",
   "metadata": {},
   "outputs": [
    {
     "name": "stdout",
     "output_type": "stream",
     "text": [
      "4 PADKTNV\n",
      "  |..|..|\n",
      "3 PEEKSAV\n",
      "  Score=16\n",
      "\n"
     ]
    }
   ],
   "source": [
    "from Bio import pairwise2\n",
    "from Bio.Align import substitution_matrices\n",
    "blosum62 = substitution_matrices.load(\"BLOSUM62\")\n",
    "alignments = pairwise2.align.localds(\"LSSPADKTNVKKAA\", \"DDPEEKSAVNN\", blosum62, -10, -1)\n",
    "print(pairwise2.format_alignment(*alignments[0]))"
   ]
  },
  {
   "cell_type": "code",
   "execution_count": 11,
   "id": "aac09a4f",
   "metadata": {},
   "outputs": [
    {
     "name": "stdout",
     "output_type": "stream",
     "text": [
      "2 GAAC\n",
      "  | ||\n",
      "1 G-AC\n",
      "  Score=13\n",
      "\n"
     ]
    }
   ],
   "source": [
    "alignments = pairwise2.align.localms(\"AGAACT\", \"GAC\", 5, -4, -2, -0.5)\n",
    "print(pairwise2.format_alignment(*alignments[0]))"
   ]
  }
 ],
 "metadata": {
  "kernelspec": {
   "display_name": "base",
   "language": "python",
   "name": "python3"
  },
  "language_info": {
   "codemirror_mode": {
    "name": "ipython",
    "version": 3
   },
   "file_extension": ".py",
   "mimetype": "text/x-python",
   "name": "python",
   "nbconvert_exporter": "python",
   "pygments_lexer": "ipython3",
   "version": "3.12.7"
  }
 },
 "nbformat": 4,
 "nbformat_minor": 5
}
