{
 "cells": [
  {
   "cell_type": "code",
   "execution_count": 1,
   "id": "9882daf2",
   "metadata": {},
   "outputs": [
    {
     "name": "stdout",
     "output_type": "stream",
     "text": [
      "Program: blastn (2.17.0+)\n",
      "  Query: Z78533.1 (740)\n",
      "         C.irapeanum 5.8S rRNA gene and ITS1 and ITS2 DNA\n",
      " Target: core_nt\n",
      "   Hits: ----  -----  ----------------------------------------------------------\n",
      "            #  # HSP  ID + description\n",
      "         ----  -----  ----------------------------------------------------------\n",
      "            0      1  gi|2765658|emb|Z78533.1|  C.irapeanum 5.8S rRNA gene an...\n",
      "            1      1  gi|751868575|gb|KJ939539.1|  Cypripedium irapeanum vouc...\n",
      "            2      1  gi|347626748|emb|FR720328.1|  Cypripedium irapeanum ITS...\n",
      "            3      1  gi|347626747|emb|FR720327.1|  Cypripedium molle ITS1, 5...\n",
      "            4      1  gi|751868574|gb|KJ939538.1|  Cypripedium dickinsonianum...\n",
      "            5      1  gi|402502938|gb|JQ660885.1|  Cypripedium dickinsonianum...\n",
      "            6      1  gi|2765653|emb|Z78528.1|  C.plectrochilum 5.8S rRNA gen...\n",
      "            7      1  gi|340742827|gb|JN018077.1|  Cypripedium plectrochilum ...\n",
      "            8      1  gi|350999033|gb|JF796899.1|  Cypripedium arietinum inte...\n",
      "            9      1  gi|380005818|gb|JQ004993.1|  Cypripedium plectrochilum ...\n",
      "           10      1  gi|2765656|emb|Z78531.1|  C.fasciculatum 5.8S rRNA gene...\n",
      "           11      1  gi|751868570|gb|KJ939534.1|  Cypripedium subtropicum vo...\n",
      "           12      1  gi|350999061|gb|JF796927.1|  Cypripedium fasciculatum i...\n",
      "           13      1  gi|350999058|gb|JF796924.1|  Cypripedium wardii interna...\n",
      "           14      1  gi|2765645|emb|Z78520.1|  C.segawai 5.8S rRNA gene and ...\n",
      "           15      1  gi|1382343100|gb|MH250186.1|  Cypripedium calceolus iso...\n",
      "           16      1  gi|1434743038|gb|MF543769.1|  Cypripedium calceolus vou...\n",
      "           17      1  gi|751868566|gb|KJ939530.1|  Cypripedium macranthos vou...\n",
      "           18      1  gi|751868569|gb|KJ939533.1|  Cypripedium farreri vouche...\n",
      "           19      1  gi|1382343101|gb|MH250187.1|  Cypripedium calceolus iso...\n",
      "           20      1  gi|1434743037|gb|MF543768.1|  Cypripedium calceolus vou...\n",
      "           21      1  gi|49425161|gb|AY557232.1|  Cypripedium calceolus 18S r...\n",
      "           22      1  gi|751868571|gb|KJ939535.1|  Cypripedium tibeticum vouc...\n",
      "           23      1  gi|1434743036|gb|MF543767.1|  Cypripedium calceolus vou...\n",
      "           24      1  gi|1382343099|gb|MH250185.1|  Cypripedium calceolus iso...\n",
      "           25      1  gi|1434743039|gb|MF543770.1|  Cypripedium calceolus vou...\n",
      "           26      1  gi|350999051|gb|JF796917.1|  Cypripedium reginae f. alb...\n",
      "           27      1  gi|751868568|gb|KJ939532.1|  Cypripedium calcicola vouc...\n",
      "           28      1  gi|751868572|gb|KJ939536.1|  Cypripedium franchetii vou...\n",
      "           29      1  gi|340742828|gb|JN018078.1|  Cypripedium calcicola 18S ...\n",
      "           ~~~\n",
      "           47      1  gi|2030163945|gb|MZ044300.1|  Cypripedium calceolus iso...\n",
      "           48      1  gi|2030163944|gb|MZ044299.1|  Cypripedium calceolus iso...\n",
      "           49      1  gi|2030163943|gb|MZ044298.1|  Cypripedium calceolus iso...\n"
     ]
    }
   ],
   "source": [
    "from Bio import SearchIO\n",
    "blast_qresult = SearchIO.read(\"my_blast.xml\", \"blast-xml\")\n",
    "print(blast_qresult)"
   ]
  },
  {
   "cell_type": "code",
   "execution_count": 2,
   "id": "7c86a9d3",
   "metadata": {},
   "outputs": [
    {
     "name": "stdout",
     "output_type": "stream",
     "text": [
      "Program: blat (<unknown version>)\n",
      "  Query: mystery_seq (61)\n",
      "         <unknown description>\n",
      " Target: <unknown target>\n",
      "   Hits: ----  -----  ----------------------------------------------------------\n",
      "            #  # HSP  ID + description\n",
      "         ----  -----  ----------------------------------------------------------\n",
      "            0     17  chr19  <unknown description>\n"
     ]
    }
   ],
   "source": [
    "blat_qresult = SearchIO.read(\"my_blat.psl\", \"blat-psl\")\n",
    "print(blat_qresult)"
   ]
  },
  {
   "cell_type": "code",
   "execution_count": 3,
   "id": "daf38f91",
   "metadata": {},
   "outputs": [
    {
     "name": "stdout",
     "output_type": "stream",
     "text": [
      "blastn 2.17.0+\n"
     ]
    }
   ],
   "source": [
    "print(\"%s %s\" % (blast_qresult.program, blast_qresult.version))"
   ]
  },
  {
   "cell_type": "code",
   "execution_count": 4,
   "id": "320ae032",
   "metadata": {},
   "outputs": [
    {
     "name": "stdout",
     "output_type": "stream",
     "text": [
      "blat <unknown version>\n"
     ]
    }
   ],
   "source": [
    "print(\"%s %s\" % (blat_qresult.program, blat_qresult.version))"
   ]
  },
  {
   "cell_type": "code",
   "execution_count": 5,
   "id": "b0549aed",
   "metadata": {},
   "outputs": [
    {
     "data": {
      "text/plain": [
       "10.0"
      ]
     },
     "execution_count": 5,
     "metadata": {},
     "output_type": "execute_result"
    }
   ],
   "source": [
    "blast_qresult.param_evalue_threshold  # blast-xml specific"
   ]
  },
  {
   "cell_type": "code",
   "execution_count": 6,
   "id": "142ac229",
   "metadata": {},
   "outputs": [],
   "source": [
    "for hit in blast_qresult:\n",
    "    hit"
   ]
  },
  {
   "cell_type": "code",
   "execution_count": 7,
   "id": "8e84ba3b",
   "metadata": {},
   "outputs": [
    {
     "data": {
      "text/plain": [
       "50"
      ]
     },
     "execution_count": 7,
     "metadata": {},
     "output_type": "execute_result"
    }
   ],
   "source": [
    "len(blast_qresult)"
   ]
  },
  {
   "cell_type": "code",
   "execution_count": 8,
   "id": "bb75d80d",
   "metadata": {},
   "outputs": [
    {
     "data": {
      "text/plain": [
       "1"
      ]
     },
     "execution_count": 8,
     "metadata": {},
     "output_type": "execute_result"
    }
   ],
   "source": [
    "len(blat_qresult)"
   ]
  },
  {
   "cell_type": "code",
   "execution_count": 9,
   "id": "17214c5a",
   "metadata": {},
   "outputs": [
    {
     "data": {
      "text/plain": [
       "Hit(id='gi|2765658|emb|Z78533.1|', query_id='Z78533.1', 1 hsps)"
      ]
     },
     "execution_count": 9,
     "metadata": {},
     "output_type": "execute_result"
    }
   ],
   "source": [
    "blast_qresult[0]  # retrieves the top hit"
   ]
  },
  {
   "cell_type": "code",
   "execution_count": 10,
   "id": "0bc07b7b",
   "metadata": {},
   "outputs": [
    {
     "data": {
      "text/plain": [
       "Hit(id='gi|2030163943|gb|MZ044298.1|', query_id='Z78533.1', 1 hsps)"
      ]
     },
     "execution_count": 10,
     "metadata": {},
     "output_type": "execute_result"
    }
   ],
   "source": [
    "blast_qresult[-1]  # retrieves the last hit"
   ]
  },
  {
   "cell_type": "code",
   "execution_count": 11,
   "id": "993071df",
   "metadata": {},
   "outputs": [
    {
     "name": "stdout",
     "output_type": "stream",
     "text": [
      "Program: blastn (2.17.0+)\n",
      "  Query: Z78533.1 (740)\n",
      "         C.irapeanum 5.8S rRNA gene and ITS1 and ITS2 DNA\n",
      " Target: core_nt\n",
      "   Hits: ----  -----  ----------------------------------------------------------\n",
      "            #  # HSP  ID + description\n",
      "         ----  -----  ----------------------------------------------------------\n",
      "            0      1  gi|2765658|emb|Z78533.1|  C.irapeanum 5.8S rRNA gene an...\n",
      "            1      1  gi|751868575|gb|KJ939539.1|  Cypripedium irapeanum vouc...\n",
      "            2      1  gi|347626748|emb|FR720328.1|  Cypripedium irapeanum ITS...\n"
     ]
    }
   ],
   "source": [
    "blast_slice = blast_qresult[:3]  # slices the first three hits\n",
    "print(blast_slice)"
   ]
  },
  {
   "cell_type": "code",
   "execution_count": 12,
   "id": "2bab561b",
   "metadata": {},
   "outputs": [
    {
     "data": {
      "text/plain": [
       "Hit(id='gi|347626748|emb|FR720328.1|', query_id='Z78533.1', 1 hsps)"
      ]
     },
     "execution_count": 12,
     "metadata": {},
     "output_type": "execute_result"
    }
   ],
   "source": [
    "blast_qresult[\"gi|347626748|emb|FR720328.1|\"]"
   ]
  },
  {
   "cell_type": "code",
   "execution_count": 13,
   "id": "b7792fe8",
   "metadata": {},
   "outputs": [
    {
     "data": {
      "text/plain": [
       "[Hit(id='gi|2765658|emb|Z78533.1|', query_id='Z78533.1', 1 hsps),\n",
       " Hit(id='gi|751868575|gb|KJ939539.1|', query_id='Z78533.1', 1 hsps),\n",
       " Hit(id='gi|347626748|emb|FR720328.1|', query_id='Z78533.1', 1 hsps),\n",
       " Hit(id='gi|347626747|emb|FR720327.1|', query_id='Z78533.1', 1 hsps),\n",
       " Hit(id='gi|751868574|gb|KJ939538.1|', query_id='Z78533.1', 1 hsps),\n",
       " Hit(id='gi|402502938|gb|JQ660885.1|', query_id='Z78533.1', 1 hsps),\n",
       " Hit(id='gi|2765653|emb|Z78528.1|', query_id='Z78533.1', 1 hsps),\n",
       " Hit(id='gi|340742827|gb|JN018077.1|', query_id='Z78533.1', 1 hsps),\n",
       " Hit(id='gi|350999033|gb|JF796899.1|', query_id='Z78533.1', 1 hsps),\n",
       " Hit(id='gi|380005818|gb|JQ004993.1|', query_id='Z78533.1', 1 hsps),\n",
       " Hit(id='gi|2765656|emb|Z78531.1|', query_id='Z78533.1', 1 hsps),\n",
       " Hit(id='gi|751868570|gb|KJ939534.1|', query_id='Z78533.1', 1 hsps),\n",
       " Hit(id='gi|350999061|gb|JF796927.1|', query_id='Z78533.1', 1 hsps),\n",
       " Hit(id='gi|350999058|gb|JF796924.1|', query_id='Z78533.1', 1 hsps),\n",
       " Hit(id='gi|2765645|emb|Z78520.1|', query_id='Z78533.1', 1 hsps),\n",
       " Hit(id='gi|1382343100|gb|MH250186.1|', query_id='Z78533.1', 1 hsps),\n",
       " Hit(id='gi|1434743038|gb|MF543769.1|', query_id='Z78533.1', 1 hsps),\n",
       " Hit(id='gi|751868566|gb|KJ939530.1|', query_id='Z78533.1', 1 hsps),\n",
       " Hit(id='gi|751868569|gb|KJ939533.1|', query_id='Z78533.1', 1 hsps),\n",
       " Hit(id='gi|1382343101|gb|MH250187.1|', query_id='Z78533.1', 1 hsps),\n",
       " Hit(id='gi|1434743037|gb|MF543768.1|', query_id='Z78533.1', 1 hsps),\n",
       " Hit(id='gi|49425161|gb|AY557232.1|', query_id='Z78533.1', 1 hsps),\n",
       " Hit(id='gi|751868571|gb|KJ939535.1|', query_id='Z78533.1', 1 hsps),\n",
       " Hit(id='gi|1434743036|gb|MF543767.1|', query_id='Z78533.1', 1 hsps),\n",
       " Hit(id='gi|1382343099|gb|MH250185.1|', query_id='Z78533.1', 1 hsps),\n",
       " Hit(id='gi|1434743039|gb|MF543770.1|', query_id='Z78533.1', 1 hsps),\n",
       " Hit(id='gi|350999051|gb|JF796917.1|', query_id='Z78533.1', 1 hsps),\n",
       " Hit(id='gi|751868568|gb|KJ939532.1|', query_id='Z78533.1', 1 hsps),\n",
       " Hit(id='gi|751868572|gb|KJ939536.1|', query_id='Z78533.1', 1 hsps),\n",
       " Hit(id='gi|340742828|gb|JN018078.1|', query_id='Z78533.1', 1 hsps),\n",
       " Hit(id='gi|380005812|gb|JQ004987.1|', query_id='Z78533.1', 1 hsps),\n",
       " Hit(id='gi|380005815|gb|JQ004990.1|', query_id='Z78533.1', 1 hsps),\n",
       " Hit(id='gi|340742821|gb|JN018071.1|', query_id='Z78533.1', 1 hsps),\n",
       " Hit(id='gi|350999030|gb|JF796896.1|', query_id='Z78533.1', 1 hsps),\n",
       " Hit(id='gi|380005817|gb|JQ004992.1|', query_id='Z78533.1', 1 hsps),\n",
       " Hit(id='gi|380005814|gb|JQ004989.1|', query_id='Z78533.1', 1 hsps),\n",
       " Hit(id='gi|2030163935|gb|MZ044290.1|', query_id='Z78533.1', 1 hsps),\n",
       " Hit(id='gi|2011261287|gb|MW785559.1|', query_id='Z78533.1', 1 hsps),\n",
       " Hit(id='gi|2929215179|gb|PV278151.1|', query_id='Z78533.1', 1 hsps),\n",
       " Hit(id='gi|380005820|gb|JQ004995.1|', query_id='Z78533.1', 1 hsps),\n",
       " Hit(id='gi|2030163939|gb|MZ044294.1|', query_id='Z78533.1', 1 hsps),\n",
       " Hit(id='gi|2030163940|gb|MZ044295.1|', query_id='Z78533.1', 1 hsps),\n",
       " Hit(id='gi|2030163946|gb|MZ044301.1|', query_id='Z78533.1', 1 hsps),\n",
       " Hit(id='gi|2030163938|gb|MZ044293.1|', query_id='Z78533.1', 1 hsps),\n",
       " Hit(id='gi|2030163937|gb|MZ044292.1|', query_id='Z78533.1', 1 hsps),\n",
       " Hit(id='gi|2030163941|gb|MZ044296.1|', query_id='Z78533.1', 1 hsps),\n",
       " Hit(id='gi|2030163942|gb|MZ044297.1|', query_id='Z78533.1', 1 hsps),\n",
       " Hit(id='gi|2030163945|gb|MZ044300.1|', query_id='Z78533.1', 1 hsps),\n",
       " Hit(id='gi|2030163944|gb|MZ044299.1|', query_id='Z78533.1', 1 hsps),\n",
       " Hit(id='gi|2030163943|gb|MZ044298.1|', query_id='Z78533.1', 1 hsps)]"
      ]
     },
     "execution_count": 13,
     "metadata": {},
     "output_type": "execute_result"
    }
   ],
   "source": [
    "blast_qresult.hits"
   ]
  },
  {
   "cell_type": "code",
   "execution_count": 14,
   "id": "2f9c3b4c",
   "metadata": {},
   "outputs": [
    {
     "data": {
      "text/plain": [
       "['gi|2765658|emb|Z78533.1|',\n",
       " 'gi|751868575|gb|KJ939539.1|',\n",
       " 'gi|347626748|emb|FR720328.1|',\n",
       " 'gi|347626747|emb|FR720327.1|',\n",
       " 'gi|751868574|gb|KJ939538.1|',\n",
       " 'gi|402502938|gb|JQ660885.1|',\n",
       " 'gi|2765653|emb|Z78528.1|',\n",
       " 'gi|340742827|gb|JN018077.1|',\n",
       " 'gi|350999033|gb|JF796899.1|',\n",
       " 'gi|380005818|gb|JQ004993.1|',\n",
       " 'gi|2765656|emb|Z78531.1|',\n",
       " 'gi|751868570|gb|KJ939534.1|',\n",
       " 'gi|350999061|gb|JF796927.1|',\n",
       " 'gi|350999058|gb|JF796924.1|',\n",
       " 'gi|2765645|emb|Z78520.1|',\n",
       " 'gi|1382343100|gb|MH250186.1|',\n",
       " 'gi|1434743038|gb|MF543769.1|',\n",
       " 'gi|751868566|gb|KJ939530.1|',\n",
       " 'gi|751868569|gb|KJ939533.1|',\n",
       " 'gi|1382343101|gb|MH250187.1|',\n",
       " 'gi|1434743037|gb|MF543768.1|',\n",
       " 'gi|49425161|gb|AY557232.1|',\n",
       " 'gi|751868571|gb|KJ939535.1|',\n",
       " 'gi|1434743036|gb|MF543767.1|',\n",
       " 'gi|1382343099|gb|MH250185.1|',\n",
       " 'gi|1434743039|gb|MF543770.1|',\n",
       " 'gi|350999051|gb|JF796917.1|',\n",
       " 'gi|751868568|gb|KJ939532.1|',\n",
       " 'gi|751868572|gb|KJ939536.1|',\n",
       " 'gi|340742828|gb|JN018078.1|',\n",
       " 'gi|380005812|gb|JQ004987.1|',\n",
       " 'gi|380005815|gb|JQ004990.1|',\n",
       " 'gi|340742821|gb|JN018071.1|',\n",
       " 'gi|350999030|gb|JF796896.1|',\n",
       " 'gi|380005817|gb|JQ004992.1|',\n",
       " 'gi|380005814|gb|JQ004989.1|',\n",
       " 'gi|2030163935|gb|MZ044290.1|',\n",
       " 'gi|2011261287|gb|MW785559.1|',\n",
       " 'gi|2929215179|gb|PV278151.1|',\n",
       " 'gi|380005820|gb|JQ004995.1|',\n",
       " 'gi|2030163939|gb|MZ044294.1|',\n",
       " 'gi|2030163940|gb|MZ044295.1|',\n",
       " 'gi|2030163946|gb|MZ044301.1|',\n",
       " 'gi|2030163938|gb|MZ044293.1|',\n",
       " 'gi|2030163937|gb|MZ044292.1|',\n",
       " 'gi|2030163941|gb|MZ044296.1|',\n",
       " 'gi|2030163942|gb|MZ044297.1|',\n",
       " 'gi|2030163945|gb|MZ044300.1|',\n",
       " 'gi|2030163944|gb|MZ044299.1|',\n",
       " 'gi|2030163943|gb|MZ044298.1|']"
      ]
     },
     "execution_count": 14,
     "metadata": {},
     "output_type": "execute_result"
    }
   ],
   "source": [
    "blast_qresult.hit_keys"
   ]
  },
  {
   "cell_type": "code",
   "execution_count": 15,
   "id": "baaa41d8",
   "metadata": {},
   "outputs": [
    {
     "data": {
      "text/plain": [
       "False"
      ]
     },
     "execution_count": 15,
     "metadata": {},
     "output_type": "execute_result"
    }
   ],
   "source": [
    "\"gi|262205317|ref|NR_030195.1|\" in blast_qresult"
   ]
  },
  {
   "cell_type": "code",
   "execution_count": 16,
   "id": "94607990",
   "metadata": {},
   "outputs": [
    {
     "data": {
      "text/plain": [
       "False"
      ]
     },
     "execution_count": 16,
     "metadata": {},
     "output_type": "execute_result"
    }
   ],
   "source": [
    "\"gi|262205317|ref|NR_030194.1|\" in blast_qresult"
   ]
  },
  {
   "cell_type": "code",
   "execution_count": 17,
   "id": "6529754a",
   "metadata": {},
   "outputs": [
    {
     "data": {
      "text/plain": [
       "2"
      ]
     },
     "execution_count": 17,
     "metadata": {},
     "output_type": "execute_result"
    }
   ],
   "source": [
    "blast_qresult.index(\"gi|347626748|emb|FR720328.1|\")"
   ]
  },
  {
   "cell_type": "code",
   "execution_count": 18,
   "id": "f5c9af52",
   "metadata": {},
   "outputs": [
    {
     "name": "stdout",
     "output_type": "stream",
     "text": [
      "gi|2765658|emb|Z78533.1| 740\n",
      "gi|751868575|gb|KJ939539.1| 745\n",
      "gi|347626748|emb|FR720328.1| 723\n",
      "gi|347626747|emb|FR720327.1| 723\n",
      "gi|751868574|gb|KJ939538.1| 760\n"
     ]
    }
   ],
   "source": [
    "for hit in blast_qresult[:5]:  # id and sequence length of the first five hits\n",
    "    print(\"%s %i\" % (hit.id, hit.seq_len))"
   ]
  },
  {
   "cell_type": "code",
   "execution_count": 19,
   "id": "1dc95d30",
   "metadata": {},
   "outputs": [
    {
     "name": "stdout",
     "output_type": "stream",
     "text": [
      "gi|49425161|gb|AY557232.1| 983\n",
      "gi|1434743037|gb|MF543768.1| 851\n",
      "gi|1434743038|gb|MF543769.1| 850\n",
      "gi|1434743036|gb|MF543767.1| 847\n",
      "gi|1382343101|gb|MH250187.1| 819\n"
     ]
    }
   ],
   "source": [
    "sort_key = lambda hit: hit.seq_len\n",
    "sorted_qresult = blast_qresult.sort(key=sort_key, reverse=True, in_place=False)\n",
    "for hit in sorted_qresult[:5]:\n",
    "    print(\"%s %i\" % (hit.id, hit.seq_len))\n"
   ]
  },
  {
   "cell_type": "code",
   "execution_count": 20,
   "id": "22ec43b6",
   "metadata": {},
   "outputs": [
    {
     "data": {
      "text/plain": [
       "50"
      ]
     },
     "execution_count": 20,
     "metadata": {},
     "output_type": "execute_result"
    }
   ],
   "source": [
    "filter_func = lambda hit: len(hit.hsps) > 1  # the callback function\n",
    "len(blast_qresult)  # no. of hits before filtering"
   ]
  },
  {
   "cell_type": "code",
   "execution_count": 21,
   "id": "fe343064",
   "metadata": {},
   "outputs": [
    {
     "data": {
      "text/plain": [
       "0"
      ]
     },
     "execution_count": 21,
     "metadata": {},
     "output_type": "execute_result"
    }
   ],
   "source": [
    "filtered_qresult = blast_qresult.hit_filter(filter_func)\n",
    "len(filtered_qresult)  # no. of hits after filtering"
   ]
  },
  {
   "cell_type": "code",
   "execution_count": 22,
   "id": "c5afb6b3",
   "metadata": {},
   "outputs": [],
   "source": [
    "for hit in filtered_qresult[:5]:  # quick check for the hit lengths\n",
    "    print(\"%s %i\" % (hit.id, len(hit.hsps)))"
   ]
  },
  {
   "cell_type": "code",
   "execution_count": 23,
   "id": "12791571",
   "metadata": {},
   "outputs": [
    {
     "name": "stdout",
     "output_type": "stream",
     "text": [
      "Z78533.1\n",
      "KJ939539.1\n",
      "FR720328.1\n",
      "FR720327.1\n",
      "KJ939538.1\n"
     ]
    }
   ],
   "source": [
    "def map_func(hit):\n",
    "    # renames \"gi|301171322|ref|NR_035857.1|\" to \"NR_035857.1\"\n",
    "    hit.id = hit.id.split(\"|\")[3]\n",
    "    return hit\n",
    "\n",
    "mapped_qresult = blast_qresult.hit_map(map_func)\n",
    "for hit in mapped_qresult[:5]:\n",
    "    print(hit.id)\n"
   ]
  },
  {
   "cell_type": "code",
   "execution_count": 24,
   "id": "3258d040",
   "metadata": {},
   "outputs": [
    {
     "name": "stdout",
     "output_type": "stream",
     "text": [
      "Query: Z78533.1\n",
      "       C.irapeanum 5.8S rRNA gene and ITS1 and ITS2 DNA\n",
      "  Hit: gi|347626747|emb|FR720327.1| (723)\n",
      "       Cypripedium molle ITS1, 5.8S rRNA gene, ITS2 and 26S rRNA gene (partia...\n",
      " HSPs: ----  --------  ---------  ------  ---------------  ---------------------\n",
      "          #   E-value  Bit score    Span      Query range              Hit range\n",
      "       ----  --------  ---------  ------  ---------------  ---------------------\n",
      "          0         0    1180.69     728         [10:737]                [0:722]\n"
     ]
    }
   ],
   "source": [
    "from Bio import SearchIO\n",
    "blast_qresult = SearchIO.read(\"my_blast.xml\", \"blast-xml\")\n",
    "blast_hit = blast_qresult[3]  # fourth hit from the query result\n",
    "print(blast_hit)"
   ]
  },
  {
   "cell_type": "code",
   "execution_count": 25,
   "id": "6bc174f4",
   "metadata": {},
   "outputs": [
    {
     "name": "stdout",
     "output_type": "stream",
     "text": [
      "Query: mystery_seq\n",
      "       <unknown description>\n",
      "  Hit: chr19 (59128983)\n",
      "       <unknown description>\n",
      " HSPs: ----  --------  ---------  ------  ---------------  ---------------------\n",
      "          #   E-value  Bit score    Span      Query range              Hit range\n",
      "       ----  --------  ---------  ------  ---------------  ---------------------\n",
      "          0         ?          ?       ?           [0:61]    [54204480:54204541]\n",
      "          1         ?          ?       ?           [0:61]    [54233104:54264463]\n",
      "          2         ?          ?       ?           [0:61]    [54254477:54260071]\n",
      "          3         ?          ?       ?           [1:61]    [54210720:54210780]\n",
      "          4         ?          ?       ?           [0:60]    [54198476:54198536]\n",
      "          5         ?          ?       ?           [0:61]    [54265610:54265671]\n",
      "          6         ?          ?       ?           [0:61]    [54238143:54240175]\n",
      "          7         ?          ?       ?           [0:60]    [54189735:54189795]\n",
      "          8         ?          ?       ?           [0:61]    [54185425:54185486]\n",
      "          9         ?          ?       ?           [0:60]    [54197657:54197717]\n",
      "         10         ?          ?       ?           [0:61]    [54255662:54255723]\n",
      "         11         ?          ?       ?           [0:61]    [54201651:54201712]\n",
      "         12         ?          ?       ?           [8:60]    [54206009:54206061]\n",
      "         13         ?          ?       ?          [10:61]    [54178987:54179038]\n",
      "         14         ?          ?       ?           [8:61]    [54212018:54212071]\n",
      "         15         ?          ?       ?           [8:51]    [54234278:54234321]\n",
      "         16         ?          ?       ?           [8:61]    [54238143:54238196]\n"
     ]
    }
   ],
   "source": [
    "blat_qresult = SearchIO.read(\"my_blat.psl\", \"blat-psl\")\n",
    "blat_hit = blat_qresult[0]  # the only hit\n",
    "print(blat_hit)"
   ]
  },
  {
   "cell_type": "code",
   "execution_count": 26,
   "id": "3aba3f46",
   "metadata": {},
   "outputs": [],
   "source": [
    "for hsp in blast_hit:\n",
    "    hsp"
   ]
  },
  {
   "cell_type": "code",
   "execution_count": 27,
   "id": "a185845b",
   "metadata": {},
   "outputs": [
    {
     "data": {
      "text/plain": [
       "1"
      ]
     },
     "execution_count": 27,
     "metadata": {},
     "output_type": "execute_result"
    }
   ],
   "source": [
    "len(blast_hit)"
   ]
  },
  {
   "cell_type": "code",
   "execution_count": 28,
   "id": "64109537",
   "metadata": {},
   "outputs": [
    {
     "data": {
      "text/plain": [
       "17"
      ]
     },
     "execution_count": 28,
     "metadata": {},
     "output_type": "execute_result"
    }
   ],
   "source": [
    "len(blat_hit)"
   ]
  },
  {
   "cell_type": "code",
   "execution_count": 29,
   "id": "068d6f7c",
   "metadata": {},
   "outputs": [
    {
     "data": {
      "text/plain": [
       "HSP(hit_id='chr19', query_id='mystery_seq', 1 fragments)"
      ]
     },
     "execution_count": 29,
     "metadata": {},
     "output_type": "execute_result"
    }
   ],
   "source": [
    "blat_hit[0]  # retrieve single items"
   ]
  },
  {
   "cell_type": "code",
   "execution_count": 30,
   "id": "89cb078b",
   "metadata": {},
   "outputs": [
    {
     "data": {
      "text/plain": [
       "5"
      ]
     },
     "execution_count": 30,
     "metadata": {},
     "output_type": "execute_result"
    }
   ],
   "source": [
    "sliced_hit = blat_hit[4:9]  # retrieve multiple items\n",
    "len(sliced_hit)"
   ]
  },
  {
   "cell_type": "code",
   "execution_count": 31,
   "id": "f76e49a5",
   "metadata": {},
   "outputs": [
    {
     "name": "stdout",
     "output_type": "stream",
     "text": [
      "Query: mystery_seq\n",
      "       <unknown description>\n",
      "  Hit: chr19 (59128983)\n",
      "       <unknown description>\n",
      " HSPs: ----  --------  ---------  ------  ---------------  ---------------------\n",
      "          #   E-value  Bit score    Span      Query range              Hit range\n",
      "       ----  --------  ---------  ------  ---------------  ---------------------\n",
      "          0         ?          ?       ?           [0:60]    [54198476:54198536]\n",
      "          1         ?          ?       ?           [0:61]    [54265610:54265671]\n",
      "          2         ?          ?       ?           [0:61]    [54238143:54240175]\n",
      "          3         ?          ?       ?           [0:60]    [54189735:54189795]\n",
      "          4         ?          ?       ?           [0:61]    [54185425:54185486]\n"
     ]
    }
   ],
   "source": [
    "print(sliced_hit)"
   ]
  },
  {
   "cell_type": "code",
   "execution_count": 32,
   "id": "a8de030b",
   "metadata": {},
   "outputs": [
    {
     "name": "stdout",
     "output_type": "stream",
     "text": [
      "      Query: Z78533.1 C.irapeanum 5.8S rRNA gene and ITS1 and ITS2 DNA\n",
      "        Hit: gi|2765658|emb|Z78533.1| C.irapeanum 5.8S rRNA gene and ITS1 and...\n",
      "Query range: [0:740] (1)\n",
      "  Hit range: [0:740] (1)\n",
      "Quick stats: evalue 0; bitscore 1335.78\n",
      "  Fragments: 1 (740 columns)\n",
      "     Query - CGTAACAAGGTTTCCGTAGGTGAACCTGCGGAAGGATCATTGATGAGACCGTGGAATAA~~~TACGC\n",
      "             |||||||||||||||||||||||||||||||||||||||||||||||||||||||||||~~~|||||\n",
      "       Hit - CGTAACAAGGTTTCCGTAGGTGAACCTGCGGAAGGATCATTGATGAGACCGTGGAATAA~~~TACGC\n"
     ]
    }
   ],
   "source": [
    "from Bio import SearchIO\n",
    "blast_qresult = SearchIO.read(\"my_blast.xml\", \"blast-xml\")\n",
    "blast_hsp = blast_qresult[0][0]  # first hit, first hsp\n",
    "print(blast_hsp)"
   ]
  },
  {
   "cell_type": "code",
   "execution_count": 33,
   "id": "e78ce02c",
   "metadata": {},
   "outputs": [
    {
     "data": {
      "text/plain": [
       "(0, 740)"
      ]
     },
     "execution_count": 33,
     "metadata": {},
     "output_type": "execute_result"
    }
   ],
   "source": [
    "blast_hsp.query_range"
   ]
  },
  {
   "cell_type": "code",
   "execution_count": 34,
   "id": "14424ace",
   "metadata": {},
   "outputs": [
    {
     "data": {
      "text/plain": [
       "0.0"
      ]
     },
     "execution_count": 34,
     "metadata": {},
     "output_type": "execute_result"
    }
   ],
   "source": [
    "blast_hsp.evalue"
   ]
  },
  {
   "cell_type": "code",
   "execution_count": 35,
   "id": "705d449a",
   "metadata": {},
   "outputs": [
    {
     "data": {
      "text/plain": [
       "0"
      ]
     },
     "execution_count": 35,
     "metadata": {},
     "output_type": "execute_result"
    }
   ],
   "source": [
    "blast_hsp.hit_start  # start coordinate of the hit sequence"
   ]
  },
  {
   "cell_type": "code",
   "execution_count": 36,
   "id": "d2ba69d5",
   "metadata": {},
   "outputs": [
    {
     "data": {
      "text/plain": [
       "740"
      ]
     },
     "execution_count": 36,
     "metadata": {},
     "output_type": "execute_result"
    }
   ],
   "source": [
    "blast_hsp.query_span  # how many residues in the query sequence"
   ]
  },
  {
   "cell_type": "code",
   "execution_count": 37,
   "id": "877cc8d0",
   "metadata": {},
   "outputs": [
    {
     "data": {
      "text/plain": [
       "740"
      ]
     },
     "execution_count": 37,
     "metadata": {},
     "output_type": "execute_result"
    }
   ],
   "source": [
    "blast_hsp.aln_span  # how long the alignment is"
   ]
  },
  {
   "cell_type": "code",
   "execution_count": 38,
   "id": "91a66ab7",
   "metadata": {},
   "outputs": [
    {
     "data": {
      "text/plain": [
       "0"
      ]
     },
     "execution_count": 38,
     "metadata": {},
     "output_type": "execute_result"
    }
   ],
   "source": [
    "blast_hsp.gap_num  # number of gaps"
   ]
  },
  {
   "cell_type": "code",
   "execution_count": 39,
   "id": "95af8f0c",
   "metadata": {},
   "outputs": [
    {
     "data": {
      "text/plain": [
       "740"
      ]
     },
     "execution_count": 39,
     "metadata": {},
     "output_type": "execute_result"
    }
   ],
   "source": [
    "blast_hsp.ident_num  # number of identical residues"
   ]
  },
  {
   "cell_type": "code",
   "execution_count": 40,
   "id": "4a5ecc90",
   "metadata": {},
   "outputs": [
    {
     "data": {
      "text/plain": [
       "dict_keys(['output_index', '_items', 'bitscore', 'bitscore_raw', 'evalue', 'ident_num', 'pos_num', 'gap_num'])"
      ]
     },
     "execution_count": 40,
     "metadata": {},
     "output_type": "execute_result"
    }
   ],
   "source": [
    "blast_hsp.__dict__.keys()"
   ]
  },
  {
   "cell_type": "code",
   "execution_count": 41,
   "id": "c6377552",
   "metadata": {},
   "outputs": [
    {
     "data": {
      "text/plain": [
       "SeqRecord(seq=Seq('CGTAACAAGGTTTCCGTAGGTGAACCTGCGGAAGGATCATTGATGAGACCGTGG...CGC'), id='Z78533.1', name='aligned query sequence', description='C.irapeanum 5.8S rRNA gene and ITS1 and ITS2 DNA', dbxrefs=[])"
      ]
     },
     "execution_count": 41,
     "metadata": {},
     "output_type": "execute_result"
    }
   ],
   "source": [
    "blast_hsp.query"
   ]
  },
  {
   "cell_type": "code",
   "execution_count": 42,
   "id": "7b54e5f7",
   "metadata": {},
   "outputs": [
    {
     "data": {
      "text/plain": [
       "SeqRecord(seq=Seq('CGTAACAAGGTTTCCGTAGGTGAACCTGCGGAAGGATCATTGATGAGACCGTGG...CGC'), id='gi|2765658|emb|Z78533.1|', name='aligned hit sequence', description='C.irapeanum 5.8S rRNA gene and ITS1 and ITS2 DNA', dbxrefs=[])"
      ]
     },
     "execution_count": 42,
     "metadata": {},
     "output_type": "execute_result"
    }
   ],
   "source": [
    "blast_hsp.hit"
   ]
  },
  {
   "cell_type": "code",
   "execution_count": 43,
   "id": "f783edff",
   "metadata": {},
   "outputs": [
    {
     "name": "stdout",
     "output_type": "stream",
     "text": [
      "Alignment with 2 rows and 740 columns\n",
      "CGTAACAAGGTTTCCGTAGGTGAACCTGCGGAAGGATCATTGAT...CGC Z78533.1\n",
      "CGTAACAAGGTTTCCGTAGGTGAACCTGCGGAAGGATCATTGAT...CGC gi|2765658|emb|Z78533.1|\n"
     ]
    }
   ],
   "source": [
    "print(blast_hsp.aln)"
   ]
  },
  {
   "cell_type": "code",
   "execution_count": 44,
   "id": "074b470e",
   "metadata": {},
   "outputs": [
    {
     "name": "stdout",
     "output_type": "stream",
     "text": [
      "      Query: mystery_seq <unknown description>\n",
      "        Hit: chr19 <unknown description>\n",
      "Query range: [0:61] (1)\n",
      "  Hit range: [54204480:54204541] (1)\n",
      "Quick stats: evalue ?; bitscore ?\n",
      "  Fragments: 1 (? columns)\n"
     ]
    }
   ],
   "source": [
    "blat_qresult = SearchIO.read(\"my_blat.psl\", \"blat-psl\")\n",
    "blat_hsp = blat_qresult[0][0]  # first hit, first hsp\n",
    "print(blat_hsp)"
   ]
  },
  {
   "cell_type": "code",
   "execution_count": 45,
   "id": "2d97b5db",
   "metadata": {},
   "outputs": [
    {
     "data": {
      "text/plain": [
       "True"
      ]
     },
     "execution_count": 45,
     "metadata": {},
     "output_type": "execute_result"
    }
   ],
   "source": [
    "blat_hsp.hit is None"
   ]
  },
  {
   "cell_type": "code",
   "execution_count": 46,
   "id": "23094829",
   "metadata": {},
   "outputs": [
    {
     "data": {
      "text/plain": [
       "True"
      ]
     },
     "execution_count": 46,
     "metadata": {},
     "output_type": "execute_result"
    }
   ],
   "source": [
    "blat_hsp.query is None"
   ]
  },
  {
   "cell_type": "code",
   "execution_count": 47,
   "id": "76eab17b",
   "metadata": {},
   "outputs": [
    {
     "data": {
      "text/plain": [
       "True"
      ]
     },
     "execution_count": 47,
     "metadata": {},
     "output_type": "execute_result"
    }
   ],
   "source": [
    "blat_hsp.aln is None"
   ]
  },
  {
   "cell_type": "code",
   "execution_count": 48,
   "id": "24f80946",
   "metadata": {},
   "outputs": [
    {
     "data": {
      "text/plain": [
       "61"
      ]
     },
     "execution_count": 48,
     "metadata": {},
     "output_type": "execute_result"
    }
   ],
   "source": [
    "blat_hsp.query_span  # length of query match"
   ]
  },
  {
   "cell_type": "code",
   "execution_count": 49,
   "id": "c52e224d",
   "metadata": {},
   "outputs": [
    {
     "data": {
      "text/plain": [
       "61"
      ]
     },
     "execution_count": 49,
     "metadata": {},
     "output_type": "execute_result"
    }
   ],
   "source": [
    "blat_hsp.hit_span  # length of hit match"
   ]
  },
  {
   "cell_type": "code",
   "execution_count": 50,
   "id": "efc15345",
   "metadata": {},
   "outputs": [
    {
     "data": {
      "text/plain": [
       "61"
      ]
     },
     "execution_count": 50,
     "metadata": {},
     "output_type": "execute_result"
    }
   ],
   "source": [
    "blat_hsp.score  # PSL score"
   ]
  },
  {
   "cell_type": "code",
   "execution_count": 51,
   "id": "1df5ba0c",
   "metadata": {},
   "outputs": [
    {
     "data": {
      "text/plain": [
       "0"
      ]
     },
     "execution_count": 51,
     "metadata": {},
     "output_type": "execute_result"
    }
   ],
   "source": [
    "blat_hsp.mismatch_num  # the mismatch column"
   ]
  },
  {
   "cell_type": "code",
   "execution_count": 52,
   "id": "51d2d7f2",
   "metadata": {},
   "outputs": [
    {
     "name": "stdout",
     "output_type": "stream",
     "text": [
      "      Query: mystery_seq <unknown description>\n",
      "        Hit: chr19 <unknown description>\n",
      "Query range: [0:61] (1)\n",
      "  Hit range: [54233104:54264463] (1)\n",
      "Quick stats: evalue ?; bitscore ?\n",
      "  Fragments: ---  --------------  ----------------------  ----------------------\n",
      "               #            Span             Query range               Hit range\n",
      "             ---  --------------  ----------------------  ----------------------\n",
      "               0               ?                  [0:18]     [54233104:54233122]\n",
      "               1               ?                 [18:61]     [54264420:54264463]\n"
     ]
    }
   ],
   "source": [
    "blat_hsp2 = blat_qresult[0][1]  # first hit, second hsp\n",
    "print(blat_hsp2)"
   ]
  },
  {
   "cell_type": "code",
   "execution_count": 53,
   "id": "6cf817d3",
   "metadata": {},
   "outputs": [
    {
     "data": {
      "text/plain": [
       "(54233104, 54264463)"
      ]
     },
     "execution_count": 53,
     "metadata": {},
     "output_type": "execute_result"
    }
   ],
   "source": [
    "blat_hsp2.hit_range  # hit start and end coordinates of the entire HSP"
   ]
  },
  {
   "cell_type": "code",
   "execution_count": 54,
   "id": "560fff7d",
   "metadata": {},
   "outputs": [
    {
     "data": {
      "text/plain": [
       "[(54233104, 54233122), (54264420, 54264463)]"
      ]
     },
     "execution_count": 54,
     "metadata": {},
     "output_type": "execute_result"
    }
   ],
   "source": [
    "blat_hsp2.hit_range_all  # hit start and end coordinates of each fragment"
   ]
  },
  {
   "cell_type": "code",
   "execution_count": 55,
   "id": "4122258d",
   "metadata": {},
   "outputs": [
    {
     "data": {
      "text/plain": [
       "31359"
      ]
     },
     "execution_count": 55,
     "metadata": {},
     "output_type": "execute_result"
    }
   ],
   "source": [
    "blat_hsp2.hit_span  # hit span of the entire HSP"
   ]
  },
  {
   "cell_type": "code",
   "execution_count": 56,
   "id": "69499eb9",
   "metadata": {},
   "outputs": [
    {
     "data": {
      "text/plain": [
       "[18, 43]"
      ]
     },
     "execution_count": 56,
     "metadata": {},
     "output_type": "execute_result"
    }
   ],
   "source": [
    "blat_hsp2.hit_span_all  # hit span of each fragment"
   ]
  },
  {
   "cell_type": "code",
   "execution_count": 57,
   "id": "c96ef2d9",
   "metadata": {},
   "outputs": [
    {
     "data": {
      "text/plain": [
       "[(54233122, 54264420)]"
      ]
     },
     "execution_count": 57,
     "metadata": {},
     "output_type": "execute_result"
    }
   ],
   "source": [
    "blat_hsp2.hit_inter_ranges  # start and end coordinates of intervening regions in the hit sequence"
   ]
  },
  {
   "cell_type": "code",
   "execution_count": 58,
   "id": "88224abf",
   "metadata": {},
   "outputs": [
    {
     "data": {
      "text/plain": [
       "[31298]"
      ]
     },
     "execution_count": 58,
     "metadata": {},
     "output_type": "execute_result"
    }
   ],
   "source": [
    "blat_hsp2.hit_inter_spans  # span of intervening regions in the hit sequence"
   ]
  },
  {
   "cell_type": "code",
   "execution_count": 59,
   "id": "a9e9141a",
   "metadata": {},
   "outputs": [
    {
     "data": {
      "text/plain": [
       "True"
      ]
     },
     "execution_count": 59,
     "metadata": {},
     "output_type": "execute_result"
    }
   ],
   "source": [
    "blat_hsp2.is_fragmented  # BLAT HSP with 2 fragments"
   ]
  },
  {
   "cell_type": "code",
   "execution_count": 60,
   "id": "07e7439f",
   "metadata": {},
   "outputs": [
    {
     "data": {
      "text/plain": [
       "False"
      ]
     },
     "execution_count": 60,
     "metadata": {},
     "output_type": "execute_result"
    }
   ],
   "source": [
    "blat_hsp.is_fragmented  # BLAT HSP from earlier, with one fragment"
   ]
  },
  {
   "cell_type": "code",
   "execution_count": 61,
   "id": "1473e7f2",
   "metadata": {},
   "outputs": [
    {
     "name": "stdout",
     "output_type": "stream",
     "text": [
      "      Query: Z78533.1 C.irapeanum 5.8S rRNA gene and ITS1 and ITS2 DNA\n",
      "        Hit: gi|2765658|emb|Z78533.1| C.irapeanum 5.8S rRNA gene and ITS1 and...\n",
      "Query range: [0:740] (1)\n",
      "  Hit range: [0:740] (1)\n",
      "  Fragments: 1 (740 columns)\n",
      "     Query - CGTAACAAGGTTTCCGTAGGTGAACCTGCGGAAGGATCATTGATGAGACCGTGGAATAA~~~TACGC\n",
      "             |||||||||||||||||||||||||||||||||||||||||||||||||||||||||||~~~|||||\n",
      "       Hit - CGTAACAAGGTTTCCGTAGGTGAACCTGCGGAAGGATCATTGATGAGACCGTGGAATAA~~~TACGC\n"
     ]
    }
   ],
   "source": [
    "from Bio import SearchIO\n",
    "blast_qresult = SearchIO.read(\"my_blast.xml\", \"blast-xml\")\n",
    "blast_frag = blast_qresult[0][0][0]  # first hit, first hsp, first fragment\n",
    "print(blast_frag)"
   ]
  },
  {
   "cell_type": "code",
   "execution_count": 62,
   "id": "f3f7a622",
   "metadata": {},
   "outputs": [
    {
     "name": "stdout",
     "output_type": "stream",
     "text": [
      "      Query: mystery_seq <unknown description>\n",
      "        Hit: chr19 <unknown description>\n",
      "Query range: [0:61] (1)\n",
      "  Hit range: [54204480:54204541] (1)\n",
      "  Fragments: 1 (? columns)\n"
     ]
    }
   ],
   "source": [
    "blat_qresult = SearchIO.read(\"my_blat.psl\", \"blat-psl\")\n",
    "blat_frag = blat_qresult[0][0][0]  # first hit, first hsp, first fragment\n",
    "print(blat_frag)"
   ]
  },
  {
   "cell_type": "code",
   "execution_count": 63,
   "id": "37db2fad",
   "metadata": {},
   "outputs": [
    {
     "data": {
      "text/plain": [
       "0"
      ]
     },
     "execution_count": 63,
     "metadata": {},
     "output_type": "execute_result"
    }
   ],
   "source": [
    "blast_frag.query_start  # query start coordinate"
   ]
  },
  {
   "cell_type": "code",
   "execution_count": 64,
   "id": "6b9c1c45",
   "metadata": {},
   "outputs": [
    {
     "data": {
      "text/plain": [
       "1"
      ]
     },
     "execution_count": 64,
     "metadata": {},
     "output_type": "execute_result"
    }
   ],
   "source": [
    "blast_frag.hit_strand  # hit sequence strand"
   ]
  },
  {
   "cell_type": "code",
   "execution_count": 65,
   "id": "80441804",
   "metadata": {},
   "outputs": [
    {
     "data": {
      "text/plain": [
       "SeqRecord(seq=Seq('CGTAACAAGGTTTCCGTAGGTGAACCTGCGGAAGGATCATTGATGAGACCGTGG...CGC'), id='gi|2765658|emb|Z78533.1|', name='aligned hit sequence', description='C.irapeanum 5.8S rRNA gene and ITS1 and ITS2 DNA', dbxrefs=[])"
      ]
     },
     "execution_count": 65,
     "metadata": {},
     "output_type": "execute_result"
    }
   ],
   "source": [
    "blast_frag.hit  # hit sequence, as a SeqRecord object"
   ]
  },
  {
   "cell_type": "code",
   "execution_count": 66,
   "id": "d29c95dd",
   "metadata": {},
   "outputs": [
    {
     "data": {
      "text/plain": [
       "QueryResult(id='gi|16080617|ref|NP_391444.1|', 3 hits)"
      ]
     },
     "execution_count": 66,
     "metadata": {},
     "output_type": "execute_result"
    }
   ],
   "source": [
    "from Bio import SearchIO\n",
    "qresult = SearchIO.read(\"tab_2226_tblastn_003.txt\", \"blast-tab\")\n",
    "qresult"
   ]
  },
  {
   "cell_type": "code",
   "execution_count": 67,
   "id": "f62bd072",
   "metadata": {},
   "outputs": [
    {
     "data": {
      "text/plain": [
       "QueryResult(id='gi|16080617|ref|NP_391444.1|', 3 hits)"
      ]
     },
     "execution_count": 67,
     "metadata": {},
     "output_type": "execute_result"
    }
   ],
   "source": [
    "qresult2 = SearchIO.read(\"tab_2226_tblastn_007.txt\", \"blast-tab\", comments=True)\n",
    "qresult2"
   ]
  },
  {
   "cell_type": "code",
   "execution_count": 68,
   "id": "5442f769",
   "metadata": {},
   "outputs": [
    {
     "name": "stdout",
     "output_type": "stream",
     "text": [
      "gi|16080617|ref|NP_391444.1|\n",
      "gi|11464971:4-101\n"
     ]
    }
   ],
   "source": [
    "from Bio import SearchIO\n",
    "qresults = SearchIO.parse(\"tab_2226_tblastn_001.txt\", \"blast-tab\")\n",
    "for qresult in qresults:\n",
    "    print(qresult.id)\n"
   ]
  },
  {
   "cell_type": "code",
   "execution_count": 69,
   "id": "709ed5ae",
   "metadata": {},
   "outputs": [
    {
     "name": "stdout",
     "output_type": "stream",
     "text": [
      "random_s00\n",
      "gi|16080617|ref|NP_391444.1|\n",
      "gi|11464971:4-101\n"
     ]
    }
   ],
   "source": [
    "qresults2 = SearchIO.parse(\"tab_2226_tblastn_005.txt\", \"blast-tab\", comments=True)\n",
    "for qresult in qresults2:\n",
    "    print(qresult.id)\n"
   ]
  },
  {
   "cell_type": "code",
   "execution_count": 70,
   "id": "9ba90a08",
   "metadata": {},
   "outputs": [
    {
     "data": {
      "text/plain": [
       "['gi|11464971:4-101', 'gi|16080617|ref|NP_391444.1|']"
      ]
     },
     "execution_count": 70,
     "metadata": {},
     "output_type": "execute_result"
    }
   ],
   "source": [
    "from Bio import SearchIO\n",
    "idx = SearchIO.index(\"tab_2226_tblastn_001.txt\", \"blast-tab\")\n",
    "sorted(idx.keys())"
   ]
  },
  {
   "cell_type": "code",
   "execution_count": 71,
   "id": "30648aba",
   "metadata": {},
   "outputs": [
    {
     "data": {
      "text/plain": [
       "QueryResult(id='gi|16080617|ref|NP_391444.1|', 3 hits)"
      ]
     },
     "execution_count": 71,
     "metadata": {},
     "output_type": "execute_result"
    }
   ],
   "source": [
    "idx[\"gi|16080617|ref|NP_391444.1|\"]"
   ]
  },
  {
   "cell_type": "code",
   "execution_count": 72,
   "id": "20bb640e",
   "metadata": {},
   "outputs": [],
   "source": [
    "idx.close()"
   ]
  },
  {
   "cell_type": "code",
   "execution_count": 73,
   "id": "e3a594ae",
   "metadata": {},
   "outputs": [
    {
     "data": {
      "text/plain": [
       "['gi|11464971:4-101', 'gi|16080617|ref|NP_391444.1|', 'random_s00']"
      ]
     },
     "execution_count": 73,
     "metadata": {},
     "output_type": "execute_result"
    }
   ],
   "source": [
    "idx = SearchIO.index(\"tab_2226_tblastn_005.txt\", \"blast-tab\", comments=True)\n",
    "sorted(idx.keys())"
   ]
  },
  {
   "cell_type": "code",
   "execution_count": 74,
   "id": "22ef44c1",
   "metadata": {},
   "outputs": [
    {
     "data": {
      "text/plain": [
       "QueryResult(id='gi|16080617|ref|NP_391444.1|', 3 hits)"
      ]
     },
     "execution_count": 74,
     "metadata": {},
     "output_type": "execute_result"
    }
   ],
   "source": [
    "idx[\"gi|16080617|ref|NP_391444.1|\"]"
   ]
  },
  {
   "cell_type": "code",
   "execution_count": 75,
   "id": "7dba2470",
   "metadata": {},
   "outputs": [],
   "source": [
    "idx.close()"
   ]
  },
  {
   "cell_type": "code",
   "execution_count": 76,
   "id": "f79a5d1c",
   "metadata": {},
   "outputs": [
    {
     "data": {
      "text/plain": [
       "['GI|11464971:4-101', 'GI|16080617|REF|NP_391444.1|']"
      ]
     },
     "execution_count": 76,
     "metadata": {},
     "output_type": "execute_result"
    }
   ],
   "source": [
    "key_function = lambda id: id.upper()  # capitalizes the keys\n",
    "idx = SearchIO.index(\"tab_2226_tblastn_001.txt\", \"blast-tab\", key_function=key_function)\n",
    "sorted(idx.keys())"
   ]
  },
  {
   "cell_type": "code",
   "execution_count": 77,
   "id": "4b3bc673",
   "metadata": {},
   "outputs": [
    {
     "data": {
      "text/plain": [
       "QueryResult(id='gi|16080617|ref|NP_391444.1|', 3 hits)"
      ]
     },
     "execution_count": 77,
     "metadata": {},
     "output_type": "execute_result"
    }
   ],
   "source": [
    "idx[\"GI|16080617|REF|NP_391444.1|\"]"
   ]
  },
  {
   "cell_type": "code",
   "execution_count": 78,
   "id": "b5587039",
   "metadata": {},
   "outputs": [],
   "source": [
    "idx.close()"
   ]
  },
  {
   "cell_type": "code",
   "execution_count": 79,
   "id": "0defc6f1",
   "metadata": {},
   "outputs": [
    {
     "data": {
      "text/plain": [
       "(3, 239, 277, 277)"
      ]
     },
     "execution_count": 79,
     "metadata": {},
     "output_type": "execute_result"
    }
   ],
   "source": [
    "from Bio import SearchIO\n",
    "qresults = SearchIO.parse(\"mirna.xml\", \"blast-xml\")  # read XML file\n",
    "SearchIO.write(qresults, \"results.tab\", \"blast-tab\")  # write to tabular file"
   ]
  },
  {
   "cell_type": "code",
   "execution_count": 80,
   "id": "2847c204",
   "metadata": {},
   "outputs": [
    {
     "data": {
      "text/plain": [
       "(3, 239, 277, 277)"
      ]
     },
     "execution_count": 80,
     "metadata": {},
     "output_type": "execute_result"
    }
   ],
   "source": [
    "from Bio import SearchIO\n",
    "SearchIO.convert(\"mirna.xml\", \"blast-xml\", \"results.tab\", \"blast-tab\")"
   ]
  }
 ],
 "metadata": {
  "kernelspec": {
   "display_name": "base",
   "language": "python",
   "name": "python3"
  },
  "language_info": {
   "codemirror_mode": {
    "name": "ipython",
    "version": 3
   },
   "file_extension": ".py",
   "mimetype": "text/x-python",
   "name": "python",
   "nbconvert_exporter": "python",
   "pygments_lexer": "ipython3",
   "version": "3.12.7"
  }
 },
 "nbformat": 4,
 "nbformat_minor": 5
}
