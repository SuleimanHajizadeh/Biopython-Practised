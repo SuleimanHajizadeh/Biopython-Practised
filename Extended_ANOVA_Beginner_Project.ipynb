{
 "cells": [
  {
   "cell_type": "markdown",
   "id": "a4f4c52f",
   "metadata": {},
   "source": [
    "# 🧪 ANOVA Project: Effect of Drug Concentration on Enzyme Activity"
   ]
  },
  {
   "cell_type": "markdown",
   "id": "21555d85",
   "metadata": {},
   "source": [
    "\n",
    "# 🧪 ANOVA Project: Effect of Drug Concentration on Enzyme Activity\n",
    "\n",
    "This project simulates a lab experiment to explore whether different concentrations of a hypothetical drug (**Drug X**) have a significant effect on the activity of a liver enzyme (ALT - Alanine Transaminase) in blood plasma.\n",
    "\n",
    "We'll walk through this project step-by-step, with explanations suitable for those who are new to ANOVA and statistics.\n",
    "\n",
    "### 🧠 What is ANOVA?\n",
    "\n",
    "**ANOVA** stands for **Analysis of Variance**. It is a statistical test used when you want to compare **three or more group means** to determine if at least one of them is significantly different from the others.\n",
    "\n",
    "In this project, we will:\n",
    "- Simulate experimental data\n",
    "- Visualize the data\n",
    "- Perform One-Way ANOVA\n",
    "- Conduct a post-hoc test (Tukey HSD)\n",
    "- Interpret and report the results\n"
   ]
  },
  {
   "cell_type": "markdown",
   "id": "38384a3d",
   "metadata": {},
   "source": [
    "\n",
    "This project simulates a lab experiment to assess whether different concentrations of **Drug X** significantly affect **ALT enzyme activity** in blood plasma. We'll perform:\n",
    "\n",
    "- Data simulation\n",
    "- Visualization\n",
    "- One-Way ANOVA\n",
    "- Post-hoc Tukey HSD test\n",
    "- Result interpretation\n"
   ]
  },
  {
   "cell_type": "code",
   "execution_count": 6,
   "id": "210600f2",
   "metadata": {},
   "outputs": [],
   "source": [
    "import numpy as np\n",
    "import pandas as pd\n",
    "import seaborn as sns\n",
    "import matplotlib.pyplot as plt\n",
    "from scipy.stats import f_oneway\n",
    "from statsmodels.stats.multicomp import pairwise_tukeyhsd"
   ]
  },
  {
   "cell_type": "markdown",
   "id": "d2a154ee",
   "metadata": {},
   "source": [
    "## 🔬 Simulate ALT Activity Data"
   ]
  },
  {
   "cell_type": "code",
   "execution_count": 7,
   "id": "78b072a9",
   "metadata": {},
   "outputs": [
    {
     "data": {
      "text/html": [
       "<div>\n",
       "<style scoped>\n",
       "    .dataframe tbody tr th:only-of-type {\n",
       "        vertical-align: middle;\n",
       "    }\n",
       "\n",
       "    .dataframe tbody tr th {\n",
       "        vertical-align: top;\n",
       "    }\n",
       "\n",
       "    .dataframe thead th {\n",
       "        text-align: right;\n",
       "    }\n",
       "</style>\n",
       "<table border=\"1\" class=\"dataframe\">\n",
       "  <thead>\n",
       "    <tr style=\"text-align: right;\">\n",
       "      <th></th>\n",
       "      <th>ALT_Activity</th>\n",
       "      <th>Group</th>\n",
       "    </tr>\n",
       "  </thead>\n",
       "  <tbody>\n",
       "    <tr>\n",
       "      <th>0</th>\n",
       "      <td>42.993428</td>\n",
       "      <td>Control</td>\n",
       "    </tr>\n",
       "    <tr>\n",
       "      <th>1</th>\n",
       "      <td>41.723471</td>\n",
       "      <td>Control</td>\n",
       "    </tr>\n",
       "    <tr>\n",
       "      <th>2</th>\n",
       "      <td>43.295377</td>\n",
       "      <td>Control</td>\n",
       "    </tr>\n",
       "    <tr>\n",
       "      <th>3</th>\n",
       "      <td>45.046060</td>\n",
       "      <td>Control</td>\n",
       "    </tr>\n",
       "    <tr>\n",
       "      <th>4</th>\n",
       "      <td>41.531693</td>\n",
       "      <td>Control</td>\n",
       "    </tr>\n",
       "  </tbody>\n",
       "</table>\n",
       "</div>"
      ],
      "text/plain": [
       "   ALT_Activity    Group\n",
       "0     42.993428  Control\n",
       "1     41.723471  Control\n",
       "2     43.295377  Control\n",
       "3     45.046060  Control\n",
       "4     41.531693  Control"
      ]
     },
     "execution_count": 7,
     "metadata": {},
     "output_type": "execute_result"
    }
   ],
   "source": [
    "np.random.seed(42)\n",
    "\n",
    "# Simulated ALT activity (U/L)\n",
    "control = np.random.normal(loc=42, scale=2, size=10)\n",
    "low_dose = np.random.normal(loc=38, scale=2.5, size=10)\n",
    "high_dose = np.random.normal(loc=30, scale=3, size=10)\n",
    "\n",
    "# Combine into a DataFrame\n",
    "df = pd.DataFrame({\n",
    "    'ALT_Activity': np.concatenate([control, low_dose, high_dose]),\n",
    "    'Group': ['Control'] * 10 + ['Low Dose'] * 10 + ['High Dose'] * 10\n",
    "})\n",
    "\n",
    "df.head()"
   ]
  },
  {
   "cell_type": "markdown",
   "id": "be8fa490",
   "metadata": {},
   "source": [
    "## 📊 Visualize Group Differences"
   ]
  },
  {
   "cell_type": "code",
   "execution_count": 8,
   "id": "1480d1fb",
   "metadata": {},
   "outputs": [
    {
     "data": {
      "image/png": "[encoded data removed]",
      "text/plain": [
       "<Figure size 640x480 with 1 Axes>"
      ]
     },
     "metadata": {},
     "output_type": "display_data"
    }
   ],
   "source": [
    "sns.boxplot(x='Group', y='ALT_Activity', data=df)\n",
    "plt.title(\"ALT Enzyme Activity by Drug Concentration\")\n",
    "plt.ylabel(\"ALT Activity (U/L)\")\n",
    "plt.show()"
   ]
  },
  {
   "cell_type": "markdown",
   "id": "4bb68e35",
   "metadata": {},
   "source": [
    "\n",
    "## 📈 One-Way ANOVA - What Does It Do?\n",
    "\n",
    "**One-Way ANOVA** is used when we have:\n",
    "- One independent variable (e.g., drug concentration with 3 levels)\n",
    "- One dependent variable (e.g., enzyme activity)\n",
    "\n",
    "The ANOVA test calculates an **F-statistic** and a **p-value**:\n",
    "- The **F-statistic** is the ratio of variance between groups to variance within groups.\n",
    "- The **p-value** tells us if the observed differences between group means are statistically significant.\n",
    "\n",
    "If **p < 0.05**, it means there's a significant difference in enzyme activity among the drug groups.\n"
   ]
  },
  {
   "cell_type": "markdown",
   "id": "44e4fbaf",
   "metadata": {},
   "source": [
    "## 📈 One-Way ANOVA"
   ]
  },
  {
   "cell_type": "code",
   "execution_count": 9,
   "id": "d9dbc2eb",
   "metadata": {},
   "outputs": [
    {
     "name": "stdout",
     "output_type": "stream",
     "text": [
      "F-statistic: 118.7302\n",
      "P-value: 0.0000\n"
     ]
    }
   ],
   "source": [
    "# Split groups\n",
    "control_data = df[df['Group'] == 'Control']['ALT_Activity']\n",
    "low_data = df[df['Group'] == 'Low Dose']['ALT_Activity']\n",
    "high_data = df[df['Group'] == 'High Dose']['ALT_Activity']\n",
    "\n",
    "# Perform ANOVA\n",
    "f_stat, p_val = f_oneway(control_data, low_data, high_data)\n",
    "print(f\"F-statistic: {f_stat:.4f}\")\n",
    "print(f\"P-value: {p_val:.4f}\")"
   ]
  },
  {
   "cell_type": "markdown",
   "id": "022d7b7e",
   "metadata": {},
   "source": [
    "\n",
    "## 🔍 Post-hoc Analysis - Why Do It?\n",
    "\n",
    "When ANOVA shows a significant result, it only tells us that **at least one** group mean is different. But **which one**?\n",
    "\n",
    "To answer that, we use **Tukey's HSD (Honestly Significant Difference)** test. It compares **every pair of groups** and shows:\n",
    "- Which groups differ\n",
    "- The size of the difference\n",
    "- Whether the difference is statistically significant\n",
    "\n",
    "This is very useful in biological or clinical research where you want to know how treatments compare.\n"
   ]
  },
  {
   "cell_type": "markdown",
   "id": "cf33358b",
   "metadata": {},
   "source": [
    "## 🔍 Post-hoc Tukey HSD Test"
   ]
  },
  {
   "cell_type": "code",
   "execution_count": 10,
   "id": "9b311c32",
   "metadata": {},
   "outputs": [
    {
     "name": "stdout",
     "output_type": "stream",
     "text": [
      "    Multiple Comparison of Means - Tukey HSD, FWER=0.05    \n",
      "===========================================================\n",
      "  group1    group2  meandiff p-adj  lower    upper   reject\n",
      "-----------------------------------------------------------\n",
      "  Control High Dose -13.5617   0.0 -15.7438 -11.3795   True\n",
      "  Control  Low Dose  -6.8728   0.0  -9.0549  -4.6906   True\n",
      "High Dose  Low Dose   6.6889   0.0   4.5068    8.871   True\n",
      "-----------------------------------------------------------\n"
     ]
    },
    {
     "data": {
      "image/png": "[encoded data removed]",
      "text/plain": [
       "<Figure size 1000x600 with 1 Axes>"
      ]
     },
     "metadata": {},
     "output_type": "display_data"
    }
   ],
   "source": [
    "# Tukey's HSD\n",
    "tukey = pairwise_tukeyhsd(endog=df['ALT_Activity'],\n",
    "                          groups=df['Group'],\n",
    "                          alpha=0.05)\n",
    "print(tukey)\n",
    "tukey.plot_simultaneous()\n",
    "plt.title(\"Tukey HSD - ALT Activity Comparison\")\n",
    "plt.show()"
   ]
  },
  {
   "cell_type": "markdown",
   "id": "16dbd093",
   "metadata": {},
   "source": [
    "## ✅ Conclusion"
   ]
  },
  {
   "cell_type": "markdown",
   "id": "6567764e",
   "metadata": {},
   "source": [
    "\n",
    "The one-way ANOVA test revealed whether Drug X affects ALT enzyme activity significantly.\n",
    "\n",
    "If the **p-value < 0.05**, we reject the null hypothesis and conclude that there is a statistically significant difference between at least two groups. Tukey’s test helps us identify which groups differ.\n",
    "\n",
    "This is a practical application of ANOVA in a biomedical context simulating real lab work.\n"
   ]
  },
  {
   "cell_type": "markdown",
   "id": "b4cc2e1f",
   "metadata": {},
   "source": [
    "\n",
    "## ✅ Final Thoughts and Interpretation\n",
    "\n",
    "In biomedical studies, ANOVA helps determine whether different treatments, doses, or conditions lead to meaningful biological changes.\n",
    "\n",
    "**From this project, you learned:**\n",
    "- How to simulate realistic biological data\n",
    "- How to visualize group comparisons\n",
    "- How to perform and interpret a one-way ANOVA\n",
    "- How to use Tukey HSD to find specific group differences\n",
    "\n",
    "This foundation prepares you for deeper statistical learning such as:\n",
    "- Two-way ANOVA\n",
    "- Repeated measures ANOVA\n",
    "- Linear regression models\n"
   ]
  }
 ],
 "metadata": {
  "kernelspec": {
   "display_name": "base",
   "language": "python",
   "name": "python3"
  },
  "language_info": {
   "codemirror_mode": {
    "name": "ipython",
    "version": 3
   },
   "file_extension": ".py",
   "mimetype": "text/x-python",
   "name": "python",
   "nbconvert_exporter": "python",
   "pygments_lexer": "ipython3",
   "version": "3.12.7"
  }
 },
 "nbformat": 4,
 "nbformat_minor": 5
}
