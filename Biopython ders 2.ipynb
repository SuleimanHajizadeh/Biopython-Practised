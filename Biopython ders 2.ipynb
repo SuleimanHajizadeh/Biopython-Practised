{
 "cells": [
  {
   "cell_type": "code",
   "execution_count": 1,
   "id": "d46d93de-1407-4cec-8223-6faba31f075a",
   "metadata": {},
   "outputs": [
    {
     "name": "stdout",
     "output_type": "stream",
     "text": [
      "ATGGCCATTGTAATGGGCCGCTGAAAGGGTGCCCGATAG\n",
      "CTATCGGGCACCCTTTCAGCGGCCCATTACAATGGCCAT\n"
     ]
    }
   ],
   "source": [
    "from Bio.Seq import Seq\n",
    "coding_dna=Seq(\"ATGGCCATTGTAATGGGCCGCTGAAAGGGTGCCCGATAG\")\n",
    "print(coding_dna)\n",
    "#Seq(\"ATGGCCATTGTAATGGGCCGCTGAAAGGGTGCCCGATAG\")\n",
    "template_dna=coding_dna.reverse_complement()\n",
    "print(template_dna)"
   ]
  },
  {
   "cell_type": "code",
   "execution_count": 2,
   "id": "8bb66b2e-57b4-4611-b513-d5142c5a4f08",
   "metadata": {},
   "outputs": [
    {
     "name": "stdout",
     "output_type": "stream",
     "text": [
      "ATGGCCATTGTAATGGGCCGCTGAAAGGGTGCCCGATAG\n"
     ]
    }
   ],
   "source": [
    "print(coding_dna)"
   ]
  },
  {
   "cell_type": "code",
   "execution_count": 3,
   "id": "f19d04e0-158a-42d8-922c-d37a46c0e51a",
   "metadata": {},
   "outputs": [
    {
     "name": "stdout",
     "output_type": "stream",
     "text": [
      "AUGGCCAUUGUAAUGGGCCGCUGAAAGGGUGCCCGAUAG\n",
      "AUGGCCAUUGUAAUGGGCCGCUGAAAGGGUGCCCGAUAG\n"
     ]
    }
   ],
   "source": [
    "messenger_rna=coding_dna.transcribe()\n",
    "print(messenger_rna)\n",
    "print(template_dna.reverse_complement().transcribe())"
   ]
  },
  {
   "cell_type": "code",
   "execution_count": 4,
   "id": "cfff6a5d-f9d8-4234-8bbf-549c82ba14d5",
   "metadata": {},
   "outputs": [
    {
     "name": "stdout",
     "output_type": "stream",
     "text": [
      "AUGGCCAUUGUAAUGGGCCGCUGAAAGGGUGCCCGAUAG\n",
      "ATGGCCATTGTAATGGGCCGCTGAAAGGGTGCCCGATAG\n",
      "MAIVMGR*KGAR*\n"
     ]
    }
   ],
   "source": [
    "#back-transcription method\n",
    "messenger_rna=Seq(\"AUGGCCAUUGUAAUGGGCCGCUGAAAGGGUGCCCGAUAG\")\n",
    "print(messenger_rna)\n",
    "print(messenger_rna.back_transcribe())\n",
    "print(messenger_rna.translate())\n",
    "#ATGGCCATTGTAATGGGCCGCTGAAAGGGTGCCCGATAG burdan ede bilirsen...\n"
   ]
  },
  {
   "cell_type": "code",
   "execution_count": 5,
   "id": "b07f361f-0d89-4046-a960-1fda39ddc3a2",
   "metadata": {},
   "outputs": [
    {
     "name": "stdout",
     "output_type": "stream",
     "text": [
      "ATGGCCATTGTAATGGGCCGCTGAAAGGGTGCCCGATAG\n",
      "MAIVMGR*KGAR*\n"
     ]
    }
   ],
   "source": [
    "#veya\n",
    "coding_dna=Seq(\"ATGGCCATTGTAATGGGCCGCTGAAAGGGTGCCCGATAG\")\n",
    "print(coding_dna)\n",
    "print(coding_dna.translate())"
   ]
  },
  {
   "cell_type": "code",
   "execution_count": 6,
   "id": "0cfc14b2-9b95-43d4-b4f5-2b3d81e941cd",
   "metadata": {},
   "outputs": [
    {
     "name": "stdout",
     "output_type": "stream",
     "text": [
      "MAIVMGRWKGAR*\n"
     ]
    },
    {
     "data": {
      "text/plain": [
       "Seq('MAIVMGRWKGAR*')"
      ]
     },
     "execution_count": 6,
     "metadata": {},
     "output_type": "execute_result"
    }
   ],
   "source": [
    "print(coding_dna.translate(table=\"Vertebrate Mitochondrial\"))\n",
    "#veya \n",
    "coding_dna.translate(table=2)"
   ]
  },
  {
   "cell_type": "code",
   "execution_count": 7,
   "id": "34378245-8aff-469b-9d1c-11fd5f6e5e9d",
   "metadata": {},
   "outputs": [
    {
     "name": "stdout",
     "output_type": "stream",
     "text": [
      "MAIVMGR*KGAR*\n",
      "MAIVMGR\n"
     ]
    }
   ],
   "source": [
    "print(coding_dna.translate())\n",
    "#Seq(\"MAIVMGR*KGAR*\")\n",
    "print(coding_dna.translate(to_stop=True))"
   ]
  },
  {
   "cell_type": "code",
   "execution_count": 8,
   "id": "3193a94b-6987-48d2-aa75-18023bb8e73a",
   "metadata": {},
   "outputs": [
    {
     "name": "stdout",
     "output_type": "stream",
     "text": [
      "MAIVMGRWKGAR*\n"
     ]
    }
   ],
   "source": [
    "print(coding_dna.translate(table=2))"
   ]
  },
  {
   "cell_type": "code",
   "execution_count": 9,
   "id": "9fef8f85-ab4f-4612-b90c-1399f2cf2e91",
   "metadata": {},
   "outputs": [
    {
     "name": "stdout",
     "output_type": "stream",
     "text": [
      "MAIVMGRWKGAR\n"
     ]
    }
   ],
   "source": [
    "print(coding_dna.translate(table=2, to_stop=True))"
   ]
  },
  {
   "cell_type": "code",
   "execution_count": 10,
   "id": "cb07faaf-896a-4250-bab1-1c19d278171b",
   "metadata": {},
   "outputs": [
    {
     "name": "stdout",
     "output_type": "stream",
     "text": [
      "MAIVMGR*KGAR*\n",
      "MAIVMGR\n",
      "MAIVMGRWKGAR*\n",
      "MAIVMGRWKGAR\n"
     ]
    }
   ],
   "source": [
    "print(coding_dna.translate())\n",
    "#Seq(\"MAIVMGR*KGAR*\")\n",
    "print(coding_dna.translate(to_stop=True))\n",
    "print(coding_dna.translate(table=2))\n",
    "print(coding_dna.translate(table=2, to_stop=True))"
   ]
  },
  {
   "cell_type": "code",
   "execution_count": 11,
   "id": "202fea0a-23e0-4a9a-8a6a-84f167177c57",
   "metadata": {},
   "outputs": [
    {
     "data": {
      "text/plain": [
       "Seq('MAIVMGRWKGAR@')"
      ]
     },
     "execution_count": 11,
     "metadata": {},
     "output_type": "execute_result"
    }
   ],
   "source": [
    "coding_dna.translate(table=2, stop_symbol=\"@\")\n",
    " "
   ]
  },
  {
   "cell_type": "code",
   "execution_count": 12,
   "id": "f5b4dc36-8cab-4af6-9f54-05a80615f69d",
   "metadata": {},
   "outputs": [
    {
     "name": "stdout",
     "output_type": "stream",
     "text": [
      "GTGAAAAAGATGCAATCTATCGTACTCGCACTTTCCCTGGTTCTGGTCGCTCCCATGGCAGCACAGGCTGCGGAAATTACGTTAGTCCCGTCAGTAAAATTACAGATAGGCGATCGTGATAATCGTGGCTATTACTGGGATGGAGGTCACTGGCGCGACCACGGCTGGTGGAAACAACATTATGAATGGCGAGGCAATCGCTGGCACCTACACGGACCGCCGCCACCGCCGCGCCACCATAAGAAAGCTCCTCATGATCATCACGGCGGTCATGGTCCAGGCAAACATCACCGCTAA\n"
     ]
    }
   ],
   "source": [
    "from Bio.Seq import Seq\n",
    "gene=Seq(\"GTGAAAAAGATGCAATCTATCGTACTCGCACTTTCCCTGGTTCTGGTCGCTCCCATGGCA\"\n",
    "    \"GCACAGGCTGCGGAAATTACGTTAGTCCCGTCAGTAAAATTACAGATAGGCGATCGTGAT\"\n",
    "    \"AATCGTGGCTATTACTGGGATGGAGGTCACTGGCGCGACCACGGCTGGTGGAAACAACAT\"\n",
    "    \"TATGAATGGCGAGGCAATCGCTGGCACCTACACGGACCGCCGCCACCGCCGCGCCACCAT\"\n",
    "    \"AAGAAAGCTCCTCATGATCATCACGGCGGTCATGGTCCAGGCAAACATCACCGCTAA\")\n",
    "print(gene)"
   ]
  },
  {
   "cell_type": "code",
   "execution_count": 13,
   "id": "2fab2626-538f-4b70-99a4-f5d1ae8d20f4",
   "metadata": {},
   "outputs": [
    {
     "name": "stdout",
     "output_type": "stream",
     "text": [
      "VKKMQSIVLALSLVLVAPMAAQAAEITLVPSVKLQIGDRDNRGYYWDGGHWRDHGWWKQHYEWRGNRWHLHGPPPPPRHHKKAPHDHHGGHGPGKHHR*\n"
     ]
    }
   ],
   "source": [
    "print(gene.translate(table=\"Bacterial\"))  "
   ]
  },
  {
   "cell_type": "code",
   "execution_count": 14,
   "id": "82a6728e-f65b-4231-ac14-73e5e0b2212f",
   "metadata": {},
   "outputs": [
    {
     "data": {
      "text/plain": [
       "Seq('VKKMQSIVLALSLVLVAPMAAQAAEITLVPSVKLQIGDRDNRGYYWDGGHWRDH...HHR')"
      ]
     },
     "execution_count": 14,
     "metadata": {},
     "output_type": "execute_result"
    }
   ],
   "source": [
    "gene.translate(table=\"Bacterial\", to_stop=True)"
   ]
  },
  {
   "cell_type": "code",
   "execution_count": 15,
   "id": "39d9ee99-668e-4b20-939e-b95da51455bb",
   "metadata": {},
   "outputs": [
    {
     "data": {
      "text/plain": [
       "Seq('MKKMQSIVLALSLVLVAPMAAQAAEITLVPSVKLQIGDRDNRGYYWDGGHWRDH...HHR')"
      ]
     },
     "execution_count": 15,
     "metadata": {},
     "output_type": "execute_result"
    }
   ],
   "source": [
    "gene.translate(table=\"Bacterial\", cds=True)"
   ]
  },
  {
   "cell_type": "code",
   "execution_count": 16,
   "id": "98994010-ab67-4d30-93bb-85ca59154298",
   "metadata": {},
   "outputs": [
    {
     "name": "stdout",
     "output_type": "stream",
     "text": [
      "GTGAAAAAGATGCAATCTATCGTACTCGCACTTTCCCTGGTTCTGGTCGCTCCCATGGCAGCACAGGCTGCGGAAATTACGTTAGTCCCGTCAGTAAAATTACAGATAGGCGATCGTGATAATCGTGGCTATTACTGGGATGGAGGTCACTGGCGCGACCACGGCTGGTGGAAACAACATTATGAATGGCGAGGCAATCGCTGGCACCTACACGGACCGCCGCCACCGCCGCGCCACCATAAGAAAGCTCCTCATGATCATCACGGCGGTCATGGTCCAGGCAAACATCACCGCTAA\n",
      "VKKMQSIVLALSLVLVAPMAAQAAEITLVPSVKLQIGDRDNRGYYWDGGHWRDHGWWKQHYEWRGNRWHLHGPPPPPRHHKKAPHDHHGGHGPGKHHR*\n",
      "VKKMQSIVLALSLVLVAPMAAQAAEITLVPSVKLQIGDRDNRGYYWDGGHWRDHGWWKQHYEWRGNRWHLHGPPPPPRHHKKAPHDHHGGHGPGKHHR\n",
      "MKKMQSIVLALSLVLVAPMAAQAAEITLVPSVKLQIGDRDNRGYYWDGGHWRDHGWWKQHYEWRGNRWHLHGPPPPPRHHKKAPHDHHGGHGPGKHHR\n"
     ]
    }
   ],
   "source": [
    "print(gene)\n",
    "print(gene.translate(table=\"Bacterial\"))  \n",
    "print(gene.translate(table=\"Bacterial\", to_stop=True))\n",
    "print(gene.translate(table=\"Bacterial\", cds=True))"
   ]
  },
  {
   "cell_type": "code",
   "execution_count": 17,
   "id": "49cbd298-d93a-4b0f-8d55-f11c03bf9193",
   "metadata": {},
   "outputs": [
    {
     "name": "stdout",
     "output_type": "stream",
     "text": [
      "VKKMQSIVLALSLVLVAPMAAQAAEITLVPSVKLQIGDRDNRGYYWDGGHWRDHGWWKQHYEWRGNRWHLHGPPPPPRHHKKAPHDHHGGHGPGKHHR*\n"
     ]
    }
   ],
   "source": [
    "print (gene.translate(table=\"Bacterial\"))\n",
    "#Seq('VKKMQSIVLALSLVLVAPMAAQAAEITLVPSVKLQIGDRDNRGYYWDGGHWRDH...HR*',ProteinAlpabet()) "
   ]
  },
  {
   "cell_type": "code",
   "execution_count": 18,
   "id": "901464be-45ef-49df-a7fb-14f2621c0da1",
   "metadata": {},
   "outputs": [
    {
     "data": {
      "text/plain": [
       "Seq('VKKMQSIVLALSLVLVAPMAAQAAEITLVPSVKLQIGDRDNRGYYWDGGHWRDH...HHR')"
      ]
     },
     "execution_count": 18,
     "metadata": {},
     "output_type": "execute_result"
    }
   ],
   "source": [
    "gene.translate(table=\"Bacterial\", to_stop=True)\n",
    "Seq('VKKMQSIVLALSLVLVAPMAAQAAEITLVPSVKLQIGDRDNRGYYWDGGHWRDH...HHR')\n",
    "#Bakterial genetik kodda GTG etibarlı başlanğıc kodonudur və \n",
    "#normal olaraq Valini kodlasa da, başlanğıc kodonu kimi istifadə edilərsə, \n",
    "#metionin kimi tərcümə edilməlidir.\n",
    " "
   ]
  },
  {
   "cell_type": "code",
   "execution_count": 19,
   "id": "05e9d7bb-b667-4628-889f-fa5c7622eee6",
   "metadata": {},
   "outputs": [
    {
     "data": {
      "text/plain": [
       "Seq('MKKMQSIVLALSLVLVAPMAAQAAEITLVPSVKLQIGDRDNRGYYWDGGHWRDH...HHR')"
      ]
     },
     "execution_count": 19,
     "metadata": {},
     "output_type": "execute_result"
    }
   ],
   "source": [
    "gene.translate(table=\"Bacterial\", cds=True)\n",
    "Seq('MKKMQSIVLALSLVLVAPMAAQAAEITLVPSVKLQIGDRDNRGYYWDGGHWRDH...HHR')"
   ]
  },
  {
   "cell_type": "code",
   "execution_count": 20,
   "id": "84d9d1b2-93a6-4a6f-8ac8-fa54a56e91ca",
   "metadata": {
    "scrolled": true
   },
   "outputs": [
    {
     "name": "stdout",
     "output_type": "stream",
     "text": [
      "Table 1 Standard, SGC0\n",
      "\n",
      "  |  T      |  C      |  A      |  G      |\n",
      "--+---------+---------+---------+---------+--\n",
      "T | TTT F   | TCT S   | TAT Y   | TGT C   | T\n",
      "T | TTC F   | TCC S   | TAC Y   | TGC C   | C\n",
      "T | TTA L   | TCA S   | TAA Stop| TGA Stop| A\n",
      "T | TTG L(s)| TCG S   | TAG Stop| TGG W   | G\n",
      "--+---------+---------+---------+---------+--\n",
      "C | CTT L   | CCT P   | CAT H   | CGT R   | T\n",
      "C | CTC L   | CCC P   | CAC H   | CGC R   | C\n",
      "C | CTA L   | CCA P   | CAA Q   | CGA R   | A\n",
      "C | CTG L(s)| CCG P   | CAG Q   | CGG R   | G\n",
      "--+---------+---------+---------+---------+--\n",
      "A | ATT I   | ACT T   | AAT N   | AGT S   | T\n",
      "A | ATC I   | ACC T   | AAC N   | AGC S   | C\n",
      "A | ATA I   | ACA T   | AAA K   | AGA R   | A\n",
      "A | ATG M(s)| ACG T   | AAG K   | AGG R   | G\n",
      "--+---------+---------+---------+---------+--\n",
      "G | GTT V   | GCT A   | GAT D   | GGT G   | T\n",
      "G | GTC V   | GCC A   | GAC D   | GGC G   | C\n",
      "G | GTA V   | GCA A   | GAA E   | GGA G   | A\n",
      "G | GTG V   | GCG A   | GAG E   | GGG G   | G\n",
      "--+---------+---------+---------+---------+--\n",
      "Table 2 Vertebrate Mitochondrial, SGC1\n",
      "\n",
      "  |  T      |  C      |  A      |  G      |\n",
      "--+---------+---------+---------+---------+--\n",
      "T | TTT F   | TCT S   | TAT Y   | TGT C   | T\n",
      "T | TTC F   | TCC S   | TAC Y   | TGC C   | C\n",
      "T | TTA L   | TCA S   | TAA Stop| TGA W   | A\n",
      "T | TTG L   | TCG S   | TAG Stop| TGG W   | G\n",
      "--+---------+---------+---------+---------+--\n",
      "C | CTT L   | CCT P   | CAT H   | CGT R   | T\n",
      "C | CTC L   | CCC P   | CAC H   | CGC R   | C\n",
      "C | CTA L   | CCA P   | CAA Q   | CGA R   | A\n",
      "C | CTG L   | CCG P   | CAG Q   | CGG R   | G\n",
      "--+---------+---------+---------+---------+--\n",
      "A | ATT I(s)| ACT T   | AAT N   | AGT S   | T\n",
      "A | ATC I(s)| ACC T   | AAC N   | AGC S   | C\n",
      "A | ATA M(s)| ACA T   | AAA K   | AGA Stop| A\n",
      "A | ATG M(s)| ACG T   | AAG K   | AGG Stop| G\n",
      "--+---------+---------+---------+---------+--\n",
      "G | GTT V   | GCT A   | GAT D   | GGT G   | T\n",
      "G | GTC V   | GCC A   | GAC D   | GGC G   | C\n",
      "G | GTA V   | GCA A   | GAA E   | GGA G   | A\n",
      "G | GTG V(s)| GCG A   | GAG E   | GGG G   | G\n",
      "--+---------+---------+---------+---------+--\n"
     ]
    }
   ],
   "source": [
    "#Translation tables\n",
    "#Standart translation cədvəli və  Vertebrate Mitoxondrial DNT üçün translation cədvəli.\n",
    "from Bio.Data import CodonTable\n",
    "standard_table = CodonTable.unambiguous_dna_by_name[\"Standard\"]\n",
    "mito_table = CodonTable.unambiguous_dna_by_name[\"Vertebrate Mitochondrial\"]\n",
    "print(standard_table)\n",
    "print(mito_table)"
   ]
  },
  {
   "cell_type": "code",
   "execution_count": 21,
   "id": "a5af4ea7-5fad-4824-9fe5-32e6a024cadb",
   "metadata": {},
   "outputs": [
    {
     "data": {
      "text/plain": [
       "'T'"
      ]
     },
     "execution_count": 21,
     "metadata": {},
     "output_type": "execute_result"
    }
   ],
   "source": [
    "#stop ve start codonlari...\n",
    "mito_table.stop_codons\n",
    "['TAA', 'TAG', 'AGA', 'AGG']\n",
    "mito_table.start_codons\n",
    "['ATT', 'ATC', 'ATA', 'ATG', 'GTG']\n",
    "mito_table.forward_table[\"ACG\"]\n",
    "'T'"
   ]
  },
  {
   "cell_type": "code",
   "execution_count": 22,
   "id": "c86a0760-31d1-4894-9d8d-0839c86d8945",
   "metadata": {},
   "outputs": [
    {
     "name": "stdout",
     "output_type": "stream",
     "text": [
      "['TAA', 'TAG', 'AGA', 'AGG']\n"
     ]
    }
   ],
   "source": [
    "print(mito_table.stop_codons)"
   ]
  },
  {
   "cell_type": "code",
   "execution_count": 23,
   "id": "25161bef-93a0-4c2a-ac34-80a97b449853",
   "metadata": {},
   "outputs": [
    {
     "name": "stdout",
     "output_type": "stream",
     "text": [
      "['ATT', 'ATC', 'ATA', 'ATG', 'GTG']\n"
     ]
    }
   ],
   "source": [
    "print(mito_table.start_codons)"
   ]
  },
  {
   "cell_type": "code",
   "execution_count": 24,
   "id": "629d7a2c-da52-4497-91cc-873a8272e732",
   "metadata": {},
   "outputs": [
    {
     "name": "stdout",
     "output_type": "stream",
     "text": [
      "{'TTT': 'F', 'TTC': 'F', 'TTA': 'L', 'TTG': 'L', 'TCT': 'S', 'TCC': 'S', 'TCA': 'S', 'TCG': 'S', 'TAT': 'Y', 'TAC': 'Y', 'TGT': 'C', 'TGC': 'C', 'TGA': 'W', 'TGG': 'W', 'CTT': 'L', 'CTC': 'L', 'CTA': 'L', 'CTG': 'L', 'CCT': 'P', 'CCC': 'P', 'CCA': 'P', 'CCG': 'P', 'CAT': 'H', 'CAC': 'H', 'CAA': 'Q', 'CAG': 'Q', 'CGT': 'R', 'CGC': 'R', 'CGA': 'R', 'CGG': 'R', 'ATT': 'I', 'ATC': 'I', 'ATA': 'M', 'ATG': 'M', 'ACT': 'T', 'ACC': 'T', 'ACA': 'T', 'ACG': 'T', 'AAT': 'N', 'AAC': 'N', 'AAA': 'K', 'AAG': 'K', 'AGT': 'S', 'AGC': 'S', 'GTT': 'V', 'GTC': 'V', 'GTA': 'V', 'GTG': 'V', 'GCT': 'A', 'GCC': 'A', 'GCA': 'A', 'GCG': 'A', 'GAT': 'D', 'GAC': 'D', 'GAA': 'E', 'GAG': 'E', 'GGT': 'G', 'GGC': 'G', 'GGA': 'G', 'GGG': 'G'}\n"
     ]
    }
   ],
   "source": [
    "print(mito_table.forward_table)"
   ]
  },
  {
   "cell_type": "code",
   "execution_count": 25,
   "id": "b87684d3-8646-4cfe-9baf-9375ff7e721b",
   "metadata": {},
   "outputs": [
    {
     "name": "stdout",
     "output_type": "stream",
     "text": [
      "True\n",
      "True\n"
     ]
    }
   ],
   "source": [
    "#Seq obyektlərinin müqayisə edilməsi\n",
    "from Bio.Seq import Seq\n",
    "seq1 = Seq(\"ACGT\")\n",
    "\"ACGT\" == seq1\n",
    "print(\"ACGT\"==seq1)\n",
    "print(seq1==\"ACGT\")"
   ]
  },
  {
   "cell_type": "code",
   "execution_count": 26,
   "id": "df2642b0-2a31-454f-88be-2de383e1392f",
   "metadata": {},
   "outputs": [],
   "source": [
    "#Ardıcıllığı naməlum olan ardıcıllıqlar\n",
    "from Bio.Seq import Seq\n",
    "unknown_seq = Seq(None, 10)\n",
    " "
   ]
  },
  {
   "cell_type": "code",
   "execution_count": 27,
   "id": "f61fe9c5-7e94-491f-9eb9-9ed7f16f9458",
   "metadata": {},
   "outputs": [
    {
     "name": "stdout",
     "output_type": "stream",
     "text": [
      "seq_unknown\n",
      "11\n"
     ]
    }
   ],
   "source": [
    "from Bio.Seq import Seq\n",
    "seq_unknown = Seq(None, length=1000)  # 1000 uzunluğunda, lakin içi boş olan bir Seq obyekti\n",
    "print(\"seq_unknown\")\n",
    "print(len(\"seq_unknown\"))  # 1000 çap edəcək"
   ]
  },
  {
   "cell_type": "code",
   "execution_count": 28,
   "id": "9384dbe8-1ec0-408f-8806-cad825f5426a",
   "metadata": {},
   "outputs": [
    {
     "ename": "SyntaxError",
     "evalue": "invalid syntax (2638925397.py, line 2)",
     "output_type": "error",
     "traceback": [
      "\u001b[0;36m  Cell \u001b[0;32mIn[28], line 2\u001b[0;36m\u001b[0m\n\u001b[0;31m    s hg38.chr7     117512683 36 + 159345973 TTGAAAACCTGAATGTGAGAGTCAGTCAAGGATAGT\u001b[0m\n\u001b[0m      ^\u001b[0m\n\u001b[0;31mSyntaxError\u001b[0m\u001b[0;31m:\u001b[0m invalid syntax\n"
     ]
    }
   ],
   "source": [
    "#MAF (Multiple Alignment Format)\n",
    "s hg38.chr7     117512683 36 + 159345973 TTGAAAACCTGAATGTGAGAGTCAGTCAAGGATAGT\n",
    "s panTro4.chr7  119000876 36 + 161824586 TTGAAAACCTGAATGTGAGAGTCACTCAAGGATAGT\n",
    "s rheMac3.chr3  156330991 36 + 198365852 CTGAAATCCTGAATGTGAGAGTCAATCAAGGATGGT\n",
    "s mm10.chr6      18207101 36 + 149736546 CTGAAAACCTAAGTAGGAGAATCAACTAAGGATAAT\n",
    "s rn5.chr4       42326848 36 + 248343840 CTGAAAACCTAAGTAGGAGAGACAGTTAAAGATAAT\n",
    "s canFam3.chr14  56325207 36 +  60966679 TTGAAAAACTGATTATTAGAGTCAATTAAGGATAGT\n",
    "s monDom5.chr8  173163865 36 + 312544902 TTAAGAAACTGGAAATGAGGGTTGAATGACAAACTT"
   ]
  },
  {
   "cell_type": "code",
   "execution_count": null,
   "id": "d872a4f6-6be7-4530-aaa8-4d9366b27192",
   "metadata": {},
   "outputs": [
    {
     "data": {
      "text/plain": [
       "Seq({0: 'AGAGTCAGTCAAGGATAGT'}, length=41833273)"
      ]
     },
     "execution_count": 158,
     "metadata": {},
     "output_type": "execute_result"
    }
   ],
   "source": [
    "from Bio.Seq import Seq\n",
    "seq = Seq({117512683: \"TTGAAAACCTGAATGTGAGAGTCAGTCAAGGATAGT\"}, length=159345973)\n",
    " \n",
    "seq[1000:1020]\n",
    "Seq(None, length=20)\n",
    "seq[117512690:117512700]\n",
    "Seq('CCTGAATGTG')\n",
    "seq[117512670:117512690]\n",
    "Seq({13: 'TTGAAAA'}, length=20)\n",
    "seq[117512700:]\n",
    "Seq({0: 'AGAGTCAGTCAAGGATAGT'}, length=41833273)"
   ]
  },
  {
   "cell_type": "code",
   "execution_count": null,
   "id": "0ee947bd-730a-41eb-bc20-c498010d0775",
   "metadata": {},
   "outputs": [
    {
     "data": {
      "text/plain": [
       "MutableSeq('GCCATTGTAATGGGCCGCTGAAAGGGTGCCCGA')"
      ]
     },
     "execution_count": 160,
     "metadata": {},
     "output_type": "execute_result"
    }
   ],
   "source": [
    "#MutableSeq objects\n",
    "from Bio.Seq import Seq\n",
    "my_seq = Seq(\"GCCATTGTAATGGGCCGCTGAAAGGGTGCCCGA\")\n",
    "from Bio.Seq import MutableSeq\n",
    "mutable_seq = MutableSeq(my_seq)\n",
    "MutableSeq('GCCATTGTAATGGGCCGCTGAAAGGGTGCCCGA')"
   ]
  },
  {
   "cell_type": "code",
   "execution_count": null,
   "id": "6bacb229-04ae-40f3-99da-b7b859202c9d",
   "metadata": {},
   "outputs": [],
   "source": [
    "mutable_seq[5]=\"C\""
   ]
  },
  {
   "cell_type": "code",
   "execution_count": null,
   "id": "ca9eff41-8453-41f0-a749-63d7ba10298b",
   "metadata": {},
   "outputs": [
    {
     "name": "stdout",
     "output_type": "stream",
     "text": [
      "GCCATCGTAATGGGCCGCTGAAAGGGTGCCCGA\n"
     ]
    }
   ],
   "source": [
    "print(mutable_seq)"
   ]
  },
  {
   "cell_type": "code",
   "execution_count": null,
   "id": "9cfdd244-496b-4828-9594-814dc5173452",
   "metadata": {},
   "outputs": [
    {
     "name": "stdout",
     "output_type": "stream",
     "text": [
      "GCCACGTAATGGGCCGCTGAAAGGGTGCCCGA\n"
     ]
    }
   ],
   "source": [
    "#remove funkisyasi T nukleotidini cixaracaq.\n",
    "mutable_seq.remove(\"T\")\n",
    "print(mutable_seq)"
   ]
  },
  {
   "cell_type": "code",
   "execution_count": null,
   "id": "f0c489d1-c459-4155-b51a-164227e4cb7f",
   "metadata": {},
   "outputs": [
    {
     "name": "stdout",
     "output_type": "stream",
     "text": [
      "AGCCCGTGGGAAAGTCGCCGGGTAATGCACCG\n"
     ]
    }
   ],
   "source": [
    "#reverse funksiyasi\n",
    "mutable_seq.reverse()\n",
    "print(mutable_seq)"
   ]
  },
  {
   "cell_type": "code",
   "execution_count": null,
   "id": "11aa222b-b2c2-417b-9d30-a5fae6e1fa44",
   "metadata": {},
   "outputs": [
    {
     "ename": "ImportError",
     "evalue": "cannot import name 'UnknownSeq' from 'Bio.Seq' (C:\\Users\\Acer\\anaconda3\\Lib\\site-packages\\Bio\\Seq.py)",
     "output_type": "error",
     "traceback": [
      "\u001b[1;31m---------------------------------------------------------------------------\u001b[0m",
      "\u001b[1;31mImportError\u001b[0m                               Traceback (most recent call last)",
      "Cell \u001b[1;32mIn[174], line 2\u001b[0m\n\u001b[0;32m      1\u001b[0m \u001b[38;5;66;03m#Unknown objects\u001b[39;00m\n\u001b[1;32m----> 2\u001b[0m \u001b[38;5;28;01mfrom\u001b[39;00m \u001b[38;5;21;01mBio\u001b[39;00m\u001b[38;5;21;01m.\u001b[39;00m\u001b[38;5;21;01mSeq\u001b[39;00m \u001b[38;5;28;01mimport\u001b[39;00m UnknownSeq\n\u001b[0;32m      3\u001b[0m unk\u001b[38;5;241m=\u001b[39mUnknownSeq(\u001b[38;5;241m20\u001b[39m)\n\u001b[0;32m      4\u001b[0m \u001b[38;5;28mprint\u001b[39m(unk)\n",
      "\u001b[1;31mImportError\u001b[0m: cannot import name 'UnknownSeq' from 'Bio.Seq' (C:\\Users\\Acer\\anaconda3\\Lib\\site-packages\\Bio\\Seq.py)"
     ]
    }
   ],
   "source": [
    " #Unknown objects\n",
    "from Bio.Seq import UnknownSeq\n",
    "unk=UnknownSeq(20)\n",
    "print(unk)"
   ]
  },
  {
   "cell_type": "code",
   "execution_count": null,
   "id": "4e5f3413-0112-4a7d-ae6f-4001b9d8920e",
   "metadata": {},
   "outputs": [
    {
     "ename": "ImportError",
     "evalue": "cannot import name 'UnknownSeq' from 'Bio.Seq' (C:\\Users\\Acer\\anaconda3\\Lib\\site-packages\\Bio\\Seq.py)",
     "output_type": "error",
     "traceback": [
      "\u001b[1;31m---------------------------------------------------------------------------\u001b[0m",
      "\u001b[1;31mImportError\u001b[0m                               Traceback (most recent call last)",
      "Cell \u001b[1;32mIn[176], line 1\u001b[0m\n\u001b[1;32m----> 1\u001b[0m \u001b[38;5;28;01mfrom\u001b[39;00m \u001b[38;5;21;01mBio\u001b[39;00m\u001b[38;5;21;01m.\u001b[39;00m\u001b[38;5;21;01mSeq\u001b[39;00m \u001b[38;5;28;01mimport\u001b[39;00m UnknownSeq\n\u001b[0;32m      2\u001b[0m unk_dna\u001b[38;5;241m=\u001b[39mUnknownSeq(\u001b[38;5;241m20\u001b[39m,character\u001b[38;5;241m=\u001b[39m\u001b[38;5;124m\"\u001b[39m\u001b[38;5;124mN\u001b[39m\u001b[38;5;124m\"\u001b[39m)\n\u001b[0;32m      3\u001b[0m \u001b[38;5;28mprint\u001b[39m(unk_dna)\n",
      "\u001b[1;31mImportError\u001b[0m: cannot import name 'UnknownSeq' from 'Bio.Seq' (C:\\Users\\Acer\\anaconda3\\Lib\\site-packages\\Bio\\Seq.py)"
     ]
    }
   ],
   "source": [
    "from Bio.Seq import UnknownSeq\n",
    "unk_dna=UnknownSeq(20,character=\"N\")\n",
    "print(unk_dna)"
   ]
  },
  {
   "cell_type": "code",
   "execution_count": null,
   "id": "0706d38c-5d0f-41f5-9948-9dc5d53810f8",
   "metadata": {},
   "outputs": [
    {
     "name": "stdout",
     "output_type": "stream",
     "text": [
      "CTAACCAGCAGCACGACCACCCTTCCAACGACCCATAACAGC\n",
      "GCUGUUAUGGGUCGUUGGAAGGGUGGUCGUGCUGCUGGUUAG\n",
      "GCTGTTATGGGTCGTTGGAAGGGTGGTCGTGCTGCTGGTTAG\n",
      "AVMGRWKGGRAAG*\n"
     ]
    }
   ],
   "source": [
    "#Stringlerle islemek...\n",
    "from Bio.Seq import reverse_complement, transcribe, back_transcribe, translate\n",
    "my_string = \"GCTGTTATGGGTCGTTGGAAGGGTGGTCGTGCTGCTGGTTAG\"\n",
    "print(reverse_complement(my_string))\n",
    "print(transcribe(my_string))\n",
    "print(back_transcribe(my_string))\n",
    "print(translate(my_string))"
   ]
  },
  {
   "cell_type": "code",
   "execution_count": null,
   "id": "b3cbfe5a-1e1c-413a-a4ed-45525759477f",
   "metadata": {},
   "outputs": [
    {
     "name": "stdout",
     "output_type": "stream",
     "text": [
      "9\n",
      "9\n",
      "9\n",
      "9\n",
      "9\n"
     ]
    }
   ],
   "source": [
    "#Alt ardıcıllıqların tapılması\n",
    "from Bio.Seq import Seq, MutableSeq\n",
    "seq = Seq(\"GCCATTGTAATGGGCCGCTGAAAGGGTGCCCGA\")\n",
    "print(seq.index(\"ATGGGCCGC\"))\n",
    "print(seq.index(b\"ATGGGCCGC\"))\n",
    "print(seq.index(bytearray(b\"ATGGGCCGC\")))\n",
    "print(seq.index(Seq(\"ATGGGCCGC\")))\n",
    "print(seq.index(MutableSeq(\"ATGGGCCGC\")))"
   ]
  },
  {
   "cell_type": "code",
   "execution_count": null,
   "id": "4d106461-3dcc-4c79-922d-e9a0dd03adee",
   "metadata": {},
   "outputs": [
    {
     "name": "stdout",
     "output_type": "stream",
     "text": [
      "1 CC\n",
      "11 GGG\n",
      "14 CC\n",
      "23 GGG\n",
      "28 CC\n",
      "29 CC\n"
     ]
    },
    {
     "data": {
      "text/plain": [
       "29"
      ]
     },
     "execution_count": 198,
     "metadata": {},
     "output_type": "execute_result"
    }
   ],
   "source": [
    "for index, sub in seq.search([\"CC\", \"GGG\", \"CC\"]):\n",
    "    print(index, sub)\n",
    "seq.find(\"ACTG\")\n",
    "seq.find(\"CC\")\n",
    "seq.rfind(\"CC\")\n",
    "#GCCATTGTAATGGGCCGCTGAAAGGGTGCCCGA"
   ]
  }
 ],
 "metadata": {
  "kernelspec": {
   "display_name": "base",
   "language": "python",
   "name": "python3"
  },
  "language_info": {
   "codemirror_mode": {
    "name": "ipython",
    "version": 3
   },
   "file_extension": ".py",
   "mimetype": "text/x-python",
   "name": "python",
   "nbconvert_exporter": "python",
   "pygments_lexer": "ipython3",
   "version": "3.12.7"
  }
 },
 "nbformat": 4,
 "nbformat_minor": 5
}
