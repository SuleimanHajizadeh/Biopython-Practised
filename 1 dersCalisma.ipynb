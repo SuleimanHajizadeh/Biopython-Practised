{
 "cells": [
  {
   "cell_type": "code",
   "execution_count": 1,
   "id": "febe61c1-c07d-44c5-917b-1c5ce1c378a1",
   "metadata": {},
   "outputs": [
    {
     "name": "stdout",
     "output_type": "stream",
     "text": [
      "Requirement already satisfied: biopython in /opt/anaconda3/lib/python3.12/site-packages (1.85)\n",
      "Requirement already satisfied: numpy in /opt/anaconda3/lib/python3.12/site-packages (from biopython) (1.26.4)\n",
      "Note: you may need to restart the kernel to use updated packages.\n"
     ]
    }
   ],
   "source": [
    "%pip install biopython"
   ]
  },
  {
   "cell_type": "code",
   "execution_count": 2,
   "id": "d5ff4219-e05b-4990-a515-561d81081483",
   "metadata": {},
   "outputs": [
    {
     "name": "stdout",
     "output_type": "stream",
     "text": [
      "1.85\n"
     ]
    }
   ],
   "source": [
    "import Bio\n",
    "print (Bio.__version__)"
   ]
  },
  {
   "cell_type": "code",
   "execution_count": 3,
   "id": "8751fe1c-c856-45da-a2a8-f75aa2dda16d",
   "metadata": {},
   "outputs": [
    {
     "name": "stdout",
     "output_type": "stream",
     "text": [
      "AGTACACTGGT\n"
     ]
    }
   ],
   "source": [
    "from Bio.Seq import Seq\n",
    "my_Seq=Seq(\"AGTACACTGGT\")\n",
    "print(my_Seq)"
   ]
  },
  {
   "cell_type": "code",
   "execution_count": 4,
   "id": "afef16f8-f77e-455a-a319-105bd00541fa",
   "metadata": {},
   "outputs": [
    {
     "data": {
      "text/plain": [
       "Seq('TCATGTGACCA')"
      ]
     },
     "execution_count": 4,
     "metadata": {},
     "output_type": "execute_result"
    }
   ],
   "source": [
    "my_Seq.complement()"
   ]
  },
  {
   "cell_type": "code",
   "execution_count": 5,
   "id": "20bc6642-bf94-46aa-a8c5-1217bef21fc1",
   "metadata": {},
   "outputs": [
    {
     "data": {
      "text/plain": [
       "Seq('ACCAGTGTACT')"
      ]
     },
     "execution_count": 5,
     "metadata": {},
     "output_type": "execute_result"
    }
   ],
   "source": [
    "my_Seq.reverse_complement()"
   ]
  },
  {
   "cell_type": "code",
   "execution_count": 6,
   "id": "900ac57f-433c-4e61-bade-7993680eb2f5",
   "metadata": {},
   "outputs": [
    {
     "name": "stdout",
     "output_type": "stream",
     "text": [
      "ID: rc_Z78522.1\n",
      "Sequence Length: 83\n",
      "Sequence: Seq('AGTCCACCGGATTCACTCGATCATATATTCTGCTGTCTCAACAATGATCCTTCC...ACG')\n"
     ]
    }
   ],
   "source": [
    "from Bio import SeqIO\n",
    "file_path = r\"ls_orchid.fasta\"  # Fayl adını düzgün yaz\n",
    "for seq_record in SeqIO.parse(file_path, \"fasta\"):\n",
    "    print(\"ID:\", seq_record.id)\n",
    "    print(\"Sequence Length:\", len(seq_record))\n",
    "    print(\"Sequence:\", repr(seq_record.seq))  # Nukleotid ardıcıllığını çap edir"
   ]
  },
  {
   "cell_type": "code",
   "execution_count": 7,
   "id": "5b28e1f0-2363-401e-baea-24cf8c97e400",
   "metadata": {},
   "outputs": [
    {
     "name": "stdout",
     "output_type": "stream",
     "text": [
      "ID: Z78533.1\n",
      "Sequence Length: 740\n",
      "Sequence: Seq('CGTAACAAGGTTTCCGTAGGTGAACCTGCGGAAGGATCATTGATGAGACCGTGG...CGC')\n",
      "ID: Z78532.1\n",
      "Sequence Length: 753\n",
      "Sequence: Seq('CGTAACAAGGTTTCCGTAGGTGAACCTGCGGAAGGATCATTGTTGAGACAACAG...GGC')\n",
      "ID: Z78531.1\n",
      "Sequence Length: 748\n",
      "Sequence: Seq('CGTAACAAGGTTTCCGTAGGTGAACCTGCGGAAGGATCATTGTTGAGACAGCAG...TAA')\n",
      "ID: Z78530.1\n",
      "Sequence Length: 744\n",
      "Sequence: Seq('CGTAACAAGGTTTCCGTAGGTGAACCTGCGGAAGGATCATTGTTGAAACAACAT...CAT')\n",
      "ID: Z78529.1\n",
      "Sequence Length: 733\n",
      "Sequence: Seq('ACGGCGAGCTGCCGAAGGACATTGTTGAGACAGCAGAATATACGATTGAGTGAA...AAA')\n",
      "ID: Z78527.1\n",
      "Sequence Length: 718\n",
      "Sequence: Seq('CGTAACAAGGTTTCCGTAGGTGAACCTGCGGAAGGATCATTGTTGAGACAGTAG...CCC')\n",
      "ID: Z78526.1\n",
      "Sequence Length: 730\n",
      "Sequence: Seq('CGTAACAAGGTTTCCGTAGGTGAACCTGCGGAAGGATCATTGTTGAGACAGTAG...TGT')\n",
      "ID: Z78525.1\n",
      "Sequence Length: 704\n",
      "Sequence: Seq('TGTTGAGATAGCAGAATATACATCGAGTGAATCCGGAGGACCTGTGGTTATTCG...GCA')\n",
      "ID: Z78524.1\n",
      "Sequence Length: 740\n",
      "Sequence: Seq('CGTAACAAGGTTTCCGTAGGTGAACCTGCGGAAGGATCATTGTTGAGATAGTAG...AGC')\n",
      "ID: Z78523.1\n",
      "Sequence Length: 709\n",
      "Sequence: Seq('CGTAACCAGGTTTCCGTAGGTGAACCTGCGGCAGGATCATTGTTGAGACAGCAG...AAG')\n",
      "ID: Z78522.1\n",
      "Sequence Length: 700\n",
      "Sequence: Seq('CGTAACAAGGTTTCCGTAGGTGAACCTGCGGAAGGATCATTGTTGAGACAGCAG...GAG')\n",
      "ID: Z78521.1\n",
      "Sequence Length: 726\n",
      "Sequence: Seq('GTAGGTGAACCTGCGGAAGGATCATTGTTGAGACAGTAGAATATATGATCGAGT...ACC')\n",
      "ID: Z78520.1\n",
      "Sequence Length: 753\n",
      "Sequence: Seq('CGTAACAAGGTTTCCGTAGGTGAACCTGCGGAAGGATCATTGTTGAGACAGCAG...TTT')\n",
      "ID: Z78519.1\n",
      "Sequence Length: 699\n",
      "Sequence: Seq('ATATGATCGAGTGAATCTGGTGGACTTGTGGTTACTCAGCTCGCCATAGGCTTT...TTA')\n",
      "ID: Z78518.1\n",
      "Sequence Length: 658\n",
      "Sequence: Seq('CGTAACAAGGTTTCCGTAGGTGAACCTGCGGGAGGATCATTGTTGAGATAGTAG...TCC')\n",
      "ID: Z78517.1\n",
      "Sequence Length: 752\n",
      "Sequence: Seq('CGTAACAAGGTTTCCGTAGGTGAACCTGCGGAAGGATCATTGTTGAGACAGTAG...AGC')\n",
      "ID: Z78516.1\n",
      "Sequence Length: 726\n",
      "Sequence: Seq('CGTAACAAGGTTTCCGTAGGTGAACCTGCGGAAGGATCATTGTTGAGACAGTAT...TAA')\n",
      "ID: Z78515.1\n",
      "Sequence Length: 765\n",
      "Sequence: Seq('CGTAACAAGGTTTCCGTAGGTGAACCTGCGGAAGGATCATTGCTGAGACCGTAG...AGC')\n",
      "ID: Z78514.1\n",
      "Sequence Length: 755\n",
      "Sequence: Seq('CGTAACAAGGTTTCCGTAGGTGGACCTTCGGGAGGATCATTTTTGAAGCCCCCA...CTA')\n",
      "ID: Z78513.1\n",
      "Sequence Length: 742\n",
      "Sequence: Seq('CGTAACAAGGTTTCCGTAGGTGAACCTGCGGAAGGATCATTGTTGAGACCGCCA...GAG')\n",
      "ID: Z78512.1\n",
      "Sequence Length: 762\n",
      "Sequence: Seq('CGTAACAAGGTTTCCGTAGGTGGACCTTCGGGAGGATCATTTTTGAAGCCCCCA...AGC')\n",
      "ID: Z78511.1\n",
      "Sequence Length: 745\n",
      "Sequence: Seq('CGTAACAAGGTTTCCGTAGGTGAACCTTCGGAAGGATCATTGTTGAGACCCCCA...GGA')\n",
      "ID: Z78510.1\n",
      "Sequence Length: 750\n",
      "Sequence: Seq('CTAACCAGGGTTCCGAGGTGACCTTCGGGAGGATTCCTTTTTAAGCCCCCGAAA...TTA')\n",
      "ID: Z78509.1\n",
      "Sequence Length: 731\n",
      "Sequence: Seq('CGTAACAAGGTTTCCGTAGGTGAACCTGCGGAAGGATCATTGTTGAGACCGCCA...GGA')\n",
      "ID: Z78508.1\n",
      "Sequence Length: 741\n",
      "Sequence: Seq('CGTAACAAGGTTTCCGTAGGTGAACCTGCGGAAGGATCATTGTTGAGACCGCCA...TGA')\n",
      "ID: Z78507.1\n",
      "Sequence Length: 740\n",
      "Sequence: Seq('CGTAACAAGGTTTCCGTAGGTGAACCTGCGGAAGGATCATTGTTGAGACCCCCA...TGA')\n",
      "ID: Z78506.1\n",
      "Sequence Length: 727\n",
      "Sequence: Seq('CGTAACAAGGTTTCCGTAGGTGAACCTGCGGAAGGATCATTGTTGAGACCGCAA...TGA')\n",
      "ID: Z78505.1\n",
      "Sequence Length: 711\n",
      "Sequence: Seq('CGTAACAAGGTTTCCGTAGGTGAACCTGCGGAAGGATCATTGTTGAGACCGCCA...TTT')\n",
      "ID: Z78504.1\n",
      "Sequence Length: 743\n",
      "Sequence: Seq('CGTAACAAGGTTTCCGTAGGTGAACCTTCGGAAGGATCATTGTTGAGACCGCAA...TAA')\n",
      "ID: Z78503.1\n",
      "Sequence Length: 727\n",
      "Sequence: Seq('CGTAACCAGGTTTCCGTAGGTGAACCTCCGGAAGGATCCTTGTTGAGACCGCCA...TAA')\n",
      "ID: Z78502.1\n",
      "Sequence Length: 757\n",
      "Sequence: Seq('CGTAACCAGGTTTCCGTAGGTGAACCTCCGGAAGGATCATTGTTGAGACCGCCA...CGC')\n",
      "ID: Z78501.1\n",
      "Sequence Length: 770\n",
      "Sequence: Seq('CGTAACAAGGTTTCCGTAGGTGAACCTGCGGAAGGATCATTGTTGAGACCGCAA...AGA')\n",
      "ID: Z78500.1\n",
      "Sequence Length: 767\n",
      "Sequence: Seq('CGTAACAAGGTTTCCGTAGGTGAACCTGCGGAAGGCTCATTGTTGAGACCGCAA...AAG')\n",
      "ID: Z78499.1\n",
      "Sequence Length: 759\n",
      "Sequence: Seq('CGTAACAAGGTTTCCGTAGGTGAACCTGCGGAGGGATCATTGTTGAGATCGCAT...ACC')\n",
      "ID: Z78498.1\n",
      "Sequence Length: 750\n",
      "Sequence: Seq('CGTAACAAGGTTTCCGTAGGTGAACCTGCGGAAAGGTCATTGTTGAGATCACAT...AGC')\n",
      "ID: Z78497.1\n",
      "Sequence Length: 788\n",
      "Sequence: Seq('CGTAACAAGGTTTCCGTAGGTGAACCTGCGGAAGGATCATTGTTGAGATCACAT...AGC')\n",
      "ID: Z78496.1\n",
      "Sequence Length: 774\n",
      "Sequence: Seq('CGTAACAAGGTTTCCGTAGGTGAACCTGCGGAAGGATCATTGTTGAGATCGCAT...AGC')\n",
      "ID: Z78495.1\n",
      "Sequence Length: 789\n",
      "Sequence: Seq('CGTAACAAGGTTTCCGTAGGTGAACCTCCGGAAGGATCATTGTTGAGATCACAT...GTG')\n",
      "ID: Z78494.1\n",
      "Sequence Length: 688\n",
      "Sequence: Seq('CGTAACAAGGTTTCCGTAGGTGAACCTGCGGAAGGATCATTGTTGAGGTCGCAT...AAG')\n",
      "ID: Z78493.1\n",
      "Sequence Length: 719\n",
      "Sequence: Seq('CGTAACAAGGATTCCGTAGGTGAACCTGCGGAAGGATCATTGTTGAGATCGCAT...CCC')\n",
      "ID: Z78492.1\n",
      "Sequence Length: 743\n",
      "Sequence: Seq('CGTAACAAGGTTTCCGTAGGTGAACCTGCGGAAGGATCATTGTTGAGATCGCAT...ATA')\n",
      "ID: Z78491.1\n",
      "Sequence Length: 737\n",
      "Sequence: Seq('CGTAACAAGGTTTCCGTAGGTGAACCTGCGGAAGGATCATTGTTGAGATCGCAT...AGC')\n",
      "ID: Z78490.1\n",
      "Sequence Length: 728\n",
      "Sequence: Seq('CGTAACAAGGTTTCCGTAGGTGAACCTGCGGAAGGATCATTGTTGAGATCACAT...TGA')\n",
      "ID: Z78489.1\n",
      "Sequence Length: 740\n",
      "Sequence: Seq('CGTAACAAGGTTTCCGTAGGTGAACCTGCGGAAGGATCATTGTTGAGATCACAT...GGC')\n",
      "ID: Z78488.1\n",
      "Sequence Length: 696\n",
      "Sequence: Seq('CTGTAGGTGAACCTGCGGAAGGATCATTGTTGAGATCACGCAATAATTGATCGA...GCT')\n",
      "ID: Z78487.1\n",
      "Sequence Length: 732\n",
      "Sequence: Seq('CGTAACAAGGTTTCCGTAGGTGAACCTGCGGAAGGATCATTGTTGAGATCACAT...TAA')\n",
      "ID: Z78486.1\n",
      "Sequence Length: 731\n",
      "Sequence: Seq('CGTCACGAGGTTTCCGTAGGTGAATCTGCGGGAGGATCATTGTTGAGATCACAT...TGA')\n",
      "ID: Z78485.1\n",
      "Sequence Length: 735\n",
      "Sequence: Seq('CTGAACCTGGTGTCCGAAGGTGAATCTGCGGATGGATCATTGTTGAGATATCAT...GTA')\n",
      "ID: Z78484.1\n",
      "Sequence Length: 720\n",
      "Sequence: Seq('CGTAACAAGGTTTCCGTAGGTGAACCTGGGGAAGGATCATTGTTGAGATCACAT...TTT')\n",
      "ID: Z78483.1\n",
      "Sequence Length: 740\n",
      "Sequence: Seq('CGTAACAAGGTTTCCGTAGGTGAACCTGCGGAAGGATCATTGTTGAGATCACAT...GCA')\n",
      "ID: Z78482.1\n",
      "Sequence Length: 629\n",
      "Sequence: Seq('TCTACTGCAGTGACCGAGATTTGCCATCGAGCCTCCTGGGAGCTTTCTTGCTGG...GCA')\n",
      "ID: Z78481.1\n",
      "Sequence Length: 572\n",
      "Sequence: Seq('CGTAACAAGGTTTCCGTAGGTGAACCTGCGGAAGGATCATTGTTGAGATCACAT...TGA')\n",
      "ID: Z78480.1\n",
      "Sequence Length: 587\n",
      "Sequence: Seq('CGTAACAAGGTTTCCGTAGGTGAACCTGCGGAAGGATCATTGTTGAGATCACAT...TGA')\n",
      "ID: Z78479.1\n",
      "Sequence Length: 700\n",
      "Sequence: Seq('CGTAACAAGGTTTCCGTAGGTGAACCTGCGGAAGGATCATTGTTGAGATCACAT...AGT')\n",
      "ID: Z78478.1\n",
      "Sequence Length: 636\n",
      "Sequence: Seq('CGTAACAAGGTTTCCGTAGGTGAACCTCCGGAAGGATCAGTGTTGAGATCACAT...GGC')\n",
      "ID: Z78477.1\n",
      "Sequence Length: 716\n",
      "Sequence: Seq('CGTAACAAGGTTTCCGTAGGTGAACCTGCGGAAGGATCATTGTTGAGATCACAT...TGC')\n",
      "ID: Z78476.1\n",
      "Sequence Length: 592\n",
      "Sequence: Seq('CGTAACAAGGTTTCCGTAGGTGAACCTGCGGAAGGATCATTGTTGAGATCACAT...CCC')\n",
      "ID: Z78475.1\n",
      "Sequence Length: 716\n",
      "Sequence: Seq('CGTAACAAGGTTTCCGTAGGTGAACCTGCGGAAGGATCATTGTTGAGATCACAT...GGT')\n",
      "ID: Z78474.1\n",
      "Sequence Length: 733\n",
      "Sequence: Seq('CGTAACAAGGTTTCCGTAGGTGAACCTGCGGAAGGATCATTGTTGAGATCACGT...CTT')\n",
      "ID: Z78473.1\n",
      "Sequence Length: 626\n",
      "Sequence: Seq('CGTAACAAGGTTTCCGTAGGTGAACCTGCGGAAGGATCATTGTTGAGATCACAT...AGG')\n",
      "ID: Z78472.1\n",
      "Sequence Length: 737\n",
      "Sequence: Seq('CGTAACAAGGTTTCCGTAGGTGAACCTGCGGAAGGATCATTGTTGAGATCACAT...AGC')\n",
      "ID: Z78471.1\n",
      "Sequence Length: 740\n",
      "Sequence: Seq('CGTAACAAGGTTTCCGTAGGTGAACCTGCGGAAGGATCATTGTTGAGATCACAT...AGC')\n",
      "ID: Z78470.1\n",
      "Sequence Length: 574\n",
      "Sequence: Seq('CGTAACAAGGTTTCCGTAGGTGAACCTGCGGAAGGATCATTGTTGAGATCACAT...GTT')\n",
      "ID: Z78469.1\n",
      "Sequence Length: 594\n",
      "Sequence: Seq('CGTAACAAGGTTTCCGTAGGTGAACCTGCGGAAGGATCATTGTTGAGATCACAT...GTT')\n",
      "ID: Z78468.1\n",
      "Sequence Length: 610\n",
      "Sequence: Seq('CGTAACAAGGTTTCCGTAGGTGAACCTGCGGAAGGATCATTGTTGAGATCGCAT...GTT')\n",
      "ID: Z78467.1\n",
      "Sequence Length: 730\n",
      "Sequence: Seq('CGTAACAAGGTTTCCGTAGGTGAACCTGCGGAAGGATCATTGTTGAGATCACAT...TGA')\n",
      "ID: Z78466.1\n",
      "Sequence Length: 641\n",
      "Sequence: Seq('CGTAACAAGGTTTCCGTAGGTGAACCTGCGGAAGGATCATTGTTGAGATCACAT...CCC')\n",
      "ID: Z78465.1\n",
      "Sequence Length: 702\n",
      "Sequence: Seq('CGTAACAAGGTTTCCGTAGGTGAACCTGCGGAAGGATCATTGTTGAGATCACAT...TGC')\n",
      "ID: Z78464.1\n",
      "Sequence Length: 733\n",
      "Sequence: Seq('CGTAACAAGGTTTCCGTAGGTGAGCGGAAGGGTCATTGTTGAGATCACATAATA...AGC')\n",
      "ID: Z78463.1\n",
      "Sequence Length: 738\n",
      "Sequence: Seq('CGTAACAAGGTTTCCGTAGGTGAACCTGCGGAAGGTTCATTGTTGAGATCACAT...AGC')\n",
      "ID: Z78462.1\n",
      "Sequence Length: 736\n",
      "Sequence: Seq('CGTCACGAGGTCTCCGGATGTGACCCTGCGGAAGGATCATTGTTGAGATCACAT...CAT')\n",
      "ID: Z78461.1\n",
      "Sequence Length: 732\n",
      "Sequence: Seq('CGTAACAAGGTTTCCGTAGGTGAACCTCCGGAAGGATCATTGTTGAGATCACAT...TAA')\n",
      "ID: Z78460.1\n",
      "Sequence Length: 745\n",
      "Sequence: Seq('CGTAACAAGGTTTCCGTAGGTGAACCTCCGGAAGGATCATTGTTGAGATCACAT...TTA')\n",
      "ID: Z78459.1\n",
      "Sequence Length: 744\n",
      "Sequence: Seq('CGTAACAAGGTTTCCGTAGGTGAACCTGCGGAAGGATCATTGTTGAGATCACAT...TTT')\n",
      "ID: Z78458.1\n",
      "Sequence Length: 738\n",
      "Sequence: Seq('CGTAACAAGGTTTCCGTAGGTGAACCTGCGGAAGGATCATTGTTGAGATCACAT...TTG')\n",
      "ID: Z78457.1\n",
      "Sequence Length: 739\n",
      "Sequence: Seq('CGTAACAAGGTTTCCGTAGGTGAACCTCCGGAAGGATCATTGTTGAGATCACAT...GAG')\n",
      "ID: Z78456.1\n",
      "Sequence Length: 740\n",
      "Sequence: Seq('CGTAACAAGGTTTCCGTAGGTGAACCTGCGGAAGGATCATTGTTGAGATCACAT...AGC')\n",
      "ID: Z78455.1\n",
      "Sequence Length: 745\n",
      "Sequence: Seq('CGTAACCAGGTTTCCGTAGGTGGACCTTCGGGAGGATCATTTTTGAGATCACAT...GCA')\n",
      "ID: Z78454.1\n",
      "Sequence Length: 695\n",
      "Sequence: Seq('CGTAACAAGGTTTCCGTAGGTGAACCTGCGGAAGGATCATTGTTGAGATCACAT...AAC')\n",
      "ID: Z78453.1\n",
      "Sequence Length: 745\n",
      "Sequence: Seq('CGTAACAAGGTTTCCGTAGGTGAACCTGCGGAAGGATCATTGTTGAGATCACAT...GCA')\n",
      "ID: Z78452.1\n",
      "Sequence Length: 743\n",
      "Sequence: Seq('CGTAACAAGGTTTCCGTAGGTGAACCTGCGGAAGGATCATTGTTGAGATCACAT...GCA')\n",
      "ID: Z78451.1\n",
      "Sequence Length: 730\n",
      "Sequence: Seq('CGTAACAAGGTTTCCGTAGGTGTACCTCCGGAAGGATCATTGTTGAGATCACAT...AGC')\n",
      "ID: Z78450.1\n",
      "Sequence Length: 706\n",
      "Sequence: Seq('GGAAGGATCATTGCTGATATCACATAATAATTGATCGAGTTAAGCTGGAGGATC...GAG')\n",
      "ID: Z78449.1\n",
      "Sequence Length: 744\n",
      "Sequence: Seq('CGTAACAAGGTTTCCGTAGGTGAACCTGCGGAAGGATCATTGTTGAGATCACAT...TGC')\n",
      "ID: Z78448.1\n",
      "Sequence Length: 742\n",
      "Sequence: Seq('CGTAACAAGGTTTCCGTAGGTGAACCTGCGGAAGGATCATTGTTGAGATCACAT...AGG')\n",
      "ID: Z78447.1\n",
      "Sequence Length: 694\n",
      "Sequence: Seq('CGTAACAAGGATTCCGTAGGTGAACCTGCGGGAGGATCATTGTTGAGATCACAT...AGC')\n",
      "ID: Z78446.1\n",
      "Sequence Length: 712\n",
      "Sequence: Seq('CGTAACAAGGTTTCCGTAGGTGAACCTCCGGAAGGATCATTGTTGAGATCACAT...CCC')\n",
      "ID: Z78445.1\n",
      "Sequence Length: 715\n",
      "Sequence: Seq('CGTAACAAGGTTTCCGTAGGTGAACCTGCGGAAGGATCATTGTTGAGATCACAT...TGT')\n",
      "ID: Z78444.1\n",
      "Sequence Length: 688\n",
      "Sequence: Seq('CGTAACAAGGTTTCCGTAGGGTGAACTGCGGAAGGATCATTGTTGAGATCACAT...ATT')\n",
      "ID: Z78443.1\n",
      "Sequence Length: 784\n",
      "Sequence: Seq('CGTAACAAGGTTTCCGTAGGTGAACCTGCGGAAGGATCATTGTTGAGATCACAT...AGG')\n",
      "ID: Z78442.1\n",
      "Sequence Length: 721\n",
      "Sequence: Seq('GTAGGTGAACCTGCGGAAGGATCATTGTTGAGATCACATAATAATTGATCGAGT...AGT')\n",
      "ID: Z78441.1\n",
      "Sequence Length: 703\n",
      "Sequence: Seq('GGAAGGTCATTGCCGATATCACATAATAATTGATCGAGTTAATCTGGAGGATCT...GAG')\n",
      "ID: Z78440.1\n",
      "Sequence Length: 744\n",
      "Sequence: Seq('CGTAACAAGGTTTCCGTAGGTGGACCTCCGGGAGGATCATTGTTGAGATCACAT...GCA')\n",
      "ID: Z78439.1\n",
      "Sequence Length: 592\n",
      "Sequence: Seq('CATTGTTGAGATCACATAATAATTGATCGAGTTAATCTGGAGGATCTGTTTACT...GCC')\n"
     ]
    }
   ],
   "source": [
    "from Bio import SeqIO\n",
    "\n",
    "file_path = r\"ls_orchid.gbk\"  # Düzgün fayl yolu\n",
    "\n",
    "for seq_record in SeqIO.parse(file_path, \"genbank\"):  # \"gbk\" əvəzinə \"genbank\" yazdıq\n",
    "    print(\"ID:\", seq_record.id)\n",
    "    print(\"Sequence Length:\", len(seq_record))\n",
    "    print(\"Sequence:\", repr(seq_record.seq)) "
   ]
  },
  {
   "cell_type": "code",
   "execution_count": 8,
   "id": "c50734a4-1771-4178-9325-31a0df1c9afa",
   "metadata": {},
   "outputs": [
    {
     "name": "stdout",
     "output_type": "stream",
     "text": [
      "0 G\n",
      "1 A\n",
      "2 T\n",
      "3 C\n",
      "4 G\n",
      "5\n"
     ]
    }
   ],
   "source": [
    "from Bio.Seq import Seq\n",
    "my_seq = Seq(\"GATCG\")\n",
    "for index, letter in enumerate(my_seq):\n",
    "    print(index, letter)   \n",
    "print(len(my_seq)) "
   ]
  },
  {
   "cell_type": "code",
   "execution_count": 9,
   "id": "23f3cb99-ee6c-4812-bd69-e5137d0509e8",
   "metadata": {},
   "outputs": [
    {
     "name": "stdout",
     "output_type": "stream",
     "text": [
      "70\n",
      "20\n",
      "ACAAGGTT\n",
      "ACAGTCGAGGACGGAGACTGTAAACGAAAGTGGG\n",
      "GTGAGCTAGTATATAAGACAACAGAGTTGTTACTAGGAAGGCGTCCAAGTGGATGCCTTTGGAACAATGC\n"
     ]
    },
    {
     "data": {
      "text/plain": [
       "'CGTAACAAGGTTTCCGTAGGTGAACCTGCGGAAGGATCATTGTTGAGACAACAGAATATATGATCGAGTG'"
      ]
     },
     "execution_count": 9,
     "metadata": {},
     "output_type": "execute_result"
    }
   ],
   "source": [
    "#stride\n",
    "from Bio.Seq import Seq   \n",
    "my_seq=Seq(\"CGTAACAAGGTTTCCGTAGGTGAACCTGCGGAAGGATCATTGTTGAGACAACAGAATATATGATCGAGTG\")\n",
    "print (len(my_seq))\n",
    "print (my_seq.count(\"G\"))\n",
    "my_seq[4:12]\n",
    "print(my_seq[4:12])\n",
    "my_seq[3::2]\n",
    "print(my_seq[3::2])\n",
    "my_seq[::-1]\n",
    "print(my_seq[::-1])\n",
    "str(my_seq)"
   ]
  },
  {
   "cell_type": "code",
   "execution_count": 10,
   "id": "a75453f4-51bb-4229-9ae8-ae62a91c9cc9",
   "metadata": {
    "scrolled": true
   },
   "outputs": [
    {
     "name": "stdout",
     "output_type": "stream",
     "text": [
      "44.285714285714285\n"
     ]
    }
   ],
   "source": [
    "from Bio.Seq import Seq\n",
    "from Bio.SeqUtils import gc_fraction  # SeqUtils düzgün yazıldı\n",
    "my_seq = Seq(\"CGTAACAAGGTTTCCGTAGGTGAACCTGCGGAAGGATCATTGTTGAGACAACAGAATATATGATCGAGTG\")\n",
    "print(gc_fraction(my_seq) * 100)  # GC faizini çap edir"
   ]
  },
  {
   "cell_type": "code",
   "execution_count": 11,
   "id": "6d4d0fd2-8d61-4e9d-9ce6-05c8ab5dd6fa",
   "metadata": {},
   "outputs": [
    {
     "name": "stdout",
     "output_type": "stream",
     "text": [
      "GC Content: 44.29%\n"
     ]
    }
   ],
   "source": [
    "from Bio.Seq import Seq\n",
    "from Bio.SeqUtils import gc_fraction  # Yeni funksiya adı\n",
    "my_seq = Seq(\"CGTAACAAGGTTTCCGTAGGTGAACCTGCGGAAGGATCATTGTTGAGACAACAGAATATATGATCGAGTG\")\n",
    "gc_content = gc_fraction(my_seq) * 100  # GC faizi üçün 100-ə vururuq\n",
    "print(f\"GC Content: {gc_content:.2f}%\")"
   ]
  },
  {
   "cell_type": "code",
   "execution_count": 12,
   "id": "b256722a-a556-43d8-9f8d-5df0117e31f8",
   "metadata": {},
   "outputs": [
    {
     "data": {
      "text/plain": [
       "Seq('EVRNAKACGT')"
      ]
     },
     "execution_count": 12,
     "metadata": {},
     "output_type": "execute_result"
    }
   ],
   "source": [
    "from Bio.Seq import Seq\n",
    "protein_seq=Seq(\"EVRNAK\")\n",
    "dna_seq=Seq(\"ACGT\")\n",
    "protein_seq+dna_seq\n",
    "#səhv yanaşmadır!!!"
   ]
  },
  {
   "cell_type": "code",
   "execution_count": 13,
   "id": "e3417991-00d5-4ba3-bf0c-47a1fd48a01b",
   "metadata": {},
   "outputs": [
    {
     "name": "stdout",
     "output_type": "stream",
     "text": [
      "[Seq('ACGT'), Seq('AACC'), Seq('TTCC')]\n",
      "Concatenated Sequence: ACGT\n",
      "[Seq('ACGT'), Seq('AACC'), Seq('TTCC')]\n",
      "Concatenated Sequence: ACGTAACC\n",
      "[Seq('ACGT'), Seq('AACC'), Seq('TTCC')]\n",
      "Concatenated Sequence: ACGTAACCTTCC\n"
     ]
    }
   ],
   "source": [
    "from Bio.Seq import Seq\n",
    "list_of_seqs=[Seq(\"ACGT\"), Seq(\"AACC\"), Seq(\"TTCC\")]\n",
    "concatenated=Seq(\"\") \n",
    "for s in list_of_seqs: \n",
    "    concatenated+=s\n",
    "    pass\n",
    "    print(list_of_seqs)\n",
    "    print(\"Concatenated Sequence:\", concatenated)"
   ]
  },
  {
   "cell_type": "code",
   "execution_count": 14,
   "id": "89a80307-e2fa-4c4e-a257-6cd94e30d7fd",
   "metadata": {},
   "outputs": [
    {
     "data": {
      "text/plain": [
       "Seq('ATGNNNNNNNNNNTTCCNNNNNNNNNNTTGCA')"
      ]
     },
     "execution_count": 14,
     "metadata": {},
     "output_type": "execute_result"
    }
   ],
   "source": [
    "from Bio.Seq import Seq\n",
    "contigs=[Seq(\"ATG\"), Seq(\"TTCC\"), Seq(\"TTGCA\")]\n",
    "spacer=Seq(\"N\"*10)\n",
    "spacer.join(contigs)"
   ]
  },
  {
   "cell_type": "code",
   "execution_count": 15,
   "id": "f8e22a8a-a0bf-4da9-9d92-2c97708494e7",
   "metadata": {},
   "outputs": [
    {
     "name": "stdout",
     "output_type": "stream",
     "text": [
      "acgtACGT\n",
      "ACGTACGT\n",
      "acgtacgt\n"
     ]
    }
   ],
   "source": [
    "from Bio.Seq import Seq\n",
    "dna_seq=Seq(\"acgtACGT\")\n",
    "print(dna_seq)\n",
    "print(dna_seq.upper())\n",
    "print(dna_seq.lower())"
   ]
  },
  {
   "cell_type": "code",
   "execution_count": 16,
   "id": "9f780bfc-1f72-4049-be93-c0cd40fdfaff",
   "metadata": {},
   "outputs": [
    {
     "name": "stdout",
     "output_type": "stream",
     "text": [
      "CGTAACAAGGTTTCCGTAGGTGAACCTGCGGAAGGATCATTGTTGAGACAACAGAATATATGATCGAGTG\n",
      "GCATTGTTCCAAAGGCATCCACTTGGACGCCTTCCTAGTAACAACTCTGTTGTCTTATATACTAGCTCAC\n",
      "CACTCGATCATATATTCTGTTGTCTCAACAATGATCCTTCCGCAGGTTCACCTACGGAAACCTTGTTACG\n"
     ]
    }
   ],
   "source": [
    "from Bio.Seq import Seq\n",
    "my_seq=Seq(\"CGTAACAAGGTTTCCGTAGGTGAACCTGCGGAAGGATCATTGTTGAGACAACAGAATATATGATCGAGTG\")\n",
    "print(my_seq)\n",
    "print(my_seq.complement())\n",
    "print(my_seq.reverse_complement())"
   ]
  }
 ],
 "metadata": {
  "kernelspec": {
   "display_name": "base",
   "language": "python",
   "name": "python3"
  },
  "language_info": {
   "codemirror_mode": {
    "name": "ipython",
    "version": 3
   },
   "file_extension": ".py",
   "mimetype": "text/x-python",
   "name": "python",
   "nbconvert_exporter": "python",
   "pygments_lexer": "ipython3",
   "version": "3.12.7"
  }
 },
 "nbformat": 4,
 "nbformat_minor": 5
}
