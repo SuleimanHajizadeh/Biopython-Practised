{
 "cells": [
  {
   "cell_type": "code",
   "execution_count": 1,
   "id": "f455d926",
   "metadata": {},
   "outputs": [],
   "source": [
    "from Bio import AlignIO\n",
    "alignment = AlignIO.read(\"PF05371_seed.sth\", \"stockholm\")"
   ]
  },
  {
   "cell_type": "code",
   "execution_count": 2,
   "id": "7dedbf64",
   "metadata": {},
   "outputs": [
    {
     "name": "stdout",
     "output_type": "stream",
     "text": [
      "Alignment with 7 rows and 52 columns\n",
      "AEPNAATNYATEAMDSLKTQAIDLISQTWPVVTTVVVAGLVIRL...SKA COATB_BPIKE/30-81\n",
      "AEPNAATNYATEAMDSLKTQAIDLISQTWPVVTTVVVAGLVIKL...SRA Q9T0Q8_BPIKE/1-52\n",
      "DGTSTATSYATEAMNSLKTQATDLIDQTWPVVTSVAVAGLAIRL...SKA COATB_BPI22/32-83\n",
      "AEGDDP---AKAAFNSLQASATEYIGYAWAMVVVIVGATIGIKL...SKA COATB_BPM13/24-72\n",
      "AEGDDP---AKAAFDSLQASATEYIGYAWAMVVVIVGATIGIKL...SKA COATB_BPZJ2/1-49\n",
      "AEGDDP---AKAAFDSLQASATEYIGYAWAMVVVIVGATIGIKL...SKA Q9T0Q9_BPFD/1-49\n",
      "FAADDATSQAKAAFDSLTAQATEMSGYAWALVVLVVGATVGIKL...SRA COATB_BPIF1/22-73\n"
     ]
    }
   ],
   "source": [
    "print(alignment)"
   ]
  },
  {
   "cell_type": "code",
   "execution_count": 3,
   "id": "2fa2e560",
   "metadata": {},
   "outputs": [
    {
     "name": "stdout",
     "output_type": "stream",
     "text": [
      "Alignment length 52\n"
     ]
    }
   ],
   "source": [
    "from Bio import AlignIO\n",
    "alignment = AlignIO.read(\"PF05371_seed.sth\", \"stockholm\")\n",
    "print(\"Alignment length %i\" % alignment.get_alignment_length())"
   ]
  },
  {
   "cell_type": "code",
   "execution_count": 4,
   "id": "342a5f19",
   "metadata": {},
   "outputs": [
    {
     "name": "stdout",
     "output_type": "stream",
     "text": [
      "AEPNAATNYATEAMDSLKTQAIDLISQTWPVVTTVVVAGLVIRLFKKFSSKA - COATB_BPIKE/30-81\n",
      "AEPNAATNYATEAMDSLKTQAIDLISQTWPVVTTVVVAGLVIKLFKKFVSRA - Q9T0Q8_BPIKE/1-52\n",
      "DGTSTATSYATEAMNSLKTQATDLIDQTWPVVTSVAVAGLAIRLFKKFSSKA - COATB_BPI22/32-83\n",
      "AEGDDP---AKAAFNSLQASATEYIGYAWAMVVVIVGATIGIKLFKKFTSKA - COATB_BPM13/24-72\n",
      "AEGDDP---AKAAFDSLQASATEYIGYAWAMVVVIVGATIGIKLFKKFASKA - COATB_BPZJ2/1-49\n",
      "AEGDDP---AKAAFDSLQASATEYIGYAWAMVVVIVGATIGIKLFKKFTSKA - Q9T0Q9_BPFD/1-49\n",
      "FAADDATSQAKAAFDSLTAQATEMSGYAWALVVLVVGATVGIKLFKKFVSRA - COATB_BPIF1/22-73\n"
     ]
    }
   ],
   "source": [
    "for record in alignment:\n",
    "    print(\"%s - %s\" % (record.seq, record.id))\n"
   ]
  },
  {
   "cell_type": "code",
   "execution_count": 5,
   "id": "b6d35765",
   "metadata": {},
   "outputs": [
    {
     "name": "stdout",
     "output_type": "stream",
     "text": [
      "COATB_BPIKE/30-81 ['PDB; 1ifl ; 1-52;']\n",
      "COATB_BPM13/24-72 ['PDB; 2cpb ; 1-49;', 'PDB; 2cps ; 1-49;']\n",
      "Q9T0Q9_BPFD/1-49 ['PDB; 1nh4 A; 1-49;']\n",
      "COATB_BPIF1/22-73 ['PDB; 1ifk ; 1-50;']\n"
     ]
    }
   ],
   "source": [
    "for record in alignment:\n",
    "    if record.dbxrefs:\n",
    "        print(\"%s %s\" % (record.id, record.dbxrefs))\n"
   ]
  },
  {
   "cell_type": "code",
   "execution_count": 6,
   "id": "7bf5309d",
   "metadata": {},
   "outputs": [
    {
     "name": "stdout",
     "output_type": "stream",
     "text": [
      "ID: COATB_BPIKE/30-81\n",
      "Name: COATB_BPIKE\n",
      "Description: COATB_BPIKE/30-81\n",
      "Database cross-references: PDB; 1ifl ; 1-52;\n",
      "Number of features: 0\n",
      "/accession=P03620.1\n",
      "/start=30\n",
      "/end=81\n",
      "Per letter annotation for: secondary_structure\n",
      "Seq('AEPNAATNYATEAMDSLKTQAIDLISQTWPVVTTVVVAGLVIRLFKKFSSKA')\n",
      "ID: Q9T0Q8_BPIKE/1-52\n",
      "Name: Q9T0Q8_BPIKE\n",
      "Description: Q9T0Q8_BPIKE/1-52\n",
      "Number of features: 0\n",
      "/accession=Q9T0Q8.1\n",
      "/start=1\n",
      "/end=52\n",
      "Seq('AEPNAATNYATEAMDSLKTQAIDLISQTWPVVTTVVVAGLVIKLFKKFVSRA')\n",
      "ID: COATB_BPI22/32-83\n",
      "Name: COATB_BPI22\n",
      "Description: COATB_BPI22/32-83\n",
      "Number of features: 0\n",
      "/accession=P15416.1\n",
      "/start=32\n",
      "/end=83\n",
      "Seq('DGTSTATSYATEAMNSLKTQATDLIDQTWPVVTSVAVAGLAIRLFKKFSSKA')\n",
      "ID: COATB_BPM13/24-72\n",
      "Name: COATB_BPM13\n",
      "Description: COATB_BPM13/24-72\n",
      "Database cross-references: PDB; 2cpb ; 1-49;, PDB; 2cps ; 1-49;\n",
      "Number of features: 0\n",
      "/accession=P69541.1\n",
      "/start=24\n",
      "/end=72\n",
      "Per letter annotation for: secondary_structure\n",
      "Seq('AEGDDP---AKAAFNSLQASATEYIGYAWAMVVVIVGATIGIKLFKKFTSKA')\n",
      "ID: COATB_BPZJ2/1-49\n",
      "Name: COATB_BPZJ2\n",
      "Description: COATB_BPZJ2/1-49\n",
      "Number of features: 0\n",
      "/accession=P03618.1\n",
      "/start=1\n",
      "/end=49\n",
      "Seq('AEGDDP---AKAAFDSLQASATEYIGYAWAMVVVIVGATIGIKLFKKFASKA')\n",
      "ID: Q9T0Q9_BPFD/1-49\n",
      "Name: Q9T0Q9_BPFD\n",
      "Description: Q9T0Q9_BPFD/1-49\n",
      "Database cross-references: PDB; 1nh4 A; 1-49;\n",
      "Number of features: 0\n",
      "/accession=Q9T0Q9.1\n",
      "/start=1\n",
      "/end=49\n",
      "Per letter annotation for: secondary_structure\n",
      "Seq('AEGDDP---AKAAFDSLQASATEYIGYAWAMVVVIVGATIGIKLFKKFTSKA')\n",
      "ID: COATB_BPIF1/22-73\n",
      "Name: COATB_BPIF1\n",
      "Description: COATB_BPIF1/22-73\n",
      "Database cross-references: PDB; 1ifk ; 1-50;\n",
      "Number of features: 0\n",
      "/accession=P03619.2\n",
      "/start=22\n",
      "/end=73\n",
      "Per letter annotation for: secondary_structure\n",
      "Seq('FAADDATSQAKAAFDSLTAQATEMSGYAWALVVLVVGATVGIKLFKKFVSRA')\n"
     ]
    }
   ],
   "source": [
    "for record in alignment:\n",
    "    print(record)\n"
   ]
  },
  {
   "cell_type": "code",
   "execution_count": 7,
   "id": "b79ea4df",
   "metadata": {},
   "outputs": [
    {
     "name": "stdout",
     "output_type": "stream",
     "text": [
      "Alignment with 7 rows and 52 columns\n",
      "AEPNAATNYATEAMDSLKTQAIDLISQTWPVVTTVVVAGLVIRL...SKA COATB_BPIKE/30-81\n",
      "AEPNAATNYATEAMDSLKTQAIDLISQTWPVVTTVVVAGLVIKL...SRA Q9T0Q8_BPIKE/1-52\n",
      "DGTSTATSYATEAMNSLKTQATDLIDQTWPVVTSVAVAGLAIRL...SKA COATB_BPI22/32-83\n",
      "AEGDDP---AKAAFNSLQASATEYIGYAWAMVVVIVGATIGIKL...SKA COATB_BPM13/24-72\n",
      "AEGDDP---AKAAFDSLQASATEYIGYAWAMVVVIVGATIGIKL...SKA COATB_BPZJ2/1-49\n",
      "AEGDDP---AKAAFDSLQASATEYIGYAWAMVVVIVGATIGIKL...SKA Q9T0Q9_BPFD/1-49\n",
      "FAADDATSQAKAAFDSLTAQATEMSGYAWALVVLVVGATVGIKL...SRA COATB_BPIF1/22-73\n"
     ]
    }
   ],
   "source": [
    "from Bio import AlignIO\n",
    "alignment = AlignIO.read(\"PF05371_seed.faa\", \"fasta\")\n",
    "print(alignment)"
   ]
  },
  {
   "cell_type": "code",
   "execution_count": 8,
   "id": "eb9e00b6",
   "metadata": {},
   "outputs": [
    {
     "name": "stdout",
     "output_type": "stream",
     "text": [
      "Help on package Bio.AlignIO in Bio:\n",
      "\n",
      "NAME\n",
      "    Bio.AlignIO - Multiple sequence alignment input/output as alignment objects.\n",
      "\n",
      "DESCRIPTION\n",
      "    The Bio.AlignIO interface is deliberately very similar to Bio.SeqIO, and in\n",
      "    fact the two are connected internally.  Both modules use the same set of file\n",
      "    format names (lower case strings).  From the user's perspective, you can read\n",
      "    in a PHYLIP file containing one or more alignments using Bio.AlignIO, or you\n",
      "    can read in the sequences within these alignments using Bio.SeqIO.\n",
      "\n",
      "    Bio.AlignIO is also documented at http://biopython.org/wiki/AlignIO and by\n",
      "    a whole chapter in our tutorial:\n",
      "\n",
      "    * `HTML Tutorial`_\n",
      "    * `PDF Tutorial`_\n",
      "\n",
      "    .. _`HTML Tutorial`: http://biopython.org/DIST/docs/tutorial/Tutorial.html\n",
      "    .. _`PDF Tutorial`: http://biopython.org/DIST/docs/tutorial/Tutorial.pdf\n",
      "\n",
      "    Input\n",
      "    -----\n",
      "    For the typical special case when your file or handle contains one and only\n",
      "    one alignment, use the function Bio.AlignIO.read().  This takes an input file\n",
      "    handle (or in recent versions of Biopython a filename as a string), format\n",
      "    string and optional number of sequences per alignment.  It will return a single\n",
      "    MultipleSeqAlignment object (or raise an exception if there isn't just one\n",
      "    alignment):\n",
      "\n",
      "    >>> from Bio import AlignIO\n",
      "    >>> align = AlignIO.read(\"Phylip/interlaced.phy\", \"phylip\")\n",
      "    >>> print(align)\n",
      "    Alignment with 3 rows and 384 columns\n",
      "    -----MKVILLFVLAVFTVFVSS---------------RGIPPE...I-- CYS1_DICDI\n",
      "    MAHARVLLLALAVLATAAVAVASSSSFADSNPIRPVTDRAASTL...VAA ALEU_HORVU\n",
      "    ------MWATLPLLCAGAWLLGV--------PVCGAAELSVNSL...PLV CATH_HUMAN\n",
      "\n",
      "    For the general case, when the handle could contain any number of alignments,\n",
      "    use the function Bio.AlignIO.parse(...) which takes the same arguments, but\n",
      "    returns an iterator giving MultipleSeqAlignment objects (typically used in a\n",
      "    for loop). If you want random access to the alignments by number, turn this\n",
      "    into a list:\n",
      "\n",
      "    >>> from Bio import AlignIO\n",
      "    >>> alignments = list(AlignIO.parse(\"Emboss/needle.txt\", \"emboss\"))\n",
      "    >>> print(alignments[2])\n",
      "    Alignment with 2 rows and 120 columns\n",
      "    -KILIVDDQYGIRILLNEVFNKEGYQTFQAANGLQALDIVTKER...--- ref_rec\n",
      "    LHIVVVDDDPGTCVYIESVFAELGHTCKSFVRPEAAEEYILTHP...HKE gi|94967506|receiver\n",
      "\n",
      "    Most alignment file formats can be concatenated so as to hold as many\n",
      "    different multiple sequence alignments as possible.  One common example\n",
      "    is the output of the tool seqboot in the PHLYIP suite.  Sometimes there\n",
      "    can be a file header and footer, as seen in the EMBOSS alignment output.\n",
      "\n",
      "    Output\n",
      "    ------\n",
      "    Use the function Bio.AlignIO.write(...), which takes a complete set of\n",
      "    Alignment objects (either as a list, or an iterator), an output file handle\n",
      "    (or filename in recent versions of Biopython) and of course the file format::\n",
      "\n",
      "        from Bio import AlignIO\n",
      "        alignments = ...\n",
      "        count = SeqIO.write(alignments, \"example.faa\", \"fasta\")\n",
      "\n",
      "    If using a handle make sure to close it to flush the data to the disk::\n",
      "\n",
      "        from Bio import AlignIO\n",
      "        alignments = ...\n",
      "        with open(\"example.faa\", \"w\") as handle:\n",
      "            count = SeqIO.write(alignments, handle, \"fasta\")\n",
      "\n",
      "    In general, you are expected to call this function once (with all your\n",
      "    alignments) and then close the file handle.  However, for file formats\n",
      "    like PHYLIP where multiple alignments are stored sequentially (with no file\n",
      "    header and footer), then multiple calls to the write function should work as\n",
      "    expected when using handles.\n",
      "\n",
      "    If you are using a filename, the repeated calls to the write functions will\n",
      "    overwrite the existing file each time.\n",
      "\n",
      "    Conversion\n",
      "    ----------\n",
      "    The Bio.AlignIO.convert(...) function allows an easy interface for simple\n",
      "    alignment file format conversions. Additionally, it may use file format\n",
      "    specific optimisations so this should be the fastest way too.\n",
      "\n",
      "    In general however, you can combine the Bio.AlignIO.parse(...) function with\n",
      "    the Bio.AlignIO.write(...) function for sequence file conversion. Using\n",
      "    generator expressions provides a memory efficient way to perform filtering or\n",
      "    other extra operations as part of the process.\n",
      "\n",
      "    File Formats\n",
      "    ------------\n",
      "    When specifying the file format, use lowercase strings.  The same format\n",
      "    names are also used in Bio.SeqIO and include the following:\n",
      "\n",
      "      - clustal -   Output from Clustal W or X.\n",
      "      - emboss    - EMBOSS tools' \"pairs\" and \"simple\" alignment formats.\n",
      "      - fasta     - The generic sequence file format where each record starts with\n",
      "        an identifier line starting with a \">\" character, followed by\n",
      "        lines of sequence.\n",
      "      - fasta-m10 - For the pairwise alignments output by Bill Pearson's FASTA\n",
      "        tools when used with the -m 10 command line option for machine\n",
      "        readable output.\n",
      "      - ig        - The IntelliGenetics file format, apparently the same as the\n",
      "        MASE alignment format.\n",
      "      - msf       - The GCG MSF alignment format, originally from PileUp tool.\n",
      "      - nexus     - Output from NEXUS, see also the module Bio.Nexus which can also\n",
      "        read any phylogenetic trees in these files.\n",
      "      - phylip    - Interlaced PHYLIP, as used by the PHYLIP tools.\n",
      "      - phylip-sequential - Sequential PHYLIP.\n",
      "      - phylip-relaxed - PHYLIP like format allowing longer names.\n",
      "      - stockholm - A richly annotated alignment file format used by PFAM.\n",
      "      - mauve - Output from progressiveMauve/Mauve\n",
      "\n",
      "    Note that while Bio.AlignIO can read all the above file formats, it cannot\n",
      "    write to all of them.\n",
      "\n",
      "    You can also use any file format supported by Bio.SeqIO, such as \"fasta\" or\n",
      "    \"ig\" (which are listed above), PROVIDED the sequences in your file are all the\n",
      "    same length.\n",
      "\n",
      "PACKAGE CONTENTS\n",
      "    ClustalIO\n",
      "    EmbossIO\n",
      "    FastaIO\n",
      "    Interfaces\n",
      "    MafIO\n",
      "    MauveIO\n",
      "    MsfIO\n",
      "    NexusIO\n",
      "    PhylipIO\n",
      "    StockholmIO\n",
      "\n",
      "FUNCTIONS\n",
      "    convert(in_file, in_format, out_file, out_format, molecule_type=None)\n",
      "        Convert between two alignment files, returns number of alignments.\n",
      "\n",
      "        Arguments:\n",
      "         - in_file - an input handle or filename\n",
      "         - in_format - input file format, lower case string\n",
      "         - output - an output handle or filename\n",
      "         - out_file - output file format, lower case string\n",
      "         - molecule_type - optional molecule type to apply, string containing\n",
      "           \"DNA\", \"RNA\" or \"protein\".\n",
      "\n",
      "        **NOTE** - If you provide an output filename, it will be opened which will\n",
      "        overwrite any existing file without warning. This may happen if even the\n",
      "        conversion is aborted (e.g. an invalid out_format name is given).\n",
      "\n",
      "        Some output formats require the molecule type be specified where this\n",
      "        cannot be determined by the parser. For example, converting to FASTA,\n",
      "        Clustal, or PHYLIP format to NEXUS:\n",
      "\n",
      "        >>> from io import StringIO\n",
      "        >>> from Bio import AlignIO\n",
      "        >>> handle = StringIO()\n",
      "        >>> AlignIO.convert(\"Phylip/horses.phy\", \"phylip\", handle, \"nexus\", \"DNA\")\n",
      "        1\n",
      "        >>> print(handle.getvalue())\n",
      "        #NEXUS\n",
      "        begin data;\n",
      "        dimensions ntax=10 nchar=40;\n",
      "        format datatype=dna missing=? gap=-;\n",
      "        matrix\n",
      "        Mesohippus   AAAAAAAAAAAAAAAAAAAAAAAAAAAAAAAAAAAAAAAA\n",
      "        Hypohippus   AAACCCCCCCAAAAAAAAACAAAAAAAAAAAAAAAAAAAA\n",
      "        Archaeohip   CAAAAAAAAAAAAAAAACACAAAAAAAAAAAAAAAAAAAA\n",
      "        Parahippus   CAAACAACAACAAAAAAAACAAAAAAAAAAAAAAAAAAAA\n",
      "        Merychippu   CCAACCACCACCCCACACCCAAAAAAAAAAAAAAAAAAAA\n",
      "        'M. secundu' CCAACCACCACCCACACCCCAAAAAAAAAAAAAAAAAAAA\n",
      "        Nannipus     CCAACCACAACCCCACACCCAAAAAAAAAAAAAAAAAAAA\n",
      "        Neohippari   CCAACCCCCCCCCCACACCCAAAAAAAAAAAAAAAAAAAA\n",
      "        Calippus     CCAACCACAACCCACACCCCAAAAAAAAAAAAAAAAAAAA\n",
      "        Pliohippus   CCCACCCCCCCCCACACCCCAAAAAAAAAAAAAAAAAAAA\n",
      "        ;\n",
      "        end;\n",
      "        <BLANKLINE>\n",
      "\n",
      "    parse(handle, format, seq_count=None)\n",
      "        Iterate over an alignment file as MultipleSeqAlignment objects.\n",
      "\n",
      "        Arguments:\n",
      "         - handle    - handle to the file, or the filename as a string\n",
      "           (note older versions of Biopython only took a handle).\n",
      "         - format    - string describing the file format.\n",
      "         - seq_count - Optional integer, number of sequences expected in each\n",
      "           alignment.  Recommended for fasta format files.\n",
      "\n",
      "        If you have the file name in a string 'filename', use:\n",
      "\n",
      "        >>> from Bio import AlignIO\n",
      "        >>> filename = \"Emboss/needle.txt\"\n",
      "        >>> format = \"emboss\"\n",
      "        >>> for alignment in AlignIO.parse(filename, format):\n",
      "        ...     print(\"Alignment of length %i\" % alignment.get_alignment_length())\n",
      "        Alignment of length 124\n",
      "        Alignment of length 119\n",
      "        Alignment of length 120\n",
      "        Alignment of length 118\n",
      "        Alignment of length 125\n",
      "\n",
      "        If you have a string 'data' containing the file contents, use::\n",
      "\n",
      "          from Bio import AlignIO\n",
      "          from io import StringIO\n",
      "          my_iterator = AlignIO.parse(StringIO(data), format)\n",
      "\n",
      "        Use the Bio.AlignIO.read() function when you expect a single record only.\n",
      "\n",
      "    read(handle, format, seq_count=None)\n",
      "        Turn an alignment file into a single MultipleSeqAlignment object.\n",
      "\n",
      "        Arguments:\n",
      "         - handle    - handle to the file, or the filename as a string\n",
      "           (note older versions of Biopython only took a handle).\n",
      "         - format    - string describing the file format.\n",
      "         - seq_count - Optional integer, number of sequences expected in each\n",
      "           alignment.  Recommended for fasta format files.\n",
      "\n",
      "        If the handle contains no alignments, or more than one alignment,\n",
      "        an exception is raised.  For example, using a PFAM/Stockholm file\n",
      "        containing one alignment:\n",
      "\n",
      "        >>> from Bio import AlignIO\n",
      "        >>> filename = \"Clustalw/protein.aln\"\n",
      "        >>> format = \"clustal\"\n",
      "        >>> alignment = AlignIO.read(filename, format)\n",
      "        >>> print(\"Alignment of length %i\" % alignment.get_alignment_length())\n",
      "        Alignment of length 411\n",
      "\n",
      "        If however you want the first alignment from a file containing\n",
      "        multiple alignments this function would raise an exception.\n",
      "\n",
      "        >>> from Bio import AlignIO\n",
      "        >>> filename = \"Emboss/needle.txt\"\n",
      "        >>> format = \"emboss\"\n",
      "        >>> alignment = AlignIO.read(filename, format)\n",
      "        Traceback (most recent call last):\n",
      "            ...\n",
      "        ValueError: More than one record found in handle\n",
      "\n",
      "        Instead use:\n",
      "\n",
      "        >>> from Bio import AlignIO\n",
      "        >>> filename = \"Emboss/needle.txt\"\n",
      "        >>> format = \"emboss\"\n",
      "        >>> alignment = next(AlignIO.parse(filename, format))\n",
      "        >>> print(\"First alignment has length %i\" % alignment.get_alignment_length())\n",
      "        First alignment has length 124\n",
      "\n",
      "        You must use the Bio.AlignIO.parse() function if you want to read multiple\n",
      "        records from the handle.\n",
      "\n",
      "    write(alignments, handle, format)\n",
      "        Write complete set of alignments to a file.\n",
      "\n",
      "        Arguments:\n",
      "         - alignments - A list (or iterator) of MultipleSeqAlignment objects,\n",
      "           or a single alignment object.\n",
      "         - handle    - File handle object to write to, or filename as string\n",
      "           (note older versions of Biopython only took a handle).\n",
      "         - format    - lower case string describing the file format to write.\n",
      "\n",
      "        You should close the handle after calling this function.\n",
      "\n",
      "        Returns the number of alignments written (as an integer).\n",
      "\n",
      "FILE\n",
      "    /opt/anaconda3/lib/python3.12/site-packages/Bio/AlignIO/__init__.py\n",
      "\n",
      "\n"
     ]
    }
   ],
   "source": [
    "from Bio import AlignIO\n",
    "help(AlignIO)"
   ]
  },
  {
   "cell_type": "code",
   "execution_count": 9,
   "id": "ff4e5fe8",
   "metadata": {},
   "outputs": [
    {
     "name": "stdout",
     "output_type": "stream",
     "text": [
      "Alignment with 5 rows and 6 columns\n",
      "AACAAC Alpha\n",
      "AACCCC Beta\n",
      "ACCAAC Gamma\n",
      "CCACCA Delta\n",
      "CCAAAC Epsilon\n",
      "\n",
      "Alignment with 5 rows and 6 columns\n",
      "AAACCA Alpha\n",
      "AAACCC Beta\n",
      "ACCCCA Gamma\n",
      "CCCAAC Delta\n",
      "CCCAAA Epsilon\n",
      "\n",
      "Alignment with 5 rows and 6 columns\n",
      "AAGTAG Alpha\n",
      "GACTCG Beta\n",
      "TCGAAG Gamma\n",
      "TGATCA Delta\n",
      "GCATAC Epsilon\n",
      "\n",
      "Alignment with 5 rows and 6 columns\n",
      "TGAGCA Alpha\n",
      "ATACCC Beta\n",
      "ACCTCA Gamma\n",
      "TGCAAC Delta\n",
      "CGCATA Epsilon\n",
      "\n",
      "Alignment with 5 rows and 6 columns\n",
      "AAGTAG Alpha\n",
      "GACTCG Beta\n",
      "TCGAAG Gamma\n",
      "TGATCA Delta\n",
      "GCATAC Epsilon\n",
      "\n",
      "Alignment with 5 rows and 6 columns\n",
      "TGAGCA Alpha\n",
      "ATACCC Beta\n",
      "ACCTCA Gamma\n",
      "TGCAAC Delta\n",
      "CGCATA Epsilon\n",
      "\n"
     ]
    }
   ],
   "source": [
    "from Bio import AlignIO\n",
    "alignments = AlignIO.parse(\"resampled.phy\", \"phylip\")\n",
    "for alignment in alignments:\n",
    "    print(alignment)\n",
    "    print()\n"
   ]
  },
  {
   "cell_type": "code",
   "execution_count": 10,
   "id": "c6e20cdc",
   "metadata": {},
   "outputs": [],
   "source": [
    "from Bio import AlignIO\n",
    "alignments = list(AlignIO.parse(\"resampled.phy\", \"phylip\"))\n",
    "last_align = alignments[-1]\n",
    "first_align = alignments[0]"
   ]
  },
  {
   "cell_type": "code",
   "execution_count": 11,
   "id": "218f359e",
   "metadata": {},
   "outputs": [
    {
     "name": "stdout",
     "output_type": "stream",
     "text": [
      "Alignment length 6\n",
      "AACAAC - Alpha\n",
      "AACCCC - Beta\n",
      "ACCAAC - Gamma\n",
      "CCACCA - Delta\n",
      "CCAAAC - Epsilon\n",
      "\n",
      "Alignment length 6\n",
      "AAACCA - Alpha\n",
      "AAACCC - Beta\n",
      "ACCCCA - Gamma\n",
      "CCCAAC - Delta\n",
      "CCCAAA - Epsilon\n",
      "\n",
      "Alignment length 6\n",
      "AAGTAG - Alpha\n",
      "GACTCG - Beta\n",
      "TCGAAG - Gamma\n",
      "TGATCA - Delta\n",
      "GCATAC - Epsilon\n",
      "\n",
      "Alignment length 6\n",
      "TGAGCA - Alpha\n",
      "ATACCC - Beta\n",
      "ACCTCA - Gamma\n",
      "TGCAAC - Delta\n",
      "CGCATA - Epsilon\n",
      "\n",
      "Alignment length 6\n",
      "AAGTAG - Alpha\n",
      "GACTCG - Beta\n",
      "TCGAAG - Gamma\n",
      "TGATCA - Delta\n",
      "GCATAC - Epsilon\n",
      "\n",
      "Alignment length 6\n",
      "TGAGCA - Alpha\n",
      "ATACCC - Beta\n",
      "ACCTCA - Gamma\n",
      "TGCAAC - Delta\n",
      "CGCATA - Epsilon\n",
      "\n"
     ]
    }
   ],
   "source": [
    "for alignment in alignments:\n",
    "    print(\"Alignment length %i\" % alignment.get_alignment_length())\n",
    "    for record in alignment:\n",
    "        print(\"%s - %s\" % (record.seq, record.id))\n",
    "    print()"
   ]
  },
  {
   "cell_type": "code",
   "execution_count": 12,
   "id": "7fa9d305",
   "metadata": {},
   "outputs": [],
   "source": [
    "from Bio.Seq import Seq\n",
    "from Bio.SeqRecord import SeqRecord\n",
    "from Bio.Align import MultipleSeqAlignment\n",
    "align1 = MultipleSeqAlignment(\n",
    "    [\n",
    "        SeqRecord(Seq(\"ACTGCTAGCTAG\"), id=\"Alpha\"),\n",
    "        SeqRecord(Seq(\"ACT-CTAGCTAG\"), id=\"Beta\"),\n",
    "        SeqRecord(Seq(\"ACTGCTAGDTAG\"), id=\"Gamma\"),\n",
    "    ]\n",
    ")\n",
    "align2 = MultipleSeqAlignment(\n",
    "    [\n",
    "        SeqRecord(Seq(\"GTCAGC-AG\"), id=\"Delta\"),\n",
    "        SeqRecord(Seq(\"GACAGCTAG\"), id=\"Epsilon\"),\n",
    "        SeqRecord(Seq(\"GTCAGCTAG\"), id=\"Zeta\"),\n",
    "    ]\n",
    ")\n",
    "align3 = MultipleSeqAlignment(\n",
    "    [\n",
    "        SeqRecord(Seq(\"ACTAGTACAGCTG\"), id=\"Eta\"),\n",
    "        SeqRecord(Seq(\"ACTAGTACAGCT-\"), id=\"Theta\"),\n",
    "        SeqRecord(Seq(\"-CTACTACAGGTG\"), id=\"Iota\"),\n",
    "    ]\n",
    ")\n",
    "my_alignments = [align1, align2, align3]"
   ]
  },
  {
   "cell_type": "code",
   "execution_count": 13,
   "id": "450038d2",
   "metadata": {},
   "outputs": [
    {
     "data": {
      "text/plain": [
       "3"
      ]
     },
     "execution_count": 13,
     "metadata": {},
     "output_type": "execute_result"
    }
   ],
   "source": [
    "from Bio import AlignIO\n",
    "AlignIO.write(my_alignments, \"my_example.phy\", \"phylip\")"
   ]
  },
  {
   "cell_type": "code",
   "execution_count": 14,
   "id": "eaab3793",
   "metadata": {},
   "outputs": [
    {
     "name": "stdout",
     "output_type": "stream",
     "text": [
      "Converted 1 alignments\n"
     ]
    }
   ],
   "source": [
    "from Bio import AlignIO\n",
    "count = AlignIO.convert(\"PF05371_seed.sth\", \"stockholm\", \"PF05371_seed.aln\", \"clustal\")\n",
    "print(\"Converted %i alignments\" % count)"
   ]
  },
  {
   "cell_type": "code",
   "execution_count": 15,
   "id": "75543784",
   "metadata": {},
   "outputs": [
    {
     "name": "stdout",
     "output_type": "stream",
     "text": [
      "Converted 1 alignments\n"
     ]
    }
   ],
   "source": [
    "from Bio import AlignIO\n",
    "alignments = AlignIO.parse(\"PF05371_seed.sth\", \"stockholm\")\n",
    "count = AlignIO.write(alignments, \"PF05371_seed.aln\", \"clustal\")\n",
    "print(\"Converted %i alignments\" % count)"
   ]
  },
  {
   "cell_type": "code",
   "execution_count": 16,
   "id": "7111f5b3",
   "metadata": {},
   "outputs": [
    {
     "data": {
      "text/plain": [
       "1"
      ]
     },
     "execution_count": 16,
     "metadata": {},
     "output_type": "execute_result"
    }
   ],
   "source": [
    "from Bio import AlignIO\n",
    "alignment = AlignIO.read(\"PF05371_seed.sth\", \"stockholm\")\n",
    "AlignIO.write([alignment], \"PF05371_seed.aln\", \"clustal\")"
   ]
  },
  {
   "cell_type": "code",
   "execution_count": 17,
   "id": "9b3c48e7",
   "metadata": {},
   "outputs": [
    {
     "data": {
      "text/plain": [
       "1"
      ]
     },
     "execution_count": 17,
     "metadata": {},
     "output_type": "execute_result"
    }
   ],
   "source": [
    "from Bio import AlignIO\n",
    "AlignIO.convert(\"PF05371_seed.sth\", \"stockholm\", \"PF05371_seed.phy\", \"phylip\")"
   ]
  },
  {
   "cell_type": "code",
   "execution_count": 18,
   "id": "c81c1c29",
   "metadata": {},
   "outputs": [
    {
     "name": "stdout",
     "output_type": "stream",
     "text": [
      "{0: 'COATB_BPIKE/30-81', 1: 'Q9T0Q8_BPIKE/1-52', 2: 'COATB_BPI22/32-83', 3: 'COATB_BPM13/24-72', 4: 'COATB_BPZJ2/1-49', 5: 'Q9T0Q9_BPFD/1-49', 6: 'COATB_BPIF1/22-73'}\n"
     ]
    }
   ],
   "source": [
    "from Bio import AlignIO\n",
    "alignment = AlignIO.read(\"PF05371_seed.sth\", \"stockholm\")\n",
    "name_mapping = {}\n",
    "for i, record in enumerate(alignment):\n",
    "    name_mapping[i] = record.id\n",
    "    record.id = \"seq%i\" % i\n",
    "\n",
    "print(name_mapping)"
   ]
  },
  {
   "cell_type": "code",
   "execution_count": 19,
   "id": "6ad17121",
   "metadata": {},
   "outputs": [
    {
     "data": {
      "text/plain": [
       "1"
      ]
     },
     "execution_count": 19,
     "metadata": {},
     "output_type": "execute_result"
    }
   ],
   "source": [
    "AlignIO.write([alignment], \"PF05371_seed.phy\", \"phylip\")"
   ]
  },
  {
   "cell_type": "code",
   "execution_count": 20,
   "id": "ee7ee383",
   "metadata": {},
   "outputs": [
    {
     "data": {
      "text/plain": [
       "{0: 'COATB_BPIKE/30-81', 1: 'Q9T0Q8_BPIKE/1-52', 2: 'COATB_BPI22/32-83'}"
      ]
     },
     "execution_count": 20,
     "metadata": {},
     "output_type": "execute_result"
    }
   ],
   "source": [
    "{\n",
    "    0: \"COATB_BPIKE/30-81\",\n",
    "    1: \"Q9T0Q8_BPIKE/1-52\",\n",
    "    2: \"COATB_BPI22/32-83\",\n",
    "    # ...\n",
    "}"
   ]
  },
  {
   "cell_type": "code",
   "execution_count": 21,
   "id": "ce4dcf43",
   "metadata": {},
   "outputs": [
    {
     "name": "stdout",
     "output_type": "stream",
     "text": [
      "CLUSTAL X (1.81) multiple sequence alignment\n",
      "\n",
      "\n",
      "COATB_BPIKE/30-81                   AEPNAATNYATEAMDSLKTQAIDLISQTWPVVTTVVVAGLVIRLFKKFSS\n",
      "Q9T0Q8_BPIKE/1-52                   AEPNAATNYATEAMDSLKTQAIDLISQTWPVVTTVVVAGLVIKLFKKFVS\n",
      "COATB_BPI22/32-83                   DGTSTATSYATEAMNSLKTQATDLIDQTWPVVTSVAVAGLAIRLFKKFSS\n",
      "COATB_BPM13/24-72                   AEGDDP---AKAAFNSLQASATEYIGYAWAMVVVIVGATIGIKLFKKFTS\n",
      "COATB_BPZJ2/1-49                    AEGDDP---AKAAFDSLQASATEYIGYAWAMVVVIVGATIGIKLFKKFAS\n",
      "Q9T0Q9_BPFD/1-49                    AEGDDP---AKAAFDSLQASATEYIGYAWAMVVVIVGATIGIKLFKKFTS\n",
      "COATB_BPIF1/22-73                   FAADDATSQAKAAFDSLTAQATEMSGYAWALVVLVVGATVGIKLFKKFVS\n",
      "\n",
      "COATB_BPIKE/30-81                   KA\n",
      "Q9T0Q8_BPIKE/1-52                   RA\n",
      "COATB_BPI22/32-83                   KA\n",
      "COATB_BPM13/24-72                   KA\n",
      "COATB_BPZJ2/1-49                    KA\n",
      "Q9T0Q9_BPFD/1-49                    KA\n",
      "COATB_BPIF1/22-73                   RA\n",
      "\n",
      "\n",
      "\n"
     ]
    }
   ],
   "source": [
    "from Bio import AlignIO\n",
    "alignment = AlignIO.read(\"PF05371_seed.sth\", \"stockholm\")\n",
    "print(format(alignment, \"clustal\"))"
   ]
  },
  {
   "cell_type": "code",
   "execution_count": 22,
   "id": "dac1ddea",
   "metadata": {},
   "outputs": [
    {
     "data": {
      "text/plain": [
       "1"
      ]
     },
     "execution_count": 22,
     "metadata": {},
     "output_type": "execute_result"
    }
   ],
   "source": [
    "from io import StringIO\n",
    "from Bio import AlignIO\n",
    "alignments = AlignIO.parse(\"PF05371_seed.sth\", \"stockholm\")\n",
    "out_handle = StringIO()\n",
    "AlignIO.write(alignments, out_handle, \"clustal\")"
   ]
  },
  {
   "cell_type": "code",
   "execution_count": 23,
   "id": "2791055e",
   "metadata": {},
   "outputs": [
    {
     "name": "stdout",
     "output_type": "stream",
     "text": [
      "CLUSTAL X (1.81) multiple sequence alignment\n",
      "\n",
      "\n",
      "COATB_BPIKE/30-81                   AEPNAATNYATEAMDSLKTQAIDLISQTWPVVTTVVVAGLVIRLFKKFSS\n",
      "Q9T0Q8_BPIKE/1-52                   AEPNAATNYATEAMDSLKTQAIDLISQTWPVVTTVVVAGLVIKLFKKFVS\n",
      "COATB_BPI22/32-83                   DGTSTATSYATEAMNSLKTQATDLIDQTWPVVTSVAVAGLAIRLFKKFSS\n",
      "COATB_BPM13/24-72                   AEGDDP---AKAAFNSLQASATEYIGYAWAMVVVIVGATIGIKLFKKFTS\n",
      "COATB_BPZJ2/1-49                    AEGDDP---AKAAFDSLQASATEYIGYAWAMVVVIVGATIGIKLFKKFAS\n",
      "Q9T0Q9_BPFD/1-49                    AEGDDP---AKAAFDSLQASATEYIGYAWAMVVVIVGATIGIKLFKKFTS\n",
      "COATB_BPIF1/22-73                   FAADDATSQAKAAFDSLTAQATEMSGYAWALVVLVVGATVGIKLFKKFVS\n",
      "\n",
      "COATB_BPIKE/30-81                   KA\n",
      "Q9T0Q8_BPIKE/1-52                   RA\n",
      "COATB_BPI22/32-83                   KA\n",
      "COATB_BPM13/24-72                   KA\n",
      "COATB_BPZJ2/1-49                    KA\n",
      "Q9T0Q9_BPFD/1-49                    KA\n",
      "COATB_BPIF1/22-73                   RA\n",
      "\n",
      "\n",
      "\n"
     ]
    }
   ],
   "source": [
    "clustal_data = out_handle.getvalue()\n",
    "print(clustal_data)"
   ]
  },
  {
   "cell_type": "code",
   "execution_count": 24,
   "id": "19cc257f",
   "metadata": {},
   "outputs": [
    {
     "name": "stdout",
     "output_type": "stream",
     "text": [
      "Number of rows: 7\n"
     ]
    }
   ],
   "source": [
    "from Bio import AlignIO\n",
    "alignment = AlignIO.read(\"PF05371_seed.sth\", \"stockholm\")\n",
    "print(\"Number of rows: %i\" % len(alignment))"
   ]
  },
  {
   "cell_type": "code",
   "execution_count": 25,
   "id": "8d3d5642",
   "metadata": {},
   "outputs": [
    {
     "name": "stdout",
     "output_type": "stream",
     "text": [
      "AEPNAATNYATEAMDSLKTQAIDLISQTWPVVTTVVVAGLVIRLFKKFSSKA - COATB_BPIKE/30-81\n",
      "AEPNAATNYATEAMDSLKTQAIDLISQTWPVVTTVVVAGLVIKLFKKFVSRA - Q9T0Q8_BPIKE/1-52\n",
      "DGTSTATSYATEAMNSLKTQATDLIDQTWPVVTSVAVAGLAIRLFKKFSSKA - COATB_BPI22/32-83\n",
      "AEGDDP---AKAAFNSLQASATEYIGYAWAMVVVIVGATIGIKLFKKFTSKA - COATB_BPM13/24-72\n",
      "AEGDDP---AKAAFDSLQASATEYIGYAWAMVVVIVGATIGIKLFKKFASKA - COATB_BPZJ2/1-49\n",
      "AEGDDP---AKAAFDSLQASATEYIGYAWAMVVVIVGATIGIKLFKKFTSKA - Q9T0Q9_BPFD/1-49\n",
      "FAADDATSQAKAAFDSLTAQATEMSGYAWALVVLVVGATVGIKLFKKFVSRA - COATB_BPIF1/22-73\n"
     ]
    }
   ],
   "source": [
    "for record in alignment:\n",
    "    print(\"%s - %s\" % (record.seq, record.id))"
   ]
  },
  {
   "cell_type": "code",
   "execution_count": 26,
   "id": "5c432dd4",
   "metadata": {},
   "outputs": [
    {
     "name": "stdout",
     "output_type": "stream",
     "text": [
      "Alignment with 7 rows and 52 columns\n",
      "AEPNAATNYATEAMDSLKTQAIDLISQTWPVVTTVVVAGLVIRL...SKA COATB_BPIKE/30-81\n",
      "AEPNAATNYATEAMDSLKTQAIDLISQTWPVVTTVVVAGLVIKL...SRA Q9T0Q8_BPIKE/1-52\n",
      "DGTSTATSYATEAMNSLKTQATDLIDQTWPVVTSVAVAGLAIRL...SKA COATB_BPI22/32-83\n",
      "AEGDDP---AKAAFNSLQASATEYIGYAWAMVVVIVGATIGIKL...SKA COATB_BPM13/24-72\n",
      "AEGDDP---AKAAFDSLQASATEYIGYAWAMVVVIVGATIGIKL...SKA COATB_BPZJ2/1-49\n",
      "AEGDDP---AKAAFDSLQASATEYIGYAWAMVVVIVGATIGIKL...SKA Q9T0Q9_BPFD/1-49\n",
      "FAADDATSQAKAAFDSLTAQATEMSGYAWALVVLVVGATVGIKL...SRA COATB_BPIF1/22-73\n"
     ]
    }
   ],
   "source": [
    "print(alignment)"
   ]
  },
  {
   "cell_type": "code",
   "execution_count": 27,
   "id": "82451541",
   "metadata": {},
   "outputs": [
    {
     "name": "stdout",
     "output_type": "stream",
     "text": [
      "Alignment with 4 rows and 52 columns\n",
      "AEGDDP---AKAAFNSLQASATEYIGYAWAMVVVIVGATIGIKL...SKA COATB_BPM13/24-72\n",
      "AEGDDP---AKAAFDSLQASATEYIGYAWAMVVVIVGATIGIKL...SKA COATB_BPZJ2/1-49\n",
      "AEGDDP---AKAAFDSLQASATEYIGYAWAMVVVIVGATIGIKL...SKA Q9T0Q9_BPFD/1-49\n",
      "FAADDATSQAKAAFDSLTAQATEMSGYAWALVVLVVGATVGIKL...SRA COATB_BPIF1/22-73\n"
     ]
    }
   ],
   "source": [
    "print(alignment[3:7])"
   ]
  },
  {
   "cell_type": "code",
   "execution_count": 28,
   "id": "7b106c8a",
   "metadata": {},
   "outputs": [
    {
     "name": "stdout",
     "output_type": "stream",
     "text": [
      "T\n"
     ]
    }
   ],
   "source": [
    "print(alignment[2, 6])"
   ]
  },
  {
   "cell_type": "code",
   "execution_count": 29,
   "id": "139511f1",
   "metadata": {},
   "outputs": [
    {
     "name": "stdout",
     "output_type": "stream",
     "text": [
      "T\n"
     ]
    }
   ],
   "source": [
    "print(alignment[2].seq[6])"
   ]
  },
  {
   "cell_type": "code",
   "execution_count": 30,
   "id": "23a17181",
   "metadata": {},
   "outputs": [
    {
     "name": "stdout",
     "output_type": "stream",
     "text": [
      "TTT---T\n"
     ]
    }
   ],
   "source": [
    "print(alignment[:, 6])"
   ]
  },
  {
   "cell_type": "code",
   "execution_count": 31,
   "id": "449f41f4",
   "metadata": {},
   "outputs": [
    {
     "name": "stdout",
     "output_type": "stream",
     "text": [
      "Alignment with 3 rows and 6 columns\n",
      "AEGDDP COATB_BPM13/24-72\n",
      "AEGDDP COATB_BPZJ2/1-49\n",
      "AEGDDP Q9T0Q9_BPFD/1-49\n"
     ]
    }
   ],
   "source": [
    "print(alignment[3:6, :6])"
   ]
  },
  {
   "cell_type": "code",
   "execution_count": 32,
   "id": "120c422b",
   "metadata": {},
   "outputs": [
    {
     "name": "stdout",
     "output_type": "stream",
     "text": [
      "Alignment with 7 rows and 6 columns\n",
      "AEPNAA COATB_BPIKE/30-81\n",
      "AEPNAA Q9T0Q8_BPIKE/1-52\n",
      "DGTSTA COATB_BPI22/32-83\n",
      "AEGDDP COATB_BPM13/24-72\n",
      "AEGDDP COATB_BPZJ2/1-49\n",
      "AEGDDP Q9T0Q9_BPFD/1-49\n",
      "FAADDA COATB_BPIF1/22-73\n"
     ]
    }
   ],
   "source": [
    "print(alignment[:, :6])"
   ]
  },
  {
   "cell_type": "code",
   "execution_count": 33,
   "id": "47d2a4af",
   "metadata": {},
   "outputs": [
    {
     "name": "stdout",
     "output_type": "stream",
     "text": [
      "Alignment with 7 rows and 3 columns\n",
      "TNY COATB_BPIKE/30-81\n",
      "TNY Q9T0Q8_BPIKE/1-52\n",
      "TSY COATB_BPI22/32-83\n",
      "--- COATB_BPM13/24-72\n",
      "--- COATB_BPZJ2/1-49\n",
      "--- Q9T0Q9_BPFD/1-49\n",
      "TSQ COATB_BPIF1/22-73\n"
     ]
    }
   ],
   "source": [
    "print(alignment[:, 6:9])"
   ]
  },
  {
   "cell_type": "code",
   "execution_count": 34,
   "id": "67d5dbbc",
   "metadata": {},
   "outputs": [
    {
     "name": "stdout",
     "output_type": "stream",
     "text": [
      "Alignment with 7 rows and 43 columns\n",
      "ATEAMDSLKTQAIDLISQTWPVVTTVVVAGLVIRLFKKFSSKA COATB_BPIKE/30-81\n",
      "ATEAMDSLKTQAIDLISQTWPVVTTVVVAGLVIKLFKKFVSRA Q9T0Q8_BPIKE/1-52\n",
      "ATEAMNSLKTQATDLIDQTWPVVTSVAVAGLAIRLFKKFSSKA COATB_BPI22/32-83\n",
      "AKAAFNSLQASATEYIGYAWAMVVVIVGATIGIKLFKKFTSKA COATB_BPM13/24-72\n",
      "AKAAFDSLQASATEYIGYAWAMVVVIVGATIGIKLFKKFASKA COATB_BPZJ2/1-49\n",
      "AKAAFDSLQASATEYIGYAWAMVVVIVGATIGIKLFKKFTSKA Q9T0Q9_BPFD/1-49\n",
      "AKAAFDSLTAQATEMSGYAWALVVLVVGATVGIKLFKKFVSRA COATB_BPIF1/22-73\n"
     ]
    }
   ],
   "source": [
    "print(alignment[:, 9:])"
   ]
  },
  {
   "cell_type": "code",
   "execution_count": 35,
   "id": "5bf84363",
   "metadata": {},
   "outputs": [
    {
     "name": "stdout",
     "output_type": "stream",
     "text": [
      "Alignment with 7 rows and 49 columns\n",
      "AEPNAAATEAMDSLKTQAIDLISQTWPVVTTVVVAGLVIRLFKKFSSKA COATB_BPIKE/30-81\n",
      "AEPNAAATEAMDSLKTQAIDLISQTWPVVTTVVVAGLVIKLFKKFVSRA Q9T0Q8_BPIKE/1-52\n",
      "DGTSTAATEAMNSLKTQATDLIDQTWPVVTSVAVAGLAIRLFKKFSSKA COATB_BPI22/32-83\n",
      "AEGDDPAKAAFNSLQASATEYIGYAWAMVVVIVGATIGIKLFKKFTSKA COATB_BPM13/24-72\n",
      "AEGDDPAKAAFDSLQASATEYIGYAWAMVVVIVGATIGIKLFKKFASKA COATB_BPZJ2/1-49\n",
      "AEGDDPAKAAFDSLQASATEYIGYAWAMVVVIVGATIGIKLFKKFTSKA Q9T0Q9_BPFD/1-49\n",
      "FAADDAAKAAFDSLTAQATEMSGYAWALVVLVVGATVGIKLFKKFVSRA COATB_BPIF1/22-73\n"
     ]
    }
   ],
   "source": [
    "edited = alignment[:, :6] + alignment[:, 9:]\n",
    "print(edited)"
   ]
  },
  {
   "cell_type": "code",
   "execution_count": 36,
   "id": "219f91d2",
   "metadata": {},
   "outputs": [
    {
     "name": "stdout",
     "output_type": "stream",
     "text": [
      "Alignment with 7 rows and 49 columns\n",
      "DGTSTAATEAMNSLKTQATDLIDQTWPVVTSVAVAGLAIRLFKKFSSKA COATB_BPI22/32-83\n",
      "FAADDAAKAAFDSLTAQATEMSGYAWALVVLVVGATVGIKLFKKFVSRA COATB_BPIF1/22-73\n",
      "AEPNAAATEAMDSLKTQAIDLISQTWPVVTTVVVAGLVIRLFKKFSSKA COATB_BPIKE/30-81\n",
      "AEGDDPAKAAFNSLQASATEYIGYAWAMVVVIVGATIGIKLFKKFTSKA COATB_BPM13/24-72\n",
      "AEGDDPAKAAFDSLQASATEYIGYAWAMVVVIVGATIGIKLFKKFASKA COATB_BPZJ2/1-49\n",
      "AEPNAAATEAMDSLKTQAIDLISQTWPVVTTVVVAGLVIKLFKKFVSRA Q9T0Q8_BPIKE/1-52\n",
      "AEGDDPAKAAFDSLQASATEYIGYAWAMVVVIVGATIGIKLFKKFTSKA Q9T0Q9_BPFD/1-49\n"
     ]
    }
   ],
   "source": [
    "edited.sort()\n",
    "print(edited)"
   ]
  },
  {
   "cell_type": "code",
   "execution_count": 37,
   "id": "4d6ede67",
   "metadata": {},
   "outputs": [
    {
     "name": "stdout",
     "output_type": "stream",
     "text": [
      "Array shape 7 by 52\n"
     ]
    }
   ],
   "source": [
    "import numpy as np\n",
    "from Bio import AlignIO\n",
    "alignment = AlignIO.read(\"PF05371_seed.sth\", \"stockholm\")\n",
    "align_array = np.array(alignment)\n",
    "print(\"Array shape %i by %i\" % align_array.shape)"
   ]
  },
  {
   "cell_type": "code",
   "execution_count": 38,
   "id": "70142f45",
   "metadata": {},
   "outputs": [
    {
     "data": {
      "text/plain": [
       "array([['A', 'E', 'P', 'N', 'A', 'A', 'T', 'N', 'Y', 'A'],\n",
       "       ['A', 'E', 'P', 'N', 'A', 'A', 'T', 'N', 'Y', 'A'],\n",
       "       ['D', 'G', 'T', 'S', 'T', 'A', 'T', 'S', 'Y', 'A'],\n",
       "       ['A', 'E', 'G', 'D', 'D', 'P', '-', '-', '-', 'A'],\n",
       "       ['A', 'E', 'G', 'D', 'D', 'P', '-', '-', '-', 'A'],\n",
       "       ['A', 'E', 'G', 'D', 'D', 'P', '-', '-', '-', 'A'],\n",
       "       ['F', 'A', 'A', 'D', 'D', 'A', 'T', 'S', 'Q', 'A']], dtype='<U1')"
      ]
     },
     "execution_count": 38,
     "metadata": {},
     "output_type": "execute_result"
    }
   ],
   "source": [
    "align_array[:, :10]"
   ]
  },
  {
   "cell_type": "code",
   "execution_count": 39,
   "id": "aefe5d10",
   "metadata": {},
   "outputs": [
    {
     "name": "stdout",
     "output_type": "stream",
     "text": [
      "Alignment with 4 rows and 7 columns\n",
      "ACTCCTA seq1\n",
      "AAT-CTA seq2\n",
      "CCTACT- seq3\n",
      "TCTCCTC seq4\n"
     ]
    }
   ],
   "source": [
    "from Bio.Seq import Seq\n",
    "from Bio.SeqRecord import SeqRecord\n",
    "from Bio.Align import MultipleSeqAlignment\n",
    "msa = MultipleSeqAlignment(\n",
    "    [\n",
    "        SeqRecord(Seq(\"ACTCCTA\"), id=\"seq1\"),\n",
    "        SeqRecord(Seq(\"AAT-CTA\"), id=\"seq2\"),\n",
    "        SeqRecord(Seq(\"CCTACT-\"), id=\"seq3\"),\n",
    "        SeqRecord(Seq(\"TCTCCTC\"), id=\"seq4\"),\n",
    "    ]\n",
    ")\n",
    "print(msa)"
   ]
  },
  {
   "cell_type": "code",
   "execution_count": 40,
   "id": "f74377c8",
   "metadata": {},
   "outputs": [
    {
     "name": "stdout",
     "output_type": "stream",
     "text": [
      "    A    C    T\n",
      "A 2.0  4.5  1.0\n",
      "C 4.5 10.0  0.5\n",
      "T 1.0  0.5 12.0\n",
      "\n"
     ]
    }
   ],
   "source": [
    "substitutions = msa.substitutions\n",
    "print(substitutions)"
   ]
  },
  {
   "cell_type": "code",
   "execution_count": 41,
   "id": "90b23ec5",
   "metadata": {},
   "outputs": [
    {
     "name": "stdout",
     "output_type": "stream",
     "text": [
      "    A    T    C   G\n",
      "A 2.0  1.0  4.5 0.0\n",
      "T 1.0 12.0  0.5 0.0\n",
      "C 4.5  0.5 10.0 0.0\n",
      "G 0.0  0.0  0.0 0.0\n",
      "\n"
     ]
    }
   ],
   "source": [
    "m = substitutions.select(\"ATCG\")\n",
    "print(m)"
   ]
  },
  {
   "cell_type": "code",
   "execution_count": 42,
   "id": "bdd66fc2",
   "metadata": {},
   "outputs": [],
   "source": [
    "from Bio.Align import AlignInfo\n",
    "summary_align = AlignInfo.SummaryInfo(msa)"
   ]
  },
  {
   "cell_type": "code",
   "execution_count": 43,
   "id": "aa774fd7",
   "metadata": {},
   "outputs": [
    {
     "name": "stderr",
     "output_type": "stream",
     "text": [
      "/opt/anaconda3/lib/python3.12/site-packages/Bio/Align/AlignInfo.py:62: BiopythonDeprecationWarning: The `dumb_consensus` method is deprecated and will be removed in a future release of Biopython. As an alternative, you can convert the multiple sequence alignment object to a new-style Alignment object by via its `.alignment` property, and then create a Motif object. You can then use the `.consensus` or `.degenerate_consensus` property of the Motif object to get a consensus sequence. For more control over how the consensus sequence is calculated, you can call the `calculate_consensus` method on the `.counts` property of the Motif object. This is an example for a multiple sequence alignment `msa` of DNA nucleotides:\n",
      ">>> from Bio.Seq import Seq\n",
      ">>> from Bio.SeqRecord import SeqRecord\n",
      ">>> from Bio.Align import MultipleSeqAlignment\n",
      ">>> from Bio.Align.AlignInfo import SummaryInfo\n",
      ">>> msa = MultipleSeqAlignment([SeqRecord(Seq('ACGT')),\n",
      "...                             SeqRecord(Seq('ATGT')),\n",
      "...                             SeqRecord(Seq('ATGT'))])\n",
      ">>> summary = SummaryInfo(msa)\n",
      ">>> dumb_consensus = summary.dumb_consensus(ambiguous='N')\n",
      ">>> print(dumb_consensus)\n",
      "ANGT\n",
      ">>> alignment = msa.alignment\n",
      ">>> from Bio.motifs import Motif\n",
      ">>> motif = Motif('ACGT', alignment)\n",
      ">>> print(motif.consensus)\n",
      "ATGT\n",
      ">>> print(motif.degenerate_consensus)\n",
      "AYGT\n",
      ">>> counts = motif.counts\n",
      ">>> consensus = counts.calculate_consensus(identity=0.7)\n",
      ">>> print(consensus)\n",
      "ANGT\n",
      "\n",
      "If your multiple sequence alignment object was obtained using Bio.AlignIO, then you can obtain a new-style Alignment object directly by using Bio.Align.read instead of Bio.AlignIO.read, or Bio.Align.parse instead of Bio.AlignIO.parse.\n",
      "  warnings.warn(\n"
     ]
    },
    {
     "data": {
      "text/plain": [
       "Seq('XCTXCTX')"
      ]
     },
     "execution_count": 43,
     "metadata": {},
     "output_type": "execute_result"
    }
   ],
   "source": [
    "consensus = summary_align.dumb_consensus()\n",
    "consensus"
   ]
  },
  {
   "cell_type": "code",
   "execution_count": 44,
   "id": "a4acc8b5",
   "metadata": {},
   "outputs": [],
   "source": [
    "alignment = msa.alignment"
   ]
  },
  {
   "cell_type": "code",
   "execution_count": 45,
   "id": "3508049b",
   "metadata": {},
   "outputs": [],
   "source": [
    "from Bio.motifs import Motif\n",
    "motif = Motif(\"ACGT\", alignment)"
   ]
  },
  {
   "cell_type": "code",
   "execution_count": 46,
   "id": "dfcfaa4f",
   "metadata": {},
   "outputs": [
    {
     "data": {
      "text/plain": [
       "Seq('ACTCCTA')"
      ]
     },
     "execution_count": 46,
     "metadata": {},
     "output_type": "execute_result"
    }
   ],
   "source": [
    "motif.consensus"
   ]
  },
  {
   "cell_type": "code",
   "execution_count": 47,
   "id": "7b5a2092",
   "metadata": {},
   "outputs": [
    {
     "data": {
      "text/plain": [
       "'NCTNCTN'"
      ]
     },
     "execution_count": 47,
     "metadata": {},
     "output_type": "execute_result"
    }
   ],
   "source": [
    "motif.counts.calculate_consensus(identity=0.7)"
   ]
  },
  {
   "cell_type": "code",
   "execution_count": 48,
   "id": "546ac5bb",
   "metadata": {},
   "outputs": [
    {
     "name": "stdout",
     "output_type": "stream",
     "text": [
      "Alignment with 4 rows and 7 columns\n",
      "ACTCCTA seq1\n",
      "AAT-CTA seq2\n",
      "CCTACT- seq3\n",
      "TCTCCTC seq4\n"
     ]
    }
   ],
   "source": [
    "print(msa)"
   ]
  },
  {
   "cell_type": "code",
   "execution_count": 49,
   "id": "4aea2fcd",
   "metadata": {},
   "outputs": [
    {
     "name": "stdout",
     "output_type": "stream",
     "text": [
      "    A   C   T\n",
      "X  2.0 1.0 1.0\n",
      "C  1.0 3.0 0.0\n",
      "T  0.0 0.0 4.0\n",
      "X  1.0 2.0 0.0\n",
      "C  0.0 4.0 0.0\n",
      "T  0.0 0.0 4.0\n",
      "X  2.0 1.0 0.0\n",
      "\n"
     ]
    },
    {
     "name": "stderr",
     "output_type": "stream",
     "text": [
      "/opt/anaconda3/lib/python3.12/site-packages/Bio/Align/AlignInfo.py:364: BiopythonDeprecationWarning: The `pos_specific_score_matrix` method is deprecated and will be removed in a future release of Biopython. As an alternative, you can convert the multiple sequence alignment object to a new-style Alignment object by via its `.alignment` property, and then create a Motif object. For example, for a multiple sequence alignment `msa` of DNA nucleotides, you would do: \n",
      ">>> alignment = msa.alignment\n",
      ">>> from Bio.motifs import Motif\n",
      ">>> motif = Motif('ACGT', alignment)\n",
      ">>> counts = motif.counts\n",
      "\n",
      "The `counts` object contains the same information as the PSSM returned by `pos_specific_score_matrix`, but note that the indices are reversed:\n",
      "\n",
      ">>> counts[letter][i] == pssm[index][letter]\n",
      "True\n",
      "\n",
      "If your multiple sequence alignment object was obtained using Bio.AlignIO, then you can obtain a new-style Alignment object directly by using Bio.Align.read instead of Bio.AlignIO.read, or Bio.Align.parse instead of Bio.AlignIO.parse.\n",
      "  warnings.warn(\n",
      "/opt/anaconda3/lib/python3.12/site-packages/Bio/Align/AlignInfo.py:718: BiopythonDeprecationWarning: The `PSSM` class is deprecated and will be removed in a future release of Biopython. As an alternative, you can convert the multiple sequence alignment object to a new-style Alignment object by via its `.alignment` property, and then create a Motif object. For example, for a multiple sequence alignment `msa` of DNA nucleotides, you would do: \n",
      ">>> alignment = msa.alignment\n",
      ">>> from Bio.motifs import Motif\n",
      ">>> motif = Motif('ACGT', alignment)\n",
      ">>> counts = motif.counts\n",
      "\n",
      "The `counts` object contains the same information as the PSSM returned by `pos_specific_score_matrix`, but note that the indices are reversed:\n",
      "\n",
      ">>> counts[letter][i] == pssm[index][letter]\n",
      "True\n",
      "\n",
      "If your multiple sequence alignment object was obtained using Bio.AlignIO, then you can obtain a new-style Alignment object directly by using Bio.Align.read instead of Bio.AlignIO.read, or Bio.Align.parse instead of Bio.AlignIO.parse.\n",
      "  warnings.warn(\n"
     ]
    }
   ],
   "source": [
    "my_pssm = summary_align.pos_specific_score_matrix(consensus, chars_to_ignore=[\"N\"])\n",
    "print(my_pssm)"
   ]
  },
  {
   "cell_type": "code",
   "execution_count": 50,
   "id": "1eeac5d3",
   "metadata": {},
   "outputs": [
    {
     "name": "stdout",
     "output_type": "stream",
     "text": [
      "    A   C   T\n",
      "A  2.0 1.0 1.0\n",
      "A  1.0 3.0 0.0\n",
      "T  0.0 0.0 4.0\n",
      "-  1.0 2.0 0.0\n",
      "C  0.0 4.0 0.0\n",
      "T  0.0 0.0 4.0\n",
      "A  2.0 1.0 0.0\n",
      "\n"
     ]
    }
   ],
   "source": [
    "second_seq = msa[1]\n",
    "my_pssm = summary_align.pos_specific_score_matrix(second_seq, chars_to_ignore=[\"N\"])\n",
    "print(my_pssm)"
   ]
  },
  {
   "cell_type": "code",
   "execution_count": 51,
   "id": "07a7d88a",
   "metadata": {},
   "outputs": [
    {
     "name": "stdout",
     "output_type": "stream",
     "text": [
      "4.0\n"
     ]
    }
   ],
   "source": [
    "print(my_pssm[5][\"T\"])"
   ]
  },
  {
   "cell_type": "code",
   "execution_count": 52,
   "id": "2fac3a88",
   "metadata": {},
   "outputs": [],
   "source": [
    "alignment = msa.alignment"
   ]
  },
  {
   "cell_type": "code",
   "execution_count": 53,
   "id": "f7871234",
   "metadata": {},
   "outputs": [],
   "source": [
    "from Bio.motifs import Motif\n",
    "motif = Motif(\"ACGT\", alignment)"
   ]
  },
  {
   "cell_type": "code",
   "execution_count": 54,
   "id": "fdc77091",
   "metadata": {},
   "outputs": [
    {
     "name": "stdout",
     "output_type": "stream",
     "text": [
      "        0      1      2      3      4      5      6\n",
      "A:   2.00   1.00   0.00   1.00   0.00   0.00   2.00\n",
      "C:   1.00   3.00   0.00   2.00   4.00   0.00   1.00\n",
      "G:   0.00   0.00   0.00   0.00   0.00   0.00   0.00\n",
      "T:   1.00   0.00   4.00   0.00   0.00   4.00   0.00\n",
      "\n"
     ]
    }
   ],
   "source": [
    "counts = motif.counts\n",
    "print(counts)"
   ]
  },
  {
   "cell_type": "code",
   "execution_count": 55,
   "id": "4606e8ab",
   "metadata": {},
   "outputs": [
    {
     "name": "stdout",
     "output_type": "stream",
     "text": [
      "4.0\n"
     ]
    }
   ],
   "source": [
    "print(counts[\"T\"][5])"
   ]
  },
  {
   "cell_type": "code",
   "execution_count": 56,
   "id": "84dbbb21",
   "metadata": {},
   "outputs": [
    {
     "name": "stderr",
     "output_type": "stream",
     "text": [
      "/opt/anaconda3/lib/python3.12/site-packages/Bio/Align/AlignInfo.py:474: BiopythonDeprecationWarning: The `information_content` method and `ic_vector` attribute of the `SummaryInfo` class are deprecated and will be removed in a future release of Biopython. As an alternative, you can convert the multiple sequence alignment object to a new-style Alignment object by via its `.alignment` property, and use the `information_content` attribute of the Alignment obecjt. For example, for a multiple sequence alignment `msa` of DNA nucleotides, you would do: \n",
      ">>> alignment = msa.alignment\n",
      ">>> from Bio.motifs import Motif\n",
      ">>> motif = Motif('ACGT', alignment)\n",
      ">>> information_content = motif.information_content\n",
      "\n",
      "The `information_content` object contains the same values as the `ic_vector` attribute of the `SummaryInfo` object. Its sum is equal to the value return by the `information_content` method. \n",
      "If your multiple sequence alignment object was obtained using Bio.AlignIO, then you can obtain a new-style Alignment object directly by using Bio.Align.read instead of Bio.AlignIO.read, or Bio.Align.parse instead of Bio.AlignIO.parse.\n",
      "  warnings.warn(\n"
     ]
    },
    {
     "data": {
      "text/plain": [
       "6.391064729205008"
      ]
     },
     "execution_count": 56,
     "metadata": {},
     "output_type": "execute_result"
    }
   ],
   "source": [
    "e_freq_table = {\"A\": 0.3, \"G\": 0.2, \"T\": 0.3, \"C\": 0.2}\n",
    "info_content = summary_align.information_content(\n",
    "    2, 6, e_freq_table=e_freq_table, chars_to_ignore=[\"N\"]\n",
    ")\n",
    "info_content"
   ]
  },
  {
   "cell_type": "code",
   "execution_count": 57,
   "id": "c5c9a5d0",
   "metadata": {},
   "outputs": [
    {
     "data": {
      "text/plain": [
       "1.9239021877208067"
      ]
     },
     "execution_count": 57,
     "metadata": {},
     "output_type": "execute_result"
    }
   ],
   "source": [
    "info_content = summary_align.information_content(\n",
    "    2, 6, e_freq_table=e_freq_table, log_base=10, chars_to_ignore=[\"N\"]\n",
    ")\n",
    "info_content"
   ]
  },
  {
   "cell_type": "code",
   "execution_count": 58,
   "id": "ac72ecc4",
   "metadata": {},
   "outputs": [
    {
     "data": {
      "text/plain": [
       "4.299651084617768"
      ]
     },
     "execution_count": 58,
     "metadata": {},
     "output_type": "execute_result"
    }
   ],
   "source": [
    "info_content = summary_align.information_content(\n",
    "    2, 6, e_freq_table=e_freq_table, chars_to_ignore=[\"N\", \"-\"], pseudo_count=1\n",
    ")\n",
    "info_content  "
   ]
  },
  {
   "cell_type": "code",
   "execution_count": 59,
   "id": "8bc8a50b",
   "metadata": {},
   "outputs": [
    {
     "data": {
      "text/plain": [
       "Bio.Align.MultipleSeqAlignment"
      ]
     },
     "execution_count": 59,
     "metadata": {},
     "output_type": "execute_result"
    }
   ],
   "source": [
    "type(msa)"
   ]
  },
  {
   "cell_type": "code",
   "execution_count": 60,
   "id": "77ff3647",
   "metadata": {},
   "outputs": [
    {
     "name": "stdout",
     "output_type": "stream",
     "text": [
      "Alignment with 4 rows and 7 columns\n",
      "ACTCCTA seq1\n",
      "AAT-CTA seq2\n",
      "CCTACT- seq3\n",
      "TCTCCTC seq4\n"
     ]
    }
   ],
   "source": [
    "print(msa)"
   ]
  },
  {
   "cell_type": "code",
   "execution_count": 61,
   "id": "b250de4d",
   "metadata": {},
   "outputs": [
    {
     "data": {
      "text/plain": [
       "Bio.Align.Alignment"
      ]
     },
     "execution_count": 61,
     "metadata": {},
     "output_type": "execute_result"
    }
   ],
   "source": [
    "alignment = msa.alignment\n",
    "type(alignment)"
   ]
  },
  {
   "cell_type": "code",
   "execution_count": 62,
   "id": "062b8a58",
   "metadata": {},
   "outputs": [
    {
     "name": "stdout",
     "output_type": "stream",
     "text": [
      "seq1              0 ACTCCTA 7\n",
      "seq2              0 AAT-CTA 6\n",
      "seq3              0 CCTACT- 6\n",
      "seq4              0 TCTCCTC 7\n",
      "\n"
     ]
    }
   ],
   "source": [
    "print(alignment)"
   ]
  },
  {
   "cell_type": "code",
   "execution_count": 63,
   "id": "c38339a4",
   "metadata": {},
   "outputs": [],
   "source": [
    "from Bio import AlignIO\n",
    "filename = \"protein.aln\"\n",
    "msa = AlignIO.read(filename, \"clustal\")"
   ]
  },
  {
   "cell_type": "code",
   "execution_count": 64,
   "id": "8346daef",
   "metadata": {},
   "outputs": [],
   "source": [
    "observed_frequencies = msa.substitutions"
   ]
  },
  {
   "cell_type": "code",
   "execution_count": 65,
   "id": "b91c731c",
   "metadata": {},
   "outputs": [
    {
     "name": "stdout",
     "output_type": "stream",
     "text": [
      "       D      E      H      K      R\n",
      "D 2360.0  255.5    7.5    0.5   25.0\n",
      "E  255.5 3305.0   16.5   27.0    2.0\n",
      "H    7.5   16.5 1235.0   16.0    8.5\n",
      "K    0.5   27.0   16.0 3218.0  116.5\n",
      "R   25.0    2.0    8.5  116.5 2079.0\n",
      "\n"
     ]
    }
   ],
   "source": [
    "observed_frequencies = observed_frequencies.select(\"DEHKR\")\n",
    "print(observed_frequencies)"
   ]
  },
  {
   "cell_type": "code",
   "execution_count": 66,
   "id": "f5a5b053",
   "metadata": {},
   "outputs": [],
   "source": [
    "import numpy as np\n",
    "observed_frequencies /= np.sum(observed_frequencies)"
   ]
  },
  {
   "cell_type": "code",
   "execution_count": 67,
   "id": "4f5e79e3",
   "metadata": {},
   "outputs": [
    {
     "name": "stdout",
     "output_type": "stream",
     "text": [
      "D 0.2015\n",
      "E 0.2743\n",
      "H 0.0976\n",
      "K 0.2569\n",
      "R 0.1697\n",
      "\n"
     ]
    }
   ],
   "source": [
    "residue_frequencies = np.sum(observed_frequencies, 0)\n",
    "print(residue_frequencies.format(\"%.4f\"))"
   ]
  },
  {
   "cell_type": "code",
   "execution_count": 68,
   "id": "a77acd00",
   "metadata": {},
   "outputs": [
    {
     "data": {
      "text/plain": [
       "True"
      ]
     },
     "execution_count": 68,
     "metadata": {},
     "output_type": "execute_result"
    }
   ],
   "source": [
    "sum(residue_frequencies) == 1.0"
   ]
  },
  {
   "cell_type": "code",
   "execution_count": 69,
   "id": "70e22529",
   "metadata": {},
   "outputs": [
    {
     "name": "stdout",
     "output_type": "stream",
     "text": [
      "       D      E      H      K      R\n",
      "D 0.0406 0.0553 0.0197 0.0518 0.0342\n",
      "E 0.0553 0.0752 0.0268 0.0705 0.0465\n",
      "H 0.0197 0.0268 0.0095 0.0251 0.0166\n",
      "K 0.0518 0.0705 0.0251 0.0660 0.0436\n",
      "R 0.0342 0.0465 0.0166 0.0436 0.0288\n",
      "\n"
     ]
    }
   ],
   "source": [
    "expected_frequencies = np.dot(\n",
    "    residue_frequencies[:, None], residue_frequencies[None, :]\n",
    ")\n",
    "print(expected_frequencies.format(\"%.4f\"))"
   ]
  },
  {
   "cell_type": "code",
   "execution_count": 70,
   "id": "54a06ed4",
   "metadata": {},
   "outputs": [
    {
     "name": "stdout",
     "output_type": "stream",
     "text": [
      "      D    E    H     K    R\n",
      "D   2.1 -1.5 -5.1 -10.4 -4.2\n",
      "E  -1.5  1.7 -4.4  -5.1 -8.3\n",
      "H  -5.1 -4.4  3.3  -4.4 -4.7\n",
      "K -10.4 -5.1 -4.4   1.9 -2.3\n",
      "R  -4.2 -8.3 -4.7  -2.3  2.5\n",
      "\n"
     ]
    }
   ],
   "source": [
    "m = np.log2(observed_frequencies / expected_frequencies)\n",
    "print(m)"
   ]
  },
  {
   "cell_type": "code",
   "execution_count": 71,
   "id": "d6a55f6a",
   "metadata": {},
   "outputs": [
    {
     "name": "stdout",
     "output_type": "stream",
     "text": [
      "target            0 DEHEK 5\n",
      "                  0 |.|.| 5\n",
      "query             0 DHHKK 5\n",
      "\n"
     ]
    }
   ],
   "source": [
    "from Bio.Align import PairwiseAligner\n",
    "aligner = PairwiseAligner()\n",
    "aligner.substitution_matrix = m\n",
    "aligner.gap_score = -3.0\n",
    "alignments = aligner.align(\"DEHEK\", \"DHHKK\")\n",
    "print(alignments[0])"
   ]
  },
  {
   "cell_type": "code",
   "execution_count": 72,
   "id": "fa6e211a",
   "metadata": {},
   "outputs": [
    {
     "name": "stdout",
     "output_type": "stream",
     "text": [
      "-2.18\n"
     ]
    }
   ],
   "source": [
    "print(\"%.2f\" % alignments.score)"
   ]
  },
  {
   "cell_type": "code",
   "execution_count": 73,
   "id": "7fd8673e",
   "metadata": {},
   "outputs": [
    {
     "name": "stdout",
     "output_type": "stream",
     "text": [
      "-2.18\n"
     ]
    }
   ],
   "source": [
    "score = m[\"D\", \"D\"] + m[\"E\", \"H\"] + m[\"H\", \"H\"] + m[\"E\", \"K\"] + m[\"K\", \"K\"]\n",
    "print(\"%.2f\" % score)"
   ]
  },
  {
   "cell_type": "code",
   "execution_count": 74,
   "id": "1d868029",
   "metadata": {},
   "outputs": [],
   "source": [
    "import subprocess\n",
    "cmd = \"/opt/homebrew/bin/clustalw2 -infile=opuntia.fasta\"\n",
    "results = subprocess.run(cmd, shell=True, stdout=subprocess.PIPE, text=True)\n",
    "import subprocess"
   ]
  },
  {
   "cell_type": "code",
   "execution_count": 75,
   "id": "70cd380a",
   "metadata": {},
   "outputs": [],
   "source": [
    "import os\n",
    "clustalw_exe = r\"/opt/homebrew/bin/clustalw\"\n",
    "assert os.path.isfile(clustalw_exe), \"Clustal W executable missing\"\n",
    "cmd = clustalw_exe + \" -infile=opuntia.fasta\"\n",
    "results = subprocess.run(cmd, shell=True, stdout=subprocess.PIPE, text=True)"
   ]
  },
  {
   "cell_type": "code",
   "execution_count": 76,
   "id": "622895c4",
   "metadata": {},
   "outputs": [
    {
     "name": "stdout",
     "output_type": "stream",
     "text": [
      "Alignment with 7 rows and 906 columns\n",
      "TATACATTAAAGAAGGGGGATGCGGATAAATGGAAAGGCGAAAG...AGA gi|6273285|gb|AF191659.1|AF191\n",
      "TATACATTAAAGAAGGGGGATGCGGATAAATGGAAAGGCGAAAG...AGA gi|6273284|gb|AF191658.1|AF191\n",
      "TATACATTAAAGAAGGGGGATGCGGATAAATGGAAAGGCGAAAG...AGA gi|6273287|gb|AF191661.1|AF191\n",
      "TATACATAAAAGAAGGGGGATGCGGATAAATGGAAAGGCGAAAG...AGA gi|6273286|gb|AF191660.1|AF191\n",
      "TATACATTAAAGGAGGGGGATGCGGATAAATGGAAAGGCGAAAG...AGA gi|6273290|gb|AF191664.1|AF191\n",
      "TATACATTAAAGGAGGGGGATGCGGATAAATGGAAAGGCGAAAG...AGA gi|6273289|gb|AF191663.1|AF191\n",
      "TATACATTAAAGGAGGGGGATGCGGATAAATGGAAAGGCGAAAG...AGA gi|6273291|gb|AF191665.1|AF191\n"
     ]
    }
   ],
   "source": [
    "from Bio import AlignIO\n",
    "align = AlignIO.read(\"opuntia.aln\", \"clustal\")\n",
    "print(align)"
   ]
  },
  {
   "cell_type": "code",
   "execution_count": 77,
   "id": "58584c73",
   "metadata": {},
   "outputs": [
    {
     "name": "stdout",
     "output_type": "stream",
     "text": [
      "                             _______________ gi|6273291|gb|AF191665.1|AF191665\n",
      "  __________________________|\n",
      " |                          |   ______ gi|6273290|gb|AF191664.1|AF191664\n",
      " |                          |__|\n",
      " |                             |_____ gi|6273289|gb|AF191663.1|AF191663\n",
      " |\n",
      "_|_________________ gi|6273287|gb|AF191661.1|AF191661\n",
      " |\n",
      " |__________ gi|6273286|gb|AF191660.1|AF191660\n",
      " |\n",
      " |    __ gi|6273285|gb|AF191659.1|AF191659\n",
      " |___|\n",
      "     | gi|6273284|gb|AF191658.1|AF191658\n",
      "\n"
     ]
    }
   ],
   "source": [
    "from Bio import Phylo\n",
    "tree = Phylo.read(\"opuntia.dnd\", \"newick\")\n",
    "Phylo.draw_ascii(tree)"
   ]
  },
  {
   "cell_type": "code",
   "execution_count": 78,
   "id": "2c286083",
   "metadata": {},
   "outputs": [
    {
     "name": "stderr",
     "output_type": "stream",
     "text": [
      "\n",
      "muscle 5.2.osxarm64 [-]  8.6Gb RAM, 8 cores\n",
      "Built May 28 2022 23:34:46\n",
      "(C) Copyright 2004-2021 Robert C. Edgar.\n",
      "https://drive5.com\n",
      "\n",
      "Input: 7 seqs, avg length 897, max 902\n",
      "\n",
      "00:00 2.5Mb  CPU has 8 cores, running 8 threads\n",
      "00:03 43Mb    100.0% Calc posteriors\n",
      "00:03 66Mb    100.0% Consistency (1/2)\n",
      "00:03 76Mb    100.0% Consistency (2/2)\n",
      "00:03 76Mb    100.0% UPGMA5           \n",
      "00:04 37Mb    100.0% Refining\n"
     ]
    }
   ],
   "source": [
    "import subprocess\n",
    "cmd = \"/opt/homebrew/bin/muscle -align opuntia.fasta -output opuntia.txt\"\n",
    "results = subprocess.run(cmd, shell=True, stdout=subprocess.PIPE, text=True)"
   ]
  },
  {
   "cell_type": "code",
   "execution_count": 79,
   "id": "df6d3e94",
   "metadata": {},
   "outputs": [
    {
     "name": "stdout",
     "output_type": "stream",
     "text": [
      "Alignment with 7 rows and 906 columns\n",
      "TATACATTAAAGGAGGGGGATGCGGATAAATGGAAAGGCGAAAG...AGA gi|6273290|gb|AF191664.1|AF191664\n",
      "TATACATTAAAGGAGGGGGATGCGGATAAATGGAAAGGCGAAAG...AGA gi|6273291|gb|AF191665.1|AF191665\n",
      "TATACATTAAAGGAGGGGGATGCGGATAAATGGAAAGGCGAAAG...AGA gi|6273289|gb|AF191663.1|AF191663\n",
      "TATACATTAAAGAAGGGGGATGCGGATAAATGGAAAGGCGAAAG...AGA gi|6273284|gb|AF191658.1|AF191658\n",
      "TATACATAAAAGAAGGGGGATGCGGATAAATGGAAAGGCGAAAG...AGA gi|6273286|gb|AF191660.1|AF191660\n",
      "TATACATTAAAGAAGGGGGATGCGGATAAATGGAAAGGCGAAAG...AGA gi|6273287|gb|AF191661.1|AF191661\n",
      "TATACATTAAAGAAGGGGGATGCGGATAAATGGAAAGGCGAAAG...AGA gi|6273285|gb|AF191659.1|AF191659\n"
     ]
    }
   ],
   "source": [
    "from Bio import AlignIO\n",
    "align = AlignIO.read(\"opuntia.txt\", \"fasta\")\n",
    "print(align)"
   ]
  },
  {
   "cell_type": "code",
   "execution_count": 80,
   "id": "258b488d",
   "metadata": {},
   "outputs": [
    {
     "name": "stdout",
     "output_type": "stream",
     "text": [
      "\n",
      "Needleman-Wunsch global alignment of two sequences\n",
      "\n"
     ]
    }
   ],
   "source": [
    "import sys\n",
    "import subprocess\n",
    "cmd = \"/opt/homebrew/bin/needle -outfile=needle.txt -asequence=alpha.faa -bsequence=beta.faa -gapopen=10 -gapextend=0.5\"\n",
    "results = subprocess.run(\n",
    "    cmd,\n",
    "    stdout=subprocess.PIPE,\n",
    "    stderr=subprocess.PIPE,\n",
    "    text=True,\n",
    "    shell=(sys.platform != \"win32\"),\n",
    ")\n",
    "print(results.stdout)\n",
    "\n",
    "print(results.stderr)"
   ]
  },
  {
   "cell_type": "code",
   "execution_count": 81,
   "id": "166c5ae0",
   "metadata": {},
   "outputs": [
    {
     "name": "stdout",
     "output_type": "stream",
     "text": [
      "Alignment with 2 rows and 149 columns\n",
      "MV-LSPADKTNVKAAWGKVGAHAGEYGAEALERMFLSFPTTKTY...KYR HBA_HUMAN\n",
      "MVHLTPEEKSAVTALWGKV--NVDEVGGEALGRLLVVYPWTQRF...KYH HBB_HUMAN\n"
     ]
    }
   ],
   "source": [
    "from Bio import AlignIO\n",
    "align = AlignIO.read(\"needle.txt\", \"emboss\")\n",
    "print(align)"
   ]
  },
  {
   "cell_type": "code",
   "execution_count": 82,
   "id": "ae184aaf",
   "metadata": {},
   "outputs": [
    {
     "name": "stdout",
     "output_type": "stream",
     "text": [
      "Alignment with 2 rows and 149 columns\n",
      "MV-LSPADKTNVKAAWGKVGAHAGEYGAEALERMFLSFPTTKTY...KYR HBA_HUMAN\n",
      "MVHLTPEEKSAVTALWGKV--NVDEVGGEALGRLLVVYPWTQRF...KYH HBB_HUMAN\n"
     ]
    }
   ],
   "source": [
    "cmd = \"/opt/homebrew/bin/needle -outfile=stdout -asequence=alpha.faa -bsequence=beta.faa -gapopen=10 -gapextend=0.5\"\n",
    "child = subprocess.Popen(\n",
    "    cmd,\n",
    "    stdout=subprocess.PIPE,\n",
    "    stderr=subprocess.PIPE,\n",
    "    text=True,\n",
    "    shell=(sys.platform != \"win32\"),\n",
    ")\n",
    "align = AlignIO.read(child.stdout, \"emboss\")\n",
    "print(align)"
   ]
  }
 ],
 "metadata": {
  "kernelspec": {
   "display_name": "base",
   "language": "python",
   "name": "python3"
  },
  "language_info": {
   "codemirror_mode": {
    "name": "ipython",
    "version": 3
   },
   "file_extension": ".py",
   "mimetype": "text/x-python",
   "name": "python",
   "nbconvert_exporter": "python",
   "pygments_lexer": "ipython3",
   "version": "3.12.7"
  }
 },
 "nbformat": 4,
 "nbformat_minor": 5
}
